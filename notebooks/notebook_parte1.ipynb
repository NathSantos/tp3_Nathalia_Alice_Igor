{
 "cells": [
  {
   "cell_type": "markdown",
   "metadata": {},
   "source": [
    "***\n",
    "## Parte I\n",
    "\n",
    "Esta primeira parte do trabalho tem dois objetivos principais. O primeiro é verificar alguns parâmetros do\n",
    "hardware e do software utilizado e o segundo é que os estudantes preparem e se familiarizar com o\n",
    "ambiente do PostgreSQL\n",
    "\n",
    "- _Alice Teles Lucena_\n",
    "- _Igor de Souza Lima_\n",
    "- _Nathália Rodrigues Machado dos Santos_"
   ]
  },
  {
   "cell_type": "markdown",
   "metadata": {},
   "source": [
    "--------------------------------------------\n",
    "### Tarefa 1 – Instalação do PostgreSQL\n",
    "\n",
    "A primeira tarefa deste trabalho consiste na instalação do PostgreSQL.\n",
    "As fontes e as instruções de instalação estão em: http://www.postgresql.org.\n",
    "\n",
    "__Entrega:__ Deve ser apresentada saída do log de instalação.\n",
    "\n",
    "<span style=\"color:orange\">__Resposta:__</span> O postgresql está sendo instalado no próprio Dockerfile. Execute a célula a seguir para verificar a versão instalada"
   ]
  },
  {
   "cell_type": "code",
   "execution_count": 1,
   "metadata": {},
   "outputs": [
    {
     "name": "stdout",
     "output_type": "stream",
     "text": [
      "psql (PostgreSQL) 14.8 (Ubuntu 14.8-0ubuntu0.22.04.1)\r\n"
     ]
    }
   ],
   "source": [
    "# Verificando a versão do PostgreSQL\n",
    "!psql --version"
   ]
  },
  {
   "cell_type": "markdown",
   "metadata": {},
   "source": [
    "--------------------------------------------\n",
    "### Tarefa 2 – Geração de um BD de testes\n",
    "\n",
    "A segunda tarefa deste trabalho consiste na criação de banco de dados em cada um dos sistemas e o\n",
    "povoamento destas tabelas com dados sintéticos.\n",
    "Para a definição do esquema das tabelas e os dados a\n",
    "serem carregados usaremos a especificação e os utilitários fornecidos pelos Benchmark TPC-H\n",
    "(http://www.tpc.org/tpch/).\n",
    "\n",
    "Para geração do BD no PostgreSQL, siga as instruções disponíveis em:\n",
    "https://github.com/foliveirafilho/tpch-pgsql\n",
    "\n",
    "__Entrega:__ Devem ser apresentadas as saídas da execução dos scripts de geração.\n",
    "\n",
    "<span style=\"color:orange\">__Resposta:__</span>"
   ]
  },
  {
   "cell_type": "code",
   "execution_count": 2,
   "metadata": {},
   "outputs": [
    {
     "name": "stdout",
     "output_type": "stream",
     "text": [
      "Cloning into 'tpch-pgsql'...\n",
      "remote: Enumerating objects: 164, done.\u001b[K\n",
      "remote: Counting objects: 100% (4/4), done.\u001b[K\n",
      "remote: Compressing objects: 100% (4/4), done.\u001b[K\n",
      "remote: Total 164 (delta 0), reused 2 (delta 0), pack-reused 160\u001b[K\n",
      "Receiving objects: 100% (164/164), 774.39 KiB | 2.47 MiB/s, done.\n",
      "Resolving deltas: 100% (69/69), done.\n",
      "Sucesso ao clonar o repositório !!!\n"
     ]
    }
   ],
   "source": [
    "# Clonando o repositório foliveirafilho/tpch-pgsql\n",
    "!git clone https://github.com/foliveirafilho/tpch-pgsql.git\n",
    "\n",
    "print(\"Sucesso ao clonar o repositório !!!\")"
   ]
  },
  {
   "cell_type": "code",
   "execution_count": 3,
   "metadata": {},
   "outputs": [
    {
     "name": "stdout",
     "output_type": "stream",
     "text": [
      "Sucesso ao baixar os arquivos necessários para o benchmark TPCH-DBGEN !!!\n"
     ]
    }
   ],
   "source": [
    "# Baixando arquivos necessários para o benchmark TPCH-DBGEN dentro da pasta tpch-pgsql\n",
    "!cd tpch-pgsql && wget -q https://github.com/electrum/tpch-dbgen/archive/32f1c1b92d1664dba542e927d23d86ffa57aa253.zip -O tpch-dbgen.zip\n",
    "!cd tpch-pgsql && unzip -q tpch-dbgen.zip && mv tpch-dbgen-32f1c1b92d1664dba542e927d23d86ffa57aa253 tpch-dbgen && rm tpch-dbgen.zip\n",
    "\n",
    "print(\"Sucesso ao baixar os arquivos necessários para o benchmark TPCH-DBGEN !!!\")"
   ]
  },
  {
   "cell_type": "code",
   "execution_count": 4,
   "metadata": {},
   "outputs": [
    {
     "name": "stdout",
     "output_type": "stream",
     "text": [
      "gcc (Ubuntu 11.3.0-1ubuntu1~22.04.1) 11.3.0\r\n",
      "Copyright (C) 2021 Free Software Foundation, Inc.\r\n",
      "This is free software; see the source for copying conditions.  There is NO\r\n",
      "warranty; not even for MERCHANTABILITY or FITNESS FOR A PARTICULAR PURPOSE.\r\n",
      "\r\n"
     ]
    }
   ],
   "source": [
    "!gcc --version"
   ]
  },
  {
   "cell_type": "code",
   "execution_count": 5,
   "metadata": {},
   "outputs": [
    {
     "name": "stdout",
     "output_type": "stream",
     "text": [
      "Python 3.10.6\r\n"
     ]
    }
   ],
   "source": [
    "!python3 --version"
   ]
  },
  {
   "cell_type": "code",
   "execution_count": 6,
   "metadata": {},
   "outputs": [
    {
     "name": "stdout",
     "output_type": "stream",
     "text": [
      "Collecting psycopg2-binary\n",
      "  Downloading psycopg2_binary-2.9.6-cp310-cp310-manylinux_2_17_x86_64.manylinux2014_x86_64.whl (3.0 MB)\n",
      "\u001b[2K     \u001b[90m━━━━━━━━━━━━━━━━━━━━━━━━━━━━━━━━━━━━━━━━\u001b[0m \u001b[32m3.0/3.0 MB\u001b[0m \u001b[31m6.1 MB/s\u001b[0m eta \u001b[36m0:00:00\u001b[0m00:01\u001b[0m00:01\u001b[0m\n",
      "\u001b[?25hCollecting mock\n",
      "  Downloading mock-5.0.2-py3-none-any.whl (30 kB)\n",
      "Installing collected packages: psycopg2-binary, mock\n",
      "Successfully installed mock-5.0.2 psycopg2-binary-2.9.6\n",
      "\u001b[33mWARNING: Running pip as the 'root' user can result in broken permissions and conflicting behaviour with the system package manager. It is recommended to use a virtual environment instead: https://pip.pypa.io/warnings/venv\u001b[0m\u001b[33m\n",
      "\u001b[0m"
     ]
    }
   ],
   "source": [
    "# Instalando as dependências do repositório foliveirafilho/tpch-pgsql\n",
    "!pip3 install -r tpch-pgsql/requirements.txt"
   ]
  },
  {
   "cell_type": "code",
   "execution_count": 7,
   "metadata": {},
   "outputs": [
    {
     "name": "stdout",
     "output_type": "stream",
     "text": [
      "PostgreSQL 14.8 (Ubuntu 14.8-0ubuntu0.22.04.1)\r\n"
     ]
    }
   ],
   "source": [
    "!pg_config --version"
   ]
  },
  {
   "cell_type": "code",
   "execution_count": 8,
   "metadata": {},
   "outputs": [],
   "source": [
    "# Criando o usuário 'tpch' e o banco de dados 'tpchdb'\n",
    "!sudo -S -u postgres createuser tpch < mypassword.txt\n",
    "!sudo -S -u postgres createdb tpchdb < mypassword.txt"
   ]
  },
  {
   "cell_type": "code",
   "execution_count": 9,
   "metadata": {},
   "outputs": [
    {
     "name": "stdout",
     "output_type": "stream",
     "text": [
      "ALTER ROLE\n",
      "GRANT\n"
     ]
    }
   ],
   "source": [
    "# Definindo a senha do usuário 'tpch' e concedendo privilégios\n",
    "!sudo -S -u postgres psql -U postgres -c \"ALTER USER tpch WITH ENCRYPTED PASSWORD 'test123';\" < mypassword.txt\n",
    "!sudo -S -u postgres psql -U postgres -c \"GRANT ALL PRIVILEGES ON DATABASE tpchdb TO tpch;\" < mypassword.txt"
   ]
  },
  {
   "cell_type": "code",
   "execution_count": 10,
   "metadata": {},
   "outputs": [
    {
     "name": "stdout",
     "output_type": "stream",
     "text": [
      "gcc -g -DDBNAME=\\\"dss\\\" -DLINUX -DORACLE -DTPCH -DRNG_TEST -D_FILE_OFFSET_BITS=64   -c -o build.o build.c\n",
      "gcc -g -DDBNAME=\\\"dss\\\" -DLINUX -DORACLE -DTPCH -DRNG_TEST -D_FILE_OFFSET_BITS=64   -c -o driver.o driver.c\n",
      "\u001b[01m\u001b[Kdriver.c:\u001b[m\u001b[K In function ‘\u001b[01m\u001b[Kgen_tbl\u001b[m\u001b[K’:\n",
      "\u001b[01m\u001b[Kdriver.c:368:62:\u001b[m\u001b[K \u001b[01;35m\u001b[Kwarning: \u001b[m\u001b[Kformat ‘\u001b[01m\u001b[K%ld\u001b[m\u001b[K’ expects argument of type ‘\u001b[01m\u001b[Klong int\u001b[m\u001b[K’, but argument 3 has type ‘\u001b[01m\u001b[Klong long int\u001b[m\u001b[K’ [\u001b[01;35m\u001b[K\u001b]8;;https://gcc.gnu.org/onlinedocs/gcc/Warning-Options.html#index-Wformat=\u0007-Wformat=\u001b]8;;\u0007\u001b[m\u001b[K]\n",
      "  368 |                        printf(\"\\nSeeds for %s at rowcount \u001b[01;35m\u001b[K%ld\u001b[m\u001b[K\\n\", tdefs[tnum].comment, \u001b[32m\u001b[Ki\u001b[m\u001b[K);\n",
      "      |                                                           \u001b[01;35m\u001b[K~~^\u001b[m\u001b[K                          \u001b[32m\u001b[K~\u001b[m\u001b[K\n",
      "      |                                                             \u001b[01;35m\u001b[K|\u001b[m\u001b[K                          \u001b[32m\u001b[K|\u001b[m\u001b[K\n",
      "      |                                                             \u001b[01;35m\u001b[Klong int\u001b[m\u001b[K                   \u001b[32m\u001b[Klong long int\u001b[m\u001b[K\n",
      "      |                                                           \u001b[32m\u001b[K%lld\u001b[m\u001b[K\n",
      "gcc -g -DDBNAME=\\\"dss\\\" -DLINUX -DORACLE -DTPCH -DRNG_TEST -D_FILE_OFFSET_BITS=64   -c -o bm_utils.o bm_utils.c\n",
      "\u001b[01m\u001b[Kbm_utils.c:\u001b[m\u001b[K In function ‘\u001b[01m\u001b[Ktbl_open\u001b[m\u001b[K’:\n",
      "\u001b[01m\u001b[Kbm_utils.c:404:51:\u001b[m\u001b[K \u001b[01;35m\u001b[Kwarning: \u001b[m\u001b[K‘\u001b[01m\u001b[K%s\u001b[m\u001b[K’ directive writing up to 255 bytes into a region of size 231 [\u001b[01;35m\u001b[K\u001b]8;;https://gcc.gnu.org/onlinedocs/gcc/Warning-Options.html#index-Wformat-overflow=\u0007-Wformat-overflow=\u001b]8;;\u0007\u001b[m\u001b[K]\n",
      "  404 |         sprintf(prompt, \"Do you want to overwrite \u001b[01;35m\u001b[K%s\u001b[m\u001b[K ?\", \u001b[32m\u001b[Kfullpath\u001b[m\u001b[K);\n",
      "      |                                                   \u001b[01;35m\u001b[K^~\u001b[m\u001b[K     \u001b[32m\u001b[K~~~~~~~~\u001b[m\u001b[K\n",
      "\u001b[01m\u001b[Kbm_utils.c:404:9:\u001b[m\u001b[K \u001b[01;36m\u001b[Knote: \u001b[m\u001b[K‘\u001b[01m\u001b[Ksprintf\u001b[m\u001b[K’ output between 28 and 283 bytes into a destination of size 256\n",
      "  404 |         \u001b[01;36m\u001b[Ksprintf(prompt, \"Do you want to overwrite %s ?\", fullpath)\u001b[m\u001b[K;\n",
      "      |         \u001b[01;36m\u001b[K^~~~~~~~~~~~~~~~~~~~~~~~~~~~~~~~~~~~~~~~~~~~~~~~~~~~~~~~~~\u001b[m\u001b[K\n",
      "gcc -g -DDBNAME=\\\"dss\\\" -DLINUX -DORACLE -DTPCH -DRNG_TEST -D_FILE_OFFSET_BITS=64   -c -o rnd.o rnd.c\n",
      "\u001b[01m\u001b[Krnd.c:\u001b[m\u001b[K In function ‘\u001b[01m\u001b[Krow_stop\u001b[m\u001b[K’:\n",
      "\u001b[01m\u001b[Krnd.c:131:84:\u001b[m\u001b[K \u001b[01;35m\u001b[Kwarning: \u001b[m\u001b[Kformat ‘\u001b[01m\u001b[K%ld\u001b[m\u001b[K’ expects argument of type ‘\u001b[01m\u001b[Klong int\u001b[m\u001b[K’, but argument 4 has type ‘\u001b[01m\u001b[Klong long int\u001b[m\u001b[K’ [\u001b[01;35m\u001b[K\u001b]8;;https://gcc.gnu.org/onlinedocs/gcc/Warning-Options.html#index-Wformat=\u0007-Wformat=\u001b]8;;\u0007\u001b[m\u001b[K]\n",
      "  131 |                fprintf(stderr, \"\\nSEED CHANGE: seed[%d].usage = \u001b[01;35m\u001b[K%ld\u001b[m\u001b[K\\n\",\n",
      "      |                                                                 \u001b[01;35m\u001b[K~~^\u001b[m\u001b[K\n",
      "      |                                                                   \u001b[01;35m\u001b[K|\u001b[m\u001b[K\n",
      "      |                                                                   \u001b[01;35m\u001b[Klong int\u001b[m\u001b[K\n",
      "      |                                                                 \u001b[32m\u001b[K%lld\u001b[m\u001b[K\n",
      "  132 |                        i, \u001b[32m\u001b[KSeed[i].usage\u001b[m\u001b[K);\n",
      "      |                           \u001b[32m\u001b[K~~~~~~~~~~~~~\u001b[m\u001b[K                            \n",
      "      |                                  \u001b[32m\u001b[K|\u001b[m\u001b[K\n",
      "      |                                  \u001b[32m\u001b[Klong long int\u001b[m\u001b[K\n",
      "\n",
      "\u001b[01m\u001b[Krnd.c:\u001b[m\u001b[K In function ‘\u001b[01m\u001b[Kdump_seeds\u001b[m\u001b[K’:\n",
      "\u001b[01m\u001b[Krnd.c:154:38:\u001b[m\u001b[K \u001b[01;35m\u001b[Kwarning: \u001b[m\u001b[Kformat ‘\u001b[01m\u001b[K%ld\u001b[m\u001b[K’ expects argument of type ‘\u001b[01m\u001b[Klong int\u001b[m\u001b[K’, but argument 3 has type ‘\u001b[01m\u001b[Klong long int\u001b[m\u001b[K’ [\u001b[01;35m\u001b[K\u001b]8;;https://gcc.gnu.org/onlinedocs/gcc/Warning-Options.html#index-Wformat=\u0007-Wformat=\u001b]8;;\u0007\u001b[m\u001b[K]\n",
      "  154 |                         printf(\"%d(\u001b[01;35m\u001b[K%ld\u001b[m\u001b[K):\\t%ld\\n\", i, \u001b[32m\u001b[KSeed[i].nCalls\u001b[m\u001b[K, Seed[i].value);\n",
      "      |                                    \u001b[01;35m\u001b[K~~^\u001b[m\u001b[K               \u001b[32m\u001b[K~~~~~~~~~~~~~~\u001b[m\u001b[K\n",
      "      |                                      \u001b[01;35m\u001b[K|\u001b[m\u001b[K                      \u001b[32m\u001b[K|\u001b[m\u001b[K\n",
      "      |                                      \u001b[01;35m\u001b[Klong int\u001b[m\u001b[K               \u001b[32m\u001b[Klong long int\u001b[m\u001b[K\n",
      "      |                                    \u001b[32m\u001b[K%lld\u001b[m\u001b[K\n",
      "\u001b[01m\u001b[Krnd.c:154:45:\u001b[m\u001b[K \u001b[01;35m\u001b[Kwarning: \u001b[m\u001b[Kformat ‘\u001b[01m\u001b[K%ld\u001b[m\u001b[K’ expects argument of type ‘\u001b[01m\u001b[Klong int\u001b[m\u001b[K’, but argument 4 has type ‘\u001b[01m\u001b[Klong long int\u001b[m\u001b[K’ [\u001b[01;35m\u001b[K\u001b]8;;https://gcc.gnu.org/onlinedocs/gcc/Warning-Options.html#index-Wformat=\u0007-Wformat=\u001b]8;;\u0007\u001b[m\u001b[K]\n",
      "  154 |                         printf(\"%d(%ld):\\t\u001b[01;35m\u001b[K%ld\u001b[m\u001b[K\\n\", i, Seed[i].nCalls, \u001b[32m\u001b[KSeed[i].value\u001b[m\u001b[K);\n",
      "      |                                           \u001b[01;35m\u001b[K~~^\u001b[m\u001b[K                        \u001b[32m\u001b[K~~~~~~~~~~~~~\u001b[m\u001b[K\n",
      "      |                                             \u001b[01;35m\u001b[K|\u001b[m\u001b[K                               \u001b[32m\u001b[K|\u001b[m\u001b[K\n",
      "      |                                             \u001b[01;35m\u001b[Klong int\u001b[m\u001b[K                        \u001b[32m\u001b[Klong long int\u001b[m\u001b[K\n",
      "      |                                           \u001b[32m\u001b[K%lld\u001b[m\u001b[K\n",
      "gcc -g -DDBNAME=\\\"dss\\\" -DLINUX -DORACLE -DTPCH -DRNG_TEST -D_FILE_OFFSET_BITS=64   -c -o print.o print.c\n",
      "gcc -g -DDBNAME=\\\"dss\\\" -DLINUX -DORACLE -DTPCH -DRNG_TEST -D_FILE_OFFSET_BITS=64   -c -o load_stub.o load_stub.c\n",
      "gcc -g -DDBNAME=\\\"dss\\\" -DLINUX -DORACLE -DTPCH -DRNG_TEST -D_FILE_OFFSET_BITS=64   -c -o bcd2.o bcd2.c\n",
      "gcc -g -DDBNAME=\\\"dss\\\" -DLINUX -DORACLE -DTPCH -DRNG_TEST -D_FILE_OFFSET_BITS=64   -c -o speed_seed.o speed_seed.c\n",
      "gcc -g -DDBNAME=\\\"dss\\\" -DLINUX -DORACLE -DTPCH -DRNG_TEST -D_FILE_OFFSET_BITS=64   -c -o text.o text.c\n",
      "gcc -g -DDBNAME=\\\"dss\\\" -DLINUX -DORACLE -DTPCH -DRNG_TEST -D_FILE_OFFSET_BITS=64   -c -o permute.o permute.c\n",
      "gcc -g -DDBNAME=\\\"dss\\\" -DLINUX -DORACLE -DTPCH -DRNG_TEST -D_FILE_OFFSET_BITS=64   -c -o rng64.o rng64.c\n",
      "gcc -g -DDBNAME=\\\"dss\\\" -DLINUX -DORACLE -DTPCH -DRNG_TEST -D_FILE_OFFSET_BITS=64 -O -o dbgen build.o driver.o bm_utils.o rnd.o print.o load_stub.o bcd2.o speed_seed.o text.o permute.o rng64.o -lm\n",
      "gcc -g -DDBNAME=\\\"dss\\\" -DLINUX -DORACLE -DTPCH -DRNG_TEST -D_FILE_OFFSET_BITS=64   -c -o qgen.o qgen.c\n",
      "In file included from \u001b[01m\u001b[Kqgen.c:41\u001b[m\u001b[K:\n",
      "\u001b[01m\u001b[Kqgen.c:\u001b[m\u001b[K In function ‘\u001b[01m\u001b[Kqsub\u001b[m\u001b[K’:\n",
      "\u001b[01m\u001b[Ktpcd.h:76:19:\u001b[m\u001b[K \u001b[01;35m\u001b[Kwarning: \u001b[m\u001b[Kzero-length gnu_printf format string [\u001b[01;35m\u001b[K\u001b]8;;https://gcc.gnu.org/onlinedocs/gcc/Warning-Options.html#index-Wformat-zero-length\u0007-Wformat-zero-length\u001b]8;;\u0007\u001b[m\u001b[K]\n",
      "   76 | #define SET_DBASE \u001b[01;35m\u001b[K\"\"\u001b[m\u001b[K\n",
      "      |                   \u001b[01;35m\u001b[K^~\u001b[m\u001b[K\n",
      "\u001b[01m\u001b[Kqgen.c:197:38:\u001b[m\u001b[K \u001b[01;36m\u001b[Knote: \u001b[m\u001b[Kin expansion of macro ‘\u001b[01m\u001b[KSET_DBASE\u001b[m\u001b[K’\n",
      "  197 |                         fprintf(ofp, \u001b[01;36m\u001b[KSET_DBASE\u001b[m\u001b[K, db_name);\n",
      "      |                                      \u001b[01;36m\u001b[K^~~~~~~~~\u001b[m\u001b[K\n",
      "gcc -g -DDBNAME=\\\"dss\\\" -DLINUX -DORACLE -DTPCH -DRNG_TEST -D_FILE_OFFSET_BITS=64   -c -o varsub.o varsub.c\n",
      "gcc -g -DDBNAME=\\\"dss\\\" -DLINUX -DORACLE -DTPCH -DRNG_TEST -D_FILE_OFFSET_BITS=64 -O -o qgen build.o bm_utils.o qgen.o rnd.o varsub.o text.o bcd2.o permute.o speed_seed.o rng64.o -lm\n",
      "built dbgen from source\n",
      "TPC-H Population Generator (Version 2.14.0)\n",
      "Copyright Transaction Processing Performance Council 1994 - 2010\n",
      "Generating data for suppliers table\n"
     ]
    },
    {
     "name": "stdout",
     "output_type": "stream",
     "text": [
      "Preloading text ...                                                                                                                                                                                                                                                                                                              1 1 1 1 1 1 1 1 1 1 1 1 1 1 1 1 1 1 1 1 1 1 1 1 1 1 1 1 1 1 1 1 1 1 1 1 1 1 1 1 1 1 1 1 1 1 1 1 1 1 1 1 1 1 1 1 1 1 1 1 1 1 1 1 1 1 1 1 1 1 1 1 1 1 1 1 1 1 1 1 1 1 1 1 1 1 1 1 1 1 1 1 1 1 1 1 1 1 1 1 1 1 1 1 1 1 1 1 1 1 1 1 1 1 1 1 1 1 1 1 1 1 1 1 1 1 1 1 1 1 1 1 1 1 1 1 1 1 1 1 1 1 1 1 1 1 1 1 1 1 1 1 1 1 1 1 1 2 2 2 2 2 2 2 2 2 2 2 2 2 2 2 2 2 2 2 2 2 2 2 2 2 2 2 2 2 2 2 2 2 2 2 2 2 2 2 2 2 2 2 2 2 2 2 2 2 2 2 2 2 2 2 2 2 2 2 2 2 2 2 2 2 2 2 2 2 2 2 2 2 2 2 2 2 2 2 2 2 2 2 2 2 2 2 2 2 2 2 2 2 2 2 2 2 2 2 2 2 2 2 2 2 2 2 2 2 2 2 2 2 2 2 2 2 2 2 2 2 2 2 2 2 2 2 2 2 2 2 2 2 2 2 2 2 2 2 2 2 2 2 2 2 2 2 2 2 2 2 2 2 2 2 2 2 3 3 3 3 3 3 3 3 3 3 3 3 3 3 3 3 3 3 3 3 3 3 3 3 3 3 3 3 3 3 3 3 3 3 3 3 3 3 3 3 3 3 3 3 3 3 3 3 3 3 3 3 3 3 3 3 3 3 3 3 3 3 3 3 3 3 3 3 3 3 3 3 3 3 3 3 3 3 3 3 3 3 3 3 3 3 3 3 3 3 3 3 3 3 3 3 3 3 3 3 3 3 3 3 3 3 3 3 3 3 3 3 3 3 3 3 3 3 3 3 3 3 3 3 3 3 3 3 3 3 3 3 3 3 3 3 3 3 3 3 3 3 3 3 3 3 3 3 3 3 3 3 3 3 3 3 3 3 4 4 4 4 4 4 4 4 4 4 4 4 4 4 4 4 4 4 4 4 4 4 4 4 4 4 4 4 4 4 4 4 4 4 4 4 4 4 4 4 4 4 4 4 4 4 4 4 4 4 4 4 4 4 4 4 4 4 4 4 4 4 4 4 4 4 4 4 4 4 4 4 4 4 4 4 4 4 4 4 4 4 4 4 4 4 4 4 4 4 4 4 4 4 4 4 4 4 4 4 4 4 4 4 4 4 4 4 4 4 4 4 4 4 4 4 4 4 4 4 4 4 4 4 4 4 4 4 4 4 4 4 4 4 4 4 4 4 4 4 4 4 4 4 4 4 4 4 4 4 4 4 4 4 4 4 4 5 5 5 5 5 5 5 5 5 5 5 5 5 5 5 5 5 5 5 5 5 5 5 5 5 5 5 5 5 5 5 5 5 5 5 5 5 5 5 5 5 5 5 5 5 5 5 5 5 5 5 5 5 5 5 5 5 5 5 5 5 5 5 5 5 5 5 5 5 5 5 5 5 5 5 5 5 5 5 5 5 5 5 5 5 5 5 5 5 5 5 5 5 5 5 5 5 5 5 5 5 5 5 5 5 5 5 5 5 5 5 5 5 5 5 5 5 5 5 5 5 5 5 5 5 5 5 5 5 5 5 5 5 5 5 5 5 5 5 5 5 5 5 5 5 5 5 5 5 5 5 5 5 5 5 5 5 6 6 6 6 6 6 6 6 6 6 6 6 6 6 6 6 6 6 6 6 6 6 6 6 6 6 6 6 6 6 6 6 6 6 6 6 6 6 6 6 6 6 6 6 6 6 6 6 6 6 6 6 6 6 6 6 6 6 6 6 6 6 6 6 6 6 6 6 6 6 6 6 6 6 6 6 6 6 6 6 6 6 6 6 6 6 6 6 6 6 6 6 6 6 6 6 6 6 6 6 6 6 6 6 6 6 6 6 6 6 6 6 6 6 6 6 6 6 6 6 6 6 6 6 6 6 6 6 6 6 6 6 6 6 6 6 6 6 6 6 6 6 6 6 6 6 6 6 6 6 6 6 6 6 6 6 6 6 7 7 7 7 7 7 7 7 7 7 7 7 7 7 7 7 7 7 7 7 7 7 7 7 7 7 7 7 7 7 7 7 7 7 7 7 7 7 7 7 7 7 7 7 7 7 7 7 7 7 7 7 7 7 7 7 7 7 7 7 7 7 7 7 7 7 7 7 7 7 7 7 7 7 7 7 7 7 7 7 7 7 7 7 7 7 7 7 7 7 7 7 7 7 7 7 7 7 7 7 7 7 7 7 7 7 7 7 7 7 7 7 7 7 7 7 7 7 7 7 7 7 7 7 7 7 7 7 7 7 7 7 7 7 7 7 7 7 7 7 7 7 7 7 7 7 7 7 7 7 7 7 7 7 7 7 7 8 8 8 8 8 8 8 8 8 8 8 8 8 8 8 8 8 8 8 8 8 8 8 8 8 8 8 8 8 8 8 8 8 8 8 8 8 8 8 8 8 8 8 8 8 8 8 8 8 8 8 8 8 8 8 8 8 8 8 8 8 8 8 8 8 8 8 8 8 8 8 8 8 8 8 8 8 8 8 8 8 8 8 8 8 8 8 8 8 8 8 8 8 8 8 8 8 8 8 8 8 8 8 8 8 8 8 8 8 8 8 8 8 8 8 8 8 8 8 8 8 8 8 8 8 8 8 8 8 8 8 8 8 8 8 8 8 8 8 8 8 8 8 8 8 8 8 8 8 8 8 8 8 8 8 8 8 9 9 9 9 9 9 9 9 9 9 9 9 9 9 9 9 9 9 9 9 9 9 9 9 9 9 9 9 9 9 9 9 9 9 9 9 9 9 9 9 9 9 9 9 9 9 9 9 9 9 9 9 9 9 9 9 9 9 9 9 9 9 9 9 9 9 9 9 9 9 9 9 9 9 9 9 9 9 9 9 9 9 9 9 9 9 9 9 9 9 9 9 9 9 9 9 9 9 9 9 9 9 9 9 9 9 9 9 9 9 9 9 9 9 9 9 9 9 9 9 9 9 9 9 9 9 9 9 9 9 9 9 9 9 9 9 9 9 9 9 9 9 9 9 9 9 9 9 9 9 9 9 9 9 9 9 91010101010101010\n",
      "done.\n",
      "Generating data for customers tabledone.\n",
      "Generating data for orders/lineitem tablesdone.\n",
      "Generating data for part/partsupplier tablesdone.\n",
      "Generating data for nation tabledone.\n",
      "Generating data for region tabledone.\n",
      "generated data for the load phase\n",
      "TPC-H Population Generator (Version 2.14.0)\n",
      "Copyright Transaction Processing Performance Council 1994 - 2010\n",
      "Generating update pair #1 for orders/lineitem tables\n",
      "Preloading text ...                                                                                                                                                                                                                                                                                                              1 1 1 1 1 1 1 1 1 1 1 1 1 1 1 1 1 1 1 1 1 1 1 1 1 1 1 1 1 1 1 1 1 1 1 1 1 1 1 1 1 1 1 1 1 1 1 1 1 1 1 1 1 1 1 1 1 1 1 1 1 1 1 1 1 1 1 1 1 1 1 1 1 1 1 1 1 1 1 1 1 1 1 1 1 1 1 1 1 1 1 1 1 1 1 1 1 1 1 1 1 1 1 1 1 1 1 1 1 1 1 1 1 1 1 1 1 1 1 1 1 1 1 1 1 1 1 1 1 1 1 1 1 1 1 1 1 1 1 1 1 1 1 1 1 1 1 1 1 1 1 1 1 1 1 1 1 2 2 2 2 2 2 2 2 2 2 2 2 2 2 2 2 2 2 2 2 2 2 2 2 2 2 2 2 2 2 2 2 2 2 2 2 2 2 2 2 2 2 2 2 2 2 2 2 2 2 2 2 2 2 2 2 2 2 2 2 2 2 2 2 2 2 2 2 2 2 2 2 2 2 2 2 2 2 2 2 2 2 2 2 2 2 2 2 2 2 2 2 2 2 2 2 2 2 2 2 2 2 2 2 2 2 2 2 2 2 2 2 2 2 2 2 2 2 2 2 2 2 2 2 2 2 2 2 2 2 2 2 2 2 2 2 2 2 2 2 2 2 2 2 2 2 2 2 2 2 2 2 2 2 2 2 2 3 3 3 3 3 3 3 3 3 3 3 3 3 3 3 3 3 3 3 3 3 3 3 3 3 3 3 3 3 3 3 3 3 3 3 3 3 3 3 3 3 3 3 3 3 3 3 3 3 3 3 3 3 3 3 3 3 3 3 3 3 3 3 3 3 3 3 3 3 3 3 3 3 3 3 3 3 3 3 3 3 3 3 3 3 3 3 3 3 3 3 3 3 3 3 3 3 3 3 3 3 3 3 3 3 3 3 3 3 3 3 3 3 3 3 3 3 3 3 3 3 3 3 3 3 3 3 3 3 3 3 3 3 3 3 3 3 3 3 3 3 3 3 3 3 3 3 3 3 3 3 3 3 3 3 3 3 3 4 4 4 4 4 4 4 4 4 4 4 4 4 4 4 4 4 4 4 4 4 4 4 4 4 4 4 4 4 4 4 4 4 4 4 4 4 4 4 4 4 4 4 4 4 4 4 4 4 4 4 4 4 4 4 4 4 4 4 4 4 4 4 4 4 4 4 4 4 4 4 4 4 4 4 4 4 4 4 4 4 4 4 4 4 4 4 4 4 4 4 4 4 4 4 4 4 4 4 4 4 4 4 4 4 4 4 4 4 4 4 4 4 4 4 4 4 4 4 4 4 4 4 4 4 4 4 4 4 4 4 4 4 4 4 4 4 4 4 4 4 4 4 4 4 4 4 4 4 4 4 4 4 4 4 4 4 5 5 5 5 5 5 5 5 5 5 5 5 5 5 5 5 5 5 5 5 5 5 5 5 5 5 5 5 5 5 5 5 5 5 5 5 5 5 5 5 5 5 5 5 5 5 5 5 5 5 5 5 5 5 5 5 5 5 5 5 5 5 5 5 5 5 5 5 5 5 5 5 5 5 5 5 5 5 5 5 5 5 5 5 5 5 5 5 5 5 5 5 5 5 5 5 5 5 5 5 5 5 5 5 5 5 5 5 5 5 5 5 5 5 5 5 5 5 5 5 5 5 5 5 5 5 5 5 5 5 5 5 5 5 5 5 5 5 5 5 5 5 5 5 5 5 5 5 5 5 5 5 5 5 5 5 5 6 6 6 6 6 6 6 6 6 6 6 6 6 6 6 6 6 6 6 6 6 6 6 6 6 6 6 6 6 6 6 6 6 6 6 6 6 6 6 6 6 6 6 6 6 6 6 6 6 6 6 6 6 6 6 6 6 6 6 6 6 6 6 6 6 6 6 6 6 6 6 6 6 6 6 6 6 6 6 6 6 6 6 6 6 6 6 6 6 6 6 6 6 6 6 6 6 6 6 6 6 6 6 6 6 6 6 6 6 6 6 6 6 6 6 6 6 6 6 6 6 6 6 6 6 6 6 6 6 6 6 6 6 6 6 6 6 6 6 6 6 6 6 6 6 6 6 6 6 6 6 6 6 6 6 6 6 6 7 7 7 7 7 7 7 7 7 7 7 7 7 7 7 7 7 7 7 7 7 7 7 7 7 7 7 7 7 7 7 7 7 7 7 7 7 7 7 7 7 7 7 7 7 7 7 7 7 7 7 7 7 7 7 7 7 7 7 7 7 7 7 7 7 7 7 7 7 7 7 7 7 7 7 7 7 7 7 7 7 7 7 7 7 7 7 7 7 7 7 7 7 7 7 7 7 7 7 7 7 7 7 7 7 7 7 7 7 7 7 7 7 7 7 7 7 7 7 7 7 7 7 7 7 7 7 7 7 7 7 7 7 7 7 7 7 7 7 7 7 7 7 7 7 7 7 7 7 7 7 7 7 7 7 7 7 8 8 8 8 8 8 8 8 8 8 8 8 8 8 8 8 8 8 8 8 8 8 8 8 8 8 8 8 8 8 8 8 8 8 8 8 8 8 8 8 8 8 8 8 8 8 8 8 8 8 8 8 8 8 8 8 8 8 8 8 8 8 8 8 8 8 8 8 8 8 8 8 8 8 8 8 8 8 8 8 8 8 8 8 8 8 8 8 8 8 8 8 8 8 8 8 8 8 8 8 8 8 8 8 8 8 8 8 8 8 8 8 8 8 8 8 8 8 8 8 8 8 8 8 8 8 8 8 8 8 8 8 8 8 8 8 8 8 8 8 8 8 8 8 8 8 8 8 8 8 8 8 8 8 8 8 8 9 9 9 9 9 9 9 9 9 9 9 9 9 9 9 9 9 9 9 9 9 9 9 9 9 9 9 9 9 9 9 9 9 9 9 9 9 9 9 9 9 9 9 9 9 9 9 9 9 9 9 9 9 9 9 9 9 9 9 9 9 9 9 9 9 9 9 9 9 9 9 9 9 9 9 9 9 9 9 9 9 9 9 9 9 9 9 9 9 9 9 9 9 9 9 9 9 9 9 9 9 9 9 9 9 9 9 9 9 9 9 9 9 9 9 9 9 9 9 9 9 9 9 9 9 9 9 9 9 9 9 9 9 9 9 9 9 9 9 9 9 9 9 9 9 9 9 9 9 9 9 9 9 9 9 9 91010101010101010\n",
      "done.\n",
      "Generating update pair #2 for orders/lineitem tablesdone.\n",
      "Generating update pair #3 for orders/lineitem tablesdone.\n",
      "generated data for the update phase\n",
      "generated data for the delete phase\n",
      "created data files in ./data\n",
      "created query files in ./query_root\n",
      "Sucesso ao criar o banco de dados !!!\n"
     ]
    }
   ],
   "source": [
    "# Entrando no diretório tpch-pgsql e Executando o script de preparação do banco de dados\n",
    "# OBS: é normal dar warnings durante a execução desta célula pois alguns argumentos não estão sendo passados, \n",
    "#      visto que seguem os valores padrão já definidos no script\n",
    "!cd tpch-pgsql && python3 tpch_pgsql.py prepare -p 5432 -U tpch -W test123 -d tpchdb\n",
    "\n",
    "print(\"Sucesso ao criar o banco de dados !!!\")"
   ]
  },
  {
   "cell_type": "code",
   "execution_count": 11,
   "metadata": {},
   "outputs": [
    {
     "name": "stdout",
     "output_type": "stream",
     "text": [
      "dropped existing tables\n",
      "cleaned database tpchdb\n",
      "done creating schemas\n",
      "done loading data to tables\n",
      "done creating indexes and foreign keys\n",
      "============================================================\n",
      "=========================== Load ===========================\n",
      "============================================================\n",
      "create_schema: : 0:00:02.116847\n",
      "load_data: 0:01:58.386475\n",
      "index_tables: 0:01:12.350479\n",
      "============================================================\n",
      "======================= End Results ========================\n",
      "============================================================\n",
      "Sucesso ao carregar dados no banco de dados !!!\n"
     ]
    }
   ],
   "source": [
    "# Entrando no diretório tpch-pgsql e Executando o script de carga do banco de dados\n",
    "# OBS: essa célula pode demorar um pouco pra carregar, pois está realizando a carga de muitos dados\n",
    "!cd tpch-pgsql && python3 tpch_pgsql.py load -p 5432 -U tpch -W test123 -d tpchdb\n",
    "\n",
    "print(\"Sucesso ao carregar dados no banco de dados !!!\")"
   ]
  },
  {
   "cell_type": "markdown",
   "metadata": {},
   "source": [
    "-----------------------------\n",
    "### Tarefa 3 – Execução de Consultas\n",
    "A terceira tarefa deste trabalho consiste na execução de uma série de consultas do Benchmark TPC-H\n",
    "nos sistemas instalados.\n",
    "\n",
    "Usando as instruções disponíveis nas mesmas URLs acima, execute os passos referentes ao\n",
    "PostgreSQL.\n",
    "\n",
    "__Entrega:__ Devem ser apresentadas as consultas e os seus resultados\n",
    "\n",
    "<span style=\"color:orange\">__Resposta:__</span> As consultas que serão feitas estão no diretório _tpch-pgsql/query_root/perf_query_gen/_"
   ]
  },
  {
   "cell_type": "markdown",
   "metadata": {},
   "source": [
    "#### Consulta 1.sql"
   ]
  },
  {
   "cell_type": "code",
   "execution_count": 12,
   "metadata": {},
   "outputs": [
    {
     "name": "stdout",
     "output_type": "stream",
     "text": [
      "-- using 1686277231 as a seed to the RNG\r\n",
      "\r",
      "\r\n",
      "\r",
      "\r\n",
      "select\r",
      "\r\n",
      "\tl_returnflag,\r",
      "\r\n",
      "\tl_linestatus,\r",
      "\r\n",
      "\tsum(l_quantity) as sum_qty,\r",
      "\r\n",
      "\tsum(l_extendedprice) as sum_base_price,\r",
      "\r\n",
      "\tsum(l_extendedprice * (1 - l_discount)) as sum_disc_price,\r",
      "\r\n",
      "\tsum(l_extendedprice * (1 - l_discount) * (1 + l_tax)) as sum_charge,\r",
      "\r\n",
      "\tavg(l_quantity) as avg_qty,\r",
      "\r\n",
      "\tavg(l_extendedprice) as avg_price,\r",
      "\r\n",
      "\tavg(l_discount) as avg_disc,\r",
      "\r\n",
      "\tcount(*) as count_order\r",
      "\r\n",
      "from\r",
      "\r\n",
      "\tlineitem\r",
      "\r\n",
      "where\r",
      "\r\n",
      "\tl_shipdate <= date '1998-12-01' - interval '69' day\r",
      "\r\n",
      "group by\r",
      "\r\n",
      "\tl_returnflag,\r",
      "\r\n",
      "\tl_linestatus\r",
      "\r\n",
      "order by\r",
      "\r\n",
      "\tl_returnflag,\r",
      "\r\n",
      "\tl_linestatus\r",
      "\r\n",
      "LIMIT 1;\r",
      "\r\n"
     ]
    }
   ],
   "source": [
    "# Mostrando a consulta\n",
    "!cat /app/notebooks/tpch-pgsql/query_root/perf_query_gen/1.sql"
   ]
  },
  {
   "cell_type": "code",
   "execution_count": 13,
   "metadata": {
    "scrolled": true
   },
   "outputs": [
    {
     "name": "stdout",
     "output_type": "stream",
     "text": [
      " l_returnflag | l_linestatus | sum_qty  | sum_base_price |  sum_disc_price  |     sum_charge     |       avg_qty       |     avg_price      |        avg_disc        | count_order \r\n",
      "--------------+--------------+----------+----------------+------------------+--------------------+---------------------+--------------------+------------------------+-------------\r\n",
      " A            | F            | 37734107 | 56586554400.73 | 53758257134.8700 | 55909065222.827692 | 25.5220058532573370 | 38273.129734621672 | 0.04998529583839761162 |     1478493\r\n",
      "(1 row)\r\n",
      "\r\n"
     ]
    }
   ],
   "source": [
    "# Mostrando o resultado da consulta\n",
    "!PGPASSWORD=test123 psql -h localhost -p 5432 -U tpch -d tpchdb -f /app/notebooks/tpch-pgsql/query_root/perf_query_gen/1.sql"
   ]
  },
  {
   "cell_type": "markdown",
   "metadata": {},
   "source": [
    "#### Consulta 2.sql"
   ]
  },
  {
   "cell_type": "code",
   "execution_count": 14,
   "metadata": {},
   "outputs": [
    {
     "name": "stdout",
     "output_type": "stream",
     "text": [
      "-- using 1686277231 as a seed to the RNG\r\n",
      "\r",
      "\r\n",
      "\r",
      "\r\n",
      "select\r",
      "\r\n",
      "\ts_acctbal,\r",
      "\r\n",
      "\ts_name,\r",
      "\r\n",
      "\tn_name,\r",
      "\r\n",
      "\tp_partkey,\r",
      "\r\n",
      "\tp_mfgr,\r",
      "\r\n",
      "\ts_address,\r",
      "\r\n",
      "\ts_phone,\r",
      "\r\n",
      "\ts_comment\r",
      "\r\n",
      "from\r",
      "\r\n",
      "\tpart,\r",
      "\r\n",
      "\tsupplier,\r",
      "\r\n",
      "\tpartsupp,\r",
      "\r\n",
      "\tnation,\r",
      "\r\n",
      "\tregion\r",
      "\r\n",
      "where\r",
      "\r\n",
      "\tp_partkey = ps_partkey\r",
      "\r\n",
      "\tand s_suppkey = ps_suppkey\r",
      "\r\n",
      "\tand p_size = 22\r",
      "\r\n",
      "\tand p_type like '%STEEL'\r",
      "\r\n",
      "\tand s_nationkey = n_nationkey\r",
      "\r\n",
      "\tand n_regionkey = r_regionkey\r",
      "\r\n",
      "\tand r_name = 'MIDDLE EAST'\r",
      "\r\n",
      "\tand ps_supplycost = (\r",
      "\r\n",
      "\t\tselect\r",
      "\r\n",
      "\t\t\tmin(ps_supplycost)\r",
      "\r\n",
      "\t\tfrom\r",
      "\r\n",
      "\t\t\tpartsupp,\r",
      "\r\n",
      "\t\t\tsupplier,\r",
      "\r\n",
      "\t\t\tnation,\r",
      "\r\n",
      "\t\t\tregion\r",
      "\r\n",
      "\t\twhere\r",
      "\r\n",
      "\t\t\tp_partkey = ps_partkey\r",
      "\r\n",
      "\t\t\tand s_suppkey = ps_suppkey\r",
      "\r\n",
      "\t\t\tand s_nationkey = n_nationkey\r",
      "\r\n",
      "\t\t\tand n_regionkey = r_regionkey\r",
      "\r\n",
      "\t\t\tand r_name = 'MIDDLE EAST'\r",
      "\r\n",
      "\t)\r",
      "\r\n",
      "order by\r",
      "\r\n",
      "\ts_acctbal desc,\r",
      "\r\n",
      "\tn_name,\r",
      "\r\n",
      "\ts_name,\r",
      "\r\n",
      "\tp_partkey\r",
      "\r\n",
      "LIMIT 100;\r",
      "\r\n"
     ]
    }
   ],
   "source": [
    "# Mostrando a consulta\n",
    "!cat /app/notebooks/tpch-pgsql/query_root/perf_query_gen/2.sql"
   ]
  },
  {
   "cell_type": "code",
   "execution_count": 15,
   "metadata": {},
   "outputs": [
    {
     "name": "stdout",
     "output_type": "stream",
     "text": [
      " s_acctbal |          s_name           |          n_name           | p_partkey |          p_mfgr           |                s_address                 |     s_phone     |                                              s_comment                                              \r\n",
      "-----------+---------------------------+---------------------------+-----------+---------------------------+------------------------------------------+-----------------+-----------------------------------------------------------------------------------------------------\r\n",
      "   9977.32 | Supplier#000007895        | EGYPT                     |     27894 | Manufacturer#1            | NYl,i8UhxTykLxGJ2voIRn20Ugk1KTzz         | 14-559-808-3306 | mptotes near the quickly sp\r\n",
      "   9977.32 | Supplier#000007895        | EGYPT                     |     92876 | Manufacturer#2            | NYl,i8UhxTykLxGJ2voIRn20Ugk1KTzz         | 14-559-808-3306 | mptotes near the quickly sp\r\n",
      "   9947.70 | Supplier#000009151        | IRAN                      |     16649 | Manufacturer#1            |  25lLOrzuKU8mG0xGP2SLkfo6Kfew7Kb4YuRv    | 20-492-750-3318 | s. quickly unusual requests thrash furiou\r\n",
      "   9940.76 | Supplier#000001062        | SAUDI ARABIA              |    116039 | Manufacturer#1            | RzD13PXq2yeZm                            | 30-916-179-1075 | y idle packages use fluffily toward the pending deposits. furiously ironic depths affix \r\n",
      "   9889.66 | Supplier#000001943        | JORDAN                    |    151942 | Manufacturer#1            | ROT u2yO2E8cIFvz6a18vuW3DvF,SvHIFKESc1V  | 23-574-621-8188 | s cajole slyly alongside of the quickly express asymptotes. blithely sp\r\n",
      "   9889.66 | Supplier#000001943        | JORDAN                    |    174391 | Manufacturer#4            | ROT u2yO2E8cIFvz6a18vuW3DvF,SvHIFKESc1V  | 23-574-621-8188 | s cajole slyly alongside of the quickly express asymptotes. blithely sp\r\n",
      "   9833.40 | Supplier#000006623        | IRAN                      |     79101 | Manufacturer#5            | TPCL9zGFF,mLfJt6rvGrRR09VBf0             | 20-315-283-3886 | ely ironic instructions sleep among the carefully speci\r\n",
      "   9833.40 | Supplier#000006623        | IRAN                      |     86622 | Manufacturer#4            | TPCL9zGFF,mLfJt6rvGrRR09VBf0             | 20-315-283-3886 | ely ironic instructions sleep among the carefully speci\r\n",
      "   9730.21 | Supplier#000009901        | IRAQ                      |     14898 | Manufacturer#2            | 8uN0zqb46 Bve                            | 21-981-827-6340 | olphins. slyly regular platelets doubt slyly. \r\n",
      "   9656.61 | Supplier#000004286        | IRAN                      |     56770 | Manufacturer#2            | OsUz6fvS3Y8mGw2rdWmjTh0nEonjaoUduz       | 20-857-469-4413 | uthlessly closely final requests. blithely even packages sublate quick\r\n",
      "   9656.61 | Supplier#000004286        | IRAN                      |    104285 | Manufacturer#2            | OsUz6fvS3Y8mGw2rdWmjTh0nEonjaoUduz       | 20-857-469-4413 | uthlessly closely final requests. blithely even packages sublate quick\r\n",
      "   9650.75 | Supplier#000004688        | EGYPT                     |     27181 | Manufacturer#5            | J,JeiQCrnr94SmBTyvmYIq,Qt                | 14-967-555-6641 | ccording to the asymptotes. regularly even packag\r\n",
      "   9611.79 | Supplier#000005305        | JORDAN                    |     82796 | Manufacturer#3            | nq0BDIq7RkB3Nlf29acxIE                   | 23-259-536-6169 |  requests haggle slyly ideas. furiously express requests haggle furiously above the ironic theodo\r\n",
      "   9598.00 | Supplier#000005347        | SAUDI ARABIA              |    197789 | Manufacturer#5            | R UJfAVRhAKjgH                           | 30-213-668-2389 | ites. packages cajole about the furiously regular accounts. blithely unusual packages are dogg\r\n",
      "   9538.15 | Supplier#000000979        | IRAN                      |    113445 | Manufacturer#1            | cdvHjrKZR7iDlmSWU2a                      | 20-151-688-1408 | ckages cajole quietly carefully regular in\r\n",
      "   9518.41 | Supplier#000009583        | JORDAN                    |     14580 | Manufacturer#5            | mD7rK64MLVWTE sZ1wPtGVz76a               | 23-970-824-2232 | gs cajole. bold, regular accounts nag blithely against the spe\r\n",
      "   9468.87 | Supplier#000005626        | JORDAN                    |    188071 | Manufacturer#4            | bJc AvkL85Qsf9ZcrpTH65Nse05m             | 23-499-299-4634 |  fluffily about the blithely pending d\r\n",
      "   9445.99 | Supplier#000004274        | SAUDI ARABIA              |    154273 | Manufacturer#1            | VpVZ1PbArLtxZ1ryS,9 j5dzYgTC0Dy0 DWM     | 30-322-776-7259 | packages boost carefully across the carefully special sheaves. c\r\n",
      "   9441.78 | Supplier#000001293        | IRAN                      |     81292 | Manufacturer#5            | p3ygA5wAuoGH7a8mqwGpvQycLu,ag            | 20-132-692-3206 | ic requests. carefully regular excuses according to the regular, pending foxes integrate blithely f\r\n",
      "   9359.59 | Supplier#000005087        | JORDAN                    |    140058 | Manufacturer#5            | q0c6r9wYVQx31IeGBZKfe                    | 23-335-392-5204 | osits. quickly regular packages haggle among the quickly silent ins\r\n",
      "   9296.31 | Supplier#000008213        | JORDAN                    |    170661 | Manufacturer#2            | YhdN9ESxYvhJp9ngr12Bbeo4t3zLPD,          | 23-197-507-9431 | g to the blithely regular accounts! deposit\r\n",
      "   9271.66 | Supplier#000000794        | EGYPT                     |    193236 | Manufacturer#2            | ZUzPptVa1Vq9Xo9Pq8rPENR,0KGFd1Q214Hq3dJ  | 14-851-370-3696 | s against the unusual packages use about the\r\n",
      "   9261.13 | Supplier#000000664        | EGYPT                     |    198144 | Manufacturer#2            | ln6wISAnC8Bpj q4V                        | 14-244-772-4913 | ly special foxes cajole slyly ironic reque\r\n",
      "   9243.92 | Supplier#000007633        | IRAQ                      |    125120 | Manufacturer#1            |  rsl6lh6tEzOKpo6r8ph3A1OuqK zEOBs5Y7l    | 21-473-187-3309 | g ideas kindle slyly? carefully ironic deposits boost furiously special asymptotes. furiousl\r\n",
      "   9243.92 | Supplier#000007633        | IRAQ                      |    132606 | Manufacturer#2            |  rsl6lh6tEzOKpo6r8ph3A1OuqK zEOBs5Y7l    | 21-473-187-3309 | g ideas kindle slyly? carefully ironic deposits boost furiously special asymptotes. furiousl\r\n",
      "   9189.14 | Supplier#000008106        | JORDAN                    |    188105 | Manufacturer#5            | fr9i1v,cE4PDKiwEJ5sqX3q 6s8              | 23-981-593-2596 |  fluffily. silent accounts nag \r\n",
      "   9126.96 | Supplier#000007433        | IRAQ                      |    117432 | Manufacturer#2            | JkFXNhxBeouyBAyEPyG05                    | 21-556-118-4183 | xcuses. final requests haggle slyly. carefully furious theodolites about the permanen\r\n",
      "   9060.44 | Supplier#000002224        | JORDAN                    |    164675 | Manufacturer#3            | 08hDtcJ8EUZ0nMxMrZiEiNH9RM08gIqt0DAst    | 23-714-590-7668 | accounts sleep. express, express packages sleep fluffily at the quickly ironic foxes. slyly unusu\r\n",
      "   9058.94 | Supplier#000002789        | IRAN                      |    155243 | Manufacturer#2            | 7EkIldjP7M6psSWcJ11tf65GT7ZC7UaiCh       | 20-842-716-4307 | s. platelets use carefully. busily regular accounts cajole fluffily above the slowly final pinto be\r\n",
      "   9036.49 | Supplier#000002212        | IRAQ                      |     24705 | Manufacturer#5            | xqhdX258o1LfvMBdfu4ecQBwTEfnQVpdcGjj5fj  | 21-100-454-2429 | y carefully special theodolites. fluffily special deposits sleep carefully: blithely si\r\n",
      "   9027.15 | Supplier#000009925        | EGYPT                     |     14922 | Manufacturer#5            | 1bFKWACLGwkA                             | 14-172-754-5545 | heodolites affix. instructions use deposits. fluffily bold dolphins sleep slyly ironic accoun\r\n",
      "   9015.53 | Supplier#000005066        | IRAN                      |     90047 | Manufacturer#4            | ru iPsHLDTFqzboVUG12dKML8Cdxl1VTT        | 20-482-807-4156 | ven, express ideas. even, ironic \r\n",
      "   9007.16 | Supplier#000001747        | EGYPT                     |    104216 | Manufacturer#5            | UyDlFjVxanP,ifej7L5jtNaubC               | 14-141-360-9722 | maintain bravely across the busily express pinto beans. sometimes \r\n",
      "   8991.91 | Supplier#000005565        | IRAN                      |    168016 | Manufacturer#1            | RPRbABmHFcRGvAvq                         | 20-459-844-4016 | ual accounts play requests-- carefully ironic ideas alongside of the quickly ironic\r\n",
      "   8951.34 | Supplier#000004266        | IRAN                      |    176714 | Manufacturer#3            | gN,uZm1z0Z2MOH171deuGcrXzmOp             | 20-791-144-4523 | eposits integrate furiously. furiously express excuse\r\n",
      "   8944.42 | Supplier#000008303        | IRAQ                      |     83286 | Manufacturer#3            | nulXQplnGSS3LXsCo4Ml8jpR8KDGI41lku       | 21-980-501-3504 | ronic deposits across the furiously s\r\n",
      "   8918.11 | Supplier#000005043        | EGYPT                     |    185042 | Manufacturer#2            | 159m5Zd0FUN7kv58w3tyhoD2                 | 14-895-422-1473 | ents against the fluffily regular foxes cajole \r\n",
      "   8887.18 | Supplier#000000670        | SAUDI ARABIA              |     38166 | Manufacturer#1            | z2NRPuuVeu1jmuuyzoMOlpoCI6P              | 30-364-864-1141 | arefully fluffily even pinto beans. pinto bean\r\n",
      "   8880.71 | Supplier#000003975        | IRAN                      |    191455 | Manufacturer#2            | CT9,kyMKXk6XPAs13gMhMs6Ist,FT7zA         | 20-270-703-9793 | gle furiously multipliers. express warthogs use fu\r\n",
      "   8837.21 | Supplier#000007210        | JORDAN                    |    142181 | Manufacturer#1            | G7MYkWkkJDVu,rr23aXjQCwNqZ2Vk6           | 23-560-295-1805 | en, express foxes use across the blithely bold \r\n",
      "   8822.17 | Supplier#000003159        | JORDAN                    |     23158 | Manufacturer#2            | T2Uh9SfwrU3C MAJb75Y3nmx94AXRkX CuE      | 23-991-368-6362 | esias. requests wake sometimes silent deposits. ideas above the requests sleep slyly slyl\r\n",
      "   8771.29 | Supplier#000002802        | IRAN                      |    195244 | Manufacturer#2            | ioeBm2a9ag5MCFn026MUWYP                  | 20-649-761-9820 | l foxes. ironic ideas are after the slyly ironic \r\n",
      "   8732.60 | Supplier#000007761        | IRAQ                      |     65254 | Manufacturer#4            | Edga,Z4HCtY                              | 21-114-854-4871 | ording to the final, regular pinto beans believe blithely carefully bold courts. carefully specia\r\n",
      "   8695.65 | Supplier#000009943        | IRAN                      |     69942 | Manufacturer#2            | kthH3uOBsvd5jihNQSgsakbTiyMozuOfPZummva  | 20-405-661-5377 | express instructions. blithely express accounts cajole quickly accounts. ironic, final a\r\n",
      "   8676.78 | Supplier#000004664        | IRAN                      |    129639 | Manufacturer#4            | 7T8vav85kSMKPfV4xG hc2RvSTbT             | 20-159-474-2886 | s. slyly bold requests after the furiously bold accounts sleep ab\r\n",
      "   8670.94 | Supplier#000009022        | JORDAN                    |    163989 | Manufacturer#2            | Ep7Zzcxr9dHF pC                          | 23-905-336-4879 | y according to the blithely even asymptotes. slyly regular deposits detec\r\n",
      "   8661.64 | Supplier#000006147        | IRAQ                      |     68628 | Manufacturer#5            | ZBR7JPWLlgCKCA3QJ5DcVRaU                 | 21-761-179-7642 | refully above the ironic, si\r\n",
      "   8659.37 | Supplier#000005604        | IRAN                      |    125603 | Manufacturer#5            | RBi1ab0lYokQsmhcPLIuKOlJ3GX0xZbYX        | 20-836-715-9065 | pecial asymptotes? carefully f\r\n",
      "   8639.71 | Supplier#000007846        | IRAN                      |     27845 | Manufacturer#4            | oL1Hg d51q1rG,hf52 EPPEuQPFEU491B        | 20-294-169-7889 | side of the pending, stealthy ideas. carefully thin accounts\r\n",
      "   8639.71 | Supplier#000007846        | IRAN                      |     80321 | Manufacturer#4            | oL1Hg d51q1rG,hf52 EPPEuQPFEU491B        | 20-294-169-7889 | side of the pending, stealthy ideas. carefully thin accounts\r\n",
      "   8639.71 | Supplier#000007846        | IRAN                      |    135332 | Manufacturer#1            | oL1Hg d51q1rG,hf52 EPPEuQPFEU491B        | 20-294-169-7889 | side of the pending, stealthy ideas. carefully thin accounts\r\n",
      "   8570.49 | Supplier#000006011        | IRAN                      |     28504 | Manufacturer#1            | kHzD2,R5QDSF                             | 20-656-493-7027 | uses cajole quickly across the dolphins. blithely regular accounts \r\n",
      "   8564.16 | Supplier#000000304        | IRAQ                      |     27801 | Manufacturer#3            | b4rSMq4y hBDMJgcNp                       | 21-261-644-8980 | endencies across the bold deposits nag\r\n",
      "   8555.40 | Supplier#000005715        | JORDAN                    |    185714 | Manufacturer#4            | ZW R6zxZtBFRoeaZtQw8YifUBoqSv16hG        | 23-268-174-1595 | e blithely silent multipliers are \r\n",
      "   8548.11 | Supplier#000008020        | EGYPT                     |     45515 | Manufacturer#3            | M5v6sVUveGK3vsHe0bwHyPAEPsQ5             | 14-500-236-4745 | ang. carefully ironic requests cajole fluffily across the regular, unusual requests. quickl\r\n",
      "   8519.16 | Supplier#000008796        | JORDAN                    |     61277 | Manufacturer#5            | BeuaOy,783yUTFakya45iURF8tPVQJv8 Eh      | 23-400-432-2971 | ts. final platelets haggle furiously. pending ideas \r\n",
      "   8514.86 | Supplier#000006347        | JORDAN                    |     88822 | Manufacturer#1            | wwR5j4kdIAwLe33uBwo                      | 23-340-942-3641 | uests breach blithely ironic deposi\r\n",
      "   8498.99 | Supplier#000008434        | JORDAN                    |    115922 | Manufacturer#4            | dM71AAl9v9qP                             | 23-119-336-9281 |  blithely final requests. slyly bold foxes are final, bold foxes. blithely dogged courts from the \r\n",
      "   8484.29 | Supplier#000008178        | IRAQ                      |     18177 | Manufacturer#1            | Kzuv9PrThE56fWmNR3UtwZAz                 | 21-201-455-3427 | s. ironic, special deposits cajole carefully furiously final requests. pending packages sleep quick\r\n",
      "   8484.29 | Supplier#000008178        | IRAQ                      |    108177 | Manufacturer#1            | Kzuv9PrThE56fWmNR3UtwZAz                 | 21-201-455-3427 | s. ironic, special deposits cajole carefully furiously final requests. pending packages sleep quick\r\n",
      "   8484.29 | Supplier#000008178        | IRAQ                      |    178177 | Manufacturer#1            | Kzuv9PrThE56fWmNR3UtwZAz                 | 21-201-455-3427 | s. ironic, special deposits cajole carefully furiously final requests. pending packages sleep quick\r\n",
      "   8472.63 | Supplier#000005551        | IRAQ                      |     70536 | Manufacturer#5            | St6sF,B8BUYpOudyVydkUsSbM3r              | 21-572-794-1936 |  bold ideas. express, even fo\r\n",
      "   8433.57 | Supplier#000006569        | SAUDI ARABIA              |    156568 | Manufacturer#2            | sk5AhyyRnxAczOZ76XvjGU uDEnyHQSVIQ2      | 30-561-849-3346 | os according to the permanent packages snooze bravely fu\r\n",
      "   8433.57 | Supplier#000006569        | SAUDI ARABIA              |    161536 | Manufacturer#1            | sk5AhyyRnxAczOZ76XvjGU uDEnyHQSVIQ2      | 30-561-849-3346 | os according to the permanent packages snooze bravely fu\r\n",
      "   8427.32 | Supplier#000004378        | EGYPT                     |      9377 | Manufacturer#1            | N7opoeaydL92E5NYHLqCshFG 2o8F            | 14-709-861-1774 | slyly pending patterns. slyly permanent dep\r\n",
      "   8322.54 | Supplier#000002891        | SAUDI ARABIA              |     45378 | Manufacturer#3            | w9uvS3xgBETHlWYAuU,E7mafb1sNAVx,qwp9 s   | 30-211-619-5853 | gainst the final deposits. quickly reg\r\n",
      "   8199.77 | Supplier#000002357        | SAUDI ARABIA              |    184802 | Manufacturer#1            | V8x3JyiEOtAo0w                           | 30-139-515-7766 |  dependencies. pending reques\r\n",
      "   8157.92 | Supplier#000005061        | SAUDI ARABIA              |      5060 | Manufacturer#1            | K7bbuYZol8GfTjEnOonzZukNi2ffx            | 30-257-188-5259 | d pinto beans. slyly even asymptotes cajole across the instructions. final forges after the\r\n",
      "   8146.06 | Supplier#000008625        | IRAN                      |     23620 | Manufacturer#1            |  Nvi5vjlqXyFKg                           | 20-223-114-1661 | final platelets. busy theodolites nag bli\r\n",
      "   8144.19 | Supplier#000004858        | IRAQ                      |     22355 | Manufacturer#1            | MzKGzMuomPZYRRxEz8tdjX5Nt5oqRdb          | 21-951-153-7767 | ns nag after the regular dependencie\r\n",
      "   8142.92 | Supplier#000002424        | EGYPT                     |     39920 | Manufacturer#1            | XlAu,cWxwTYXYHBZ,e1GL70ahRFKAp7Xq97Dtt1W | 14-653-437-1244 | latelets cajole doggedly? blithely ironic\r\n",
      "   8123.98 | Supplier#000005917        | IRAN                      |    165916 | Manufacturer#1            | Em39ZTxHfW5HMRmmYFNaYGfK05rr0SC          | 20-534-254-1886 | ges. regular instructions are care\r\n",
      "   8106.47 | Supplier#000001028        | IRAQ                      |     96009 | Manufacturer#5            | nOkvPq5WfeN87ASUIgQNKT2U0TUX 4WzZQ3f     | 21-570-218-8213 | riously bold accounts haggle slyly after the blithely u\r\n",
      "   8104.84 | Supplier#000008990        | IRAN                      |     66483 | Manufacturer#4            | R4rCANakSjWQphz1uupK RrgbsTh290          | 20-421-478-7010 | ilent foxes cajole. slyly even packages wake blithely. blithely silent requests c\r\n",
      "   8075.30 | Supplier#000000513        | EGYPT                     |    125488 | Manufacturer#2            | YMhcTaVkhw0nO9B,                         | 14-481-495-8505 |  final requests. slyly final reque\r\n",
      "   8075.30 | Supplier#000000513        | EGYPT                     |    137999 | Manufacturer#1            | YMhcTaVkhw0nO9B,                         | 14-481-495-8505 |  final requests. slyly final reque\r\n",
      "   8062.15 | Supplier#000002140        | IRAQ                      |     39636 | Manufacturer#2            | 0tAvFAWv c3                              | 21-202-416-4283 | ic accounts kindle carefully ironic deposits. warhorses cajole quickly. slyly silent account\r\n",
      "   8045.75 | Supplier#000008529        | SAUDI ARABIA              |    100998 | Manufacturer#3            | l4Y,f11TYz7Ph1erL7IM9AXf0poUIrO2OS       | 30-791-579-2088 | xpress deposits are furiously. blithely regular dolphins affix blithely enticingly regular t\r\n",
      "   8031.42 | Supplier#000008216        | IRAN                      |    180661 | Manufacturer#1            | jsqlyr1ViAo                              | 20-224-305-7298 | to the carefully even excuses haggle blithely against the pending pinto be\r\n",
      "   7992.38 | Supplier#000008301        | SAUDI ARABIA              |     13298 | Manufacturer#2            | 8fT54G,7Oz3TuT6FBePq1g6C9J3kqVAps9kiB    | 30-544-874-4257 | lyly regular excuses haggle furiously. ironic pa\r\n",
      "   7991.84 | Supplier#000002884        | EGYPT                     |    102883 | Manufacturer#1            | FeHLSpzVJjrvyi51                         | 14-454-798-2278 | rts haggle blithely carefully bold instructions. blithely regular requests are carefully aro\r\n",
      "   7940.60 | Supplier#000003283        | SAUDI ARABIA              |    193282 | Manufacturer#4            | EZhC w5my7GyXlcW                         | 30-524-916-1991 |  beans boost furiously. even, bol\r\n",
      "   7931.02 | Supplier#000001630        | IRAN                      |     26625 | Manufacturer#2            | yA6yXkUCKvJI                             | 20-657-455-2820 | press foxes x-ray. fluffily ironic platelets wake blithely. unusual courts whithout the q\r\n",
      "   7929.95 | Supplier#000008930        | EGYPT                     |      8929 | Manufacturer#5            | LzjamrXfmHRF1Q6kim9fZtxWvH,1i8           | 14-230-813-3108 | al excuses sleep quickly according to the express theodolites. furious\r\n",
      "   7926.37 | Supplier#000004169        | SAUDI ARABIA              |     54168 | Manufacturer#4            | ,YM5rGvb5bEDDdY                          | 30-542-513-7503 | ronic theodolites cajole slyly special excuses. ruthless, unu\r\n",
      "   7885.17 | Supplier#000004001        | JORDAN                    |     56485 | Manufacturer#1            | 3M39sZY1XeQXPDRO                         | 23-109-632-6806 | efully express packages integrate across the regular pearls. blithely unusual packages mainta\r\n",
      "   7874.25 | Supplier#000000789        | JORDAN                    |    133249 | Manufacturer#1            | LF,j2pxKPgtbDGaj,l47vutF5Vz              | 23-428-566-8444 | counts. blithely special accounts haggle furiously carefull\r\n",
      "   7862.57 | Supplier#000002462        | EGYPT                     |    192461 | Manufacturer#4            | HTn6CKSBFVq9P5b0                         | 14-751-339-3389 | olites boost furiously whithout the quickly r\r\n",
      "   7829.60 | Supplier#000004816        | JORDAN                    |    127279 | Manufacturer#2            | eFcrfArvpKcH0dfdviLxT                    | 23-353-314-4781 | ctions are fluffy, pending deposits. pla\r\n",
      "   7812.27 | Supplier#000006967        | SAUDI ARABIA              |      6966 | Manufacturer#4            | S4i1HfrSM4m3di3R9Cxxp59M1                | 30-193-457-6365 | ely. dependencies cajole quickly. final warhorses across the furiously ironic foxes integr\r\n",
      "   7807.69 | Supplier#000008045        | IRAQ                      |    148044 | Manufacturer#4            | xlJ6zQhjNVCFJ KM2Qqm XCvvYbe             | 21-700-845-5940 |  blithely carefully ironic \r\n",
      "   7807.14 | Supplier#000002566        | IRAN                      |    130052 | Manufacturer#5            | Tkmgiiw2n3 qEinrgYUxJ y5WFumVG5W9        | 20-612-454-8060 | carefully regular dolphins was never. furiously silent asymptotes affix quickly furiously p\r\n",
      "   7782.78 | Supplier#000007914        | EGYPT                     |    130374 | Manufacturer#2            | 0vDzSHC sJwHKkhLCdUu2                    | 14-669-382-9669 | encies. fluffily bold foxes integrate fluffily among the patterns. accounts sleep qu\r\n",
      "   7773.77 | Supplier#000004299        | IRAQ                      |     19296 | Manufacturer#1            | Zts8TmM,GMLCPSoGqKrG1D412tvBACj3bv38OafK | 21-259-114-8940 | . slyly even courts affix carefully quickly express reque\r\n",
      "   7751.80 | Supplier#000007392        | IRAN                      |     39882 | Manufacturer#4            | JeeScPASUUcJFQbjB5BVwXb8De3VTYddzkGwBv   | 20-928-350-9877 | ular accounts detect carefully along the unusual pinto beans. final, special pla\r\n",
      "   7750.28 | Supplier#000001574        | JORDAN                    |     19072 | Manufacturer#5            | 010G9zS4hWlWkl1X3 F7Ha2 Vnq2Qc2          | 23-997-787-7515 | yly dependencies: furiously regular packages w\r\n",
      "   7712.58 | Supplier#000001605        | JORDAN                    |     71604 | Manufacturer#4            | A5Jf2STTfJObp eGoChS0KYYNhe1vJsJ8V       | 23-611-695-5721 | theodolites cajole at the fluffily reg\r\n",
      "   7707.12 | Supplier#000004205        | IRAQ                      |     74204 | Manufacturer#5            | S2OR,fUOmf3GSlKnW6                       | 21-538-923-6240 |  ironic instructions sleep blithely around the reg\r\n",
      "   7685.78 | Supplier#000002738        | IRAQ                      |    125201 | Manufacturer#2            | uc,zYilzDQIkEmH8dWYJE9M681TmlEPsdFCtB6NY | 21-215-533-3433 | y even dinos sleep carefully final, final deposits. regular accounts wake sl\r\n",
      "   7653.17 | Supplier#000007634        | IRAN                      |     95124 | Manufacturer#1            | TkmKScI3gO                               | 20-699-145-4483 | ous packages. blithely final accounts sublate blithely bold instructions. bold package\r\n",
      "(100 rows)\r\n",
      "\r\n"
     ]
    }
   ],
   "source": [
    "# Mostrando o resultado da consulta\n",
    "!PGPASSWORD=test123 psql -h localhost -p 5432 -U tpch -d tpchdb -f /app/notebooks/tpch-pgsql/query_root/perf_query_gen/2.sql"
   ]
  },
  {
   "cell_type": "markdown",
   "metadata": {},
   "source": [
    "#### Consulta 3.sql"
   ]
  },
  {
   "cell_type": "code",
   "execution_count": 16,
   "metadata": {},
   "outputs": [
    {
     "name": "stdout",
     "output_type": "stream",
     "text": [
      "-- using 1686277231 as a seed to the RNG\r\n",
      "\r",
      "\r\n",
      "\r",
      "\r\n",
      "select\r",
      "\r\n",
      "\tl_orderkey,\r",
      "\r\n",
      "\tsum(l_extendedprice * (1 - l_discount)) as revenue,\r",
      "\r\n",
      "\to_orderdate,\r",
      "\r\n",
      "\to_shippriority\r",
      "\r\n",
      "from\r",
      "\r\n",
      "\tcustomer,\r",
      "\r\n",
      "\torders,\r",
      "\r\n",
      "\tlineitem\r",
      "\r\n",
      "where\r",
      "\r\n",
      "\tc_mktsegment = 'FURNITURE'\r",
      "\r\n",
      "\tand c_custkey = o_custkey\r",
      "\r\n",
      "\tand l_orderkey = o_orderkey\r",
      "\r\n",
      "\tand o_orderdate < date '1995-03-27'\r",
      "\r\n",
      "\tand l_shipdate > date '1995-03-27'\r",
      "\r\n",
      "group by\r",
      "\r\n",
      "\tl_orderkey,\r",
      "\r\n",
      "\to_orderdate,\r",
      "\r\n",
      "\to_shippriority\r",
      "\r\n",
      "order by\r",
      "\r\n",
      "\trevenue desc,\r",
      "\r\n",
      "\to_orderdate\r",
      "\r\n",
      "LIMIT 10;"
     ]
    }
   ],
   "source": [
    "# Mostrando a consulta\n",
    "!cat /app/notebooks/tpch-pgsql/query_root/perf_query_gen/3.sql"
   ]
  },
  {
   "cell_type": "code",
   "execution_count": 17,
   "metadata": {},
   "outputs": [
    {
     "name": "stdout",
     "output_type": "stream",
     "text": [
      " l_orderkey |   revenue   | o_orderdate | o_shippriority \r\n",
      "------------+-------------+-------------+----------------\r\n",
      "    1356130 | 423477.4376 | 1995-03-24  |              0\r\n",
      "    2687047 | 405008.3602 | 1995-03-22  |              0\r\n",
      "    4613219 | 388942.5848 | 1995-03-10  |              0\r\n",
      "    2351270 | 387236.6330 | 1995-03-03  |              0\r\n",
      "    1722688 | 386408.9679 | 1995-03-25  |              0\r\n",
      "     593952 | 372618.7257 | 1995-03-05  |              0\r\n",
      "    4929767 | 371583.7123 | 1995-03-17  |              0\r\n",
      "    2150210 | 370492.7296 | 1995-03-15  |              0\r\n",
      "    1000004 | 367563.8124 | 1995-03-02  |              0\r\n",
      "    4035457 | 365295.2205 | 1995-03-24  |              0\r\n",
      "(10 rows)\r\n",
      "\r\n"
     ]
    }
   ],
   "source": [
    "# Mostrando o resultado da consulta\n",
    "!PGPASSWORD=test123 psql -h localhost -p 5432 -U tpch -d tpchdb -f /app/notebooks/tpch-pgsql/query_root/perf_query_gen/3.sql"
   ]
  },
  {
   "cell_type": "markdown",
   "metadata": {},
   "source": [
    "#### Consulta 4.sql"
   ]
  },
  {
   "cell_type": "code",
   "execution_count": 18,
   "metadata": {},
   "outputs": [
    {
     "name": "stdout",
     "output_type": "stream",
     "text": [
      "-- using 1686277231 as a seed to the RNG\r\n",
      "\r",
      "\r\n",
      "\r",
      "\r\n",
      "select\r",
      "\r\n",
      "\to_orderpriority,\r",
      "\r\n",
      "\tcount(*) as order_count\r",
      "\r\n",
      "from\r",
      "\r\n",
      "\torders\r",
      "\r\n",
      "where\r",
      "\r\n",
      "\to_orderdate >= date '1997-04-01'\r",
      "\r\n",
      "\tand o_orderdate < date '1997-04-01' + interval '3' month\r",
      "\r\n",
      "\tand exists (\r",
      "\r\n",
      "\t\tselect\r",
      "\r\n",
      "\t\t\t*\r",
      "\r\n",
      "\t\tfrom\r",
      "\r\n",
      "\t\t\tlineitem\r",
      "\r\n",
      "\t\twhere\r",
      "\r\n",
      "\t\t\tl_orderkey = o_orderkey\r",
      "\r\n",
      "\t\t\tand l_commitdate < l_receiptdate\r",
      "\r\n",
      "\t)\r",
      "\r\n",
      "group by\r",
      "\r\n",
      "\to_orderpriority\r",
      "\r\n",
      "order by\r",
      "\r\n",
      "\to_orderpriority\r",
      "\r\n",
      "LIMIT 1;\r",
      "\r\n"
     ]
    }
   ],
   "source": [
    "# Mostrando a consulta\n",
    "!cat /app/notebooks/tpch-pgsql/query_root/perf_query_gen/4.sql"
   ]
  },
  {
   "cell_type": "code",
   "execution_count": 19,
   "metadata": {},
   "outputs": [
    {
     "name": "stdout",
     "output_type": "stream",
     "text": [
      " o_orderpriority | order_count \r\n",
      "-----------------+-------------\r\n",
      " 1-URGENT        |       10607\r\n",
      "(1 row)\r\n",
      "\r\n"
     ]
    }
   ],
   "source": [
    "# Mostrando o resultado da consulta\n",
    "!PGPASSWORD=test123 psql -h localhost -p 5432 -U tpch -d tpchdb -f /app/notebooks/tpch-pgsql/query_root/perf_query_gen/4.sql"
   ]
  },
  {
   "cell_type": "markdown",
   "metadata": {},
   "source": [
    "#### Consulta 5.sql"
   ]
  },
  {
   "cell_type": "code",
   "execution_count": 20,
   "metadata": {},
   "outputs": [
    {
     "name": "stdout",
     "output_type": "stream",
     "text": [
      "-- using 1686277231 as a seed to the RNG\r\n",
      "\r",
      "\r\n",
      "\r",
      "\r\n",
      "select\r",
      "\r\n",
      "\tn_name,\r",
      "\r\n",
      "\tsum(l_extendedprice * (1 - l_discount)) as revenue\r",
      "\r\n",
      "from\r",
      "\r\n",
      "\tcustomer,\r",
      "\r\n",
      "\torders,\r",
      "\r\n",
      "\tlineitem,\r",
      "\r\n",
      "\tsupplier,\r",
      "\r\n",
      "\tnation,\r",
      "\r\n",
      "\tregion\r",
      "\r\n",
      "where\r",
      "\r\n",
      "\tc_custkey = o_custkey\r",
      "\r\n",
      "\tand l_orderkey = o_orderkey\r",
      "\r\n",
      "\tand l_suppkey = s_suppkey\r",
      "\r\n",
      "\tand c_nationkey = s_nationkey\r",
      "\r\n",
      "\tand s_nationkey = n_nationkey\r",
      "\r\n",
      "\tand n_regionkey = r_regionkey\r",
      "\r\n",
      "\tand r_name = 'ASIA'\r",
      "\r\n",
      "\tand o_orderdate >= date '1993-01-01'\r",
      "\r\n",
      "\tand o_orderdate < date '1993-01-01' + interval '1' year\r",
      "\r\n",
      "group by\r",
      "\r\n",
      "\tn_name\r",
      "\r\n",
      "order by\r",
      "\r\n",
      "\trevenue desc\r",
      "\r\n",
      "LIMIT 1;\r",
      "\r\n"
     ]
    }
   ],
   "source": [
    "# Mostrando a consulta\n",
    "!cat /app/notebooks/tpch-pgsql/query_root/perf_query_gen/5.sql"
   ]
  },
  {
   "cell_type": "code",
   "execution_count": 21,
   "metadata": {},
   "outputs": [
    {
     "name": "stdout",
     "output_type": "stream",
     "text": [
      "          n_name           |    revenue    \r\n",
      "---------------------------+---------------\r\n",
      " VIETNAM                   | 53966100.4614\r\n",
      "(1 row)\r\n",
      "\r\n"
     ]
    }
   ],
   "source": [
    "# Mostrando o resultado da consulta\n",
    "!PGPASSWORD=test123 psql -h localhost -p 5432 -U tpch -d tpchdb -f /app/notebooks/tpch-pgsql/query_root/perf_query_gen/5.sql"
   ]
  },
  {
   "cell_type": "markdown",
   "metadata": {},
   "source": [
    "#### Consulta 6.sql"
   ]
  },
  {
   "cell_type": "code",
   "execution_count": 22,
   "metadata": {},
   "outputs": [
    {
     "name": "stdout",
     "output_type": "stream",
     "text": [
      "-- using 1686277231 as a seed to the RNG\r\n",
      "\r",
      "\r\n",
      "\r",
      "\r\n",
      "select\r",
      "\r\n",
      "\tsum(l_extendedprice * l_discount) as revenue\r",
      "\r\n",
      "from\r",
      "\r\n",
      "\tlineitem\r",
      "\r\n",
      "where\r",
      "\r\n",
      "\tl_shipdate >= date '1993-01-01'\r",
      "\r\n",
      "\tand l_shipdate < date '1993-01-01' + interval '1' year\r",
      "\r\n",
      "\tand l_discount between 0.09 - 0.01 and 0.09 + 0.01\r",
      "\r\n",
      "\tand l_quantity < 24\r",
      "\r\n",
      "LIMIT 1;\r",
      "\r\n"
     ]
    }
   ],
   "source": [
    "# Mostrando a consulta\n",
    "!cat /app/notebooks/tpch-pgsql/query_root/perf_query_gen/6.sql"
   ]
  },
  {
   "cell_type": "code",
   "execution_count": 23,
   "metadata": {},
   "outputs": [
    {
     "name": "stdout",
     "output_type": "stream",
     "text": [
      "    revenue     \r\n",
      "----------------\r\n",
      " 184911381.5561\r\n",
      "(1 row)\r\n",
      "\r\n"
     ]
    }
   ],
   "source": [
    "# Mostrando o resultado da consulta\n",
    "!PGPASSWORD=test123 psql -h localhost -p 5432 -U tpch -d tpchdb -f /app/notebooks/tpch-pgsql/query_root/perf_query_gen/6.sql"
   ]
  },
  {
   "cell_type": "markdown",
   "metadata": {},
   "source": [
    "#### Consulta 7.sql"
   ]
  },
  {
   "cell_type": "code",
   "execution_count": 24,
   "metadata": {},
   "outputs": [
    {
     "name": "stdout",
     "output_type": "stream",
     "text": [
      "-- using 1686277231 as a seed to the RNG\r\n",
      "\r",
      "\r\n",
      "\r",
      "\r\n",
      "select\r",
      "\r\n",
      "\tsupp_nation,\r",
      "\r\n",
      "\tcust_nation,\r",
      "\r\n",
      "\tl_year,\r",
      "\r\n",
      "\tsum(volume) as revenue\r",
      "\r\n",
      "from\r",
      "\r\n",
      "\t(\r",
      "\r\n",
      "\t\tselect\r",
      "\r\n",
      "\t\t\tn1.n_name as supp_nation,\r",
      "\r\n",
      "\t\t\tn2.n_name as cust_nation,\r",
      "\r\n",
      "\t\t\textract(year from l_shipdate) as l_year,\r",
      "\r\n",
      "\t\t\tl_extendedprice * (1 - l_discount) as volume\r",
      "\r\n",
      "\t\tfrom\r",
      "\r\n",
      "\t\t\tsupplier,\r",
      "\r\n",
      "\t\t\tlineitem,\r",
      "\r\n",
      "\t\t\torders,\r",
      "\r\n",
      "\t\t\tcustomer,\r",
      "\r\n",
      "\t\t\tnation n1,\r",
      "\r\n",
      "\t\t\tnation n2\r",
      "\r\n",
      "\t\twhere\r",
      "\r\n",
      "\t\t\ts_suppkey = l_suppkey\r",
      "\r\n",
      "\t\t\tand o_orderkey = l_orderkey\r",
      "\r\n",
      "\t\t\tand c_custkey = o_custkey\r",
      "\r\n",
      "\t\t\tand s_nationkey = n1.n_nationkey\r",
      "\r\n",
      "\t\t\tand c_nationkey = n2.n_nationkey\r",
      "\r\n",
      "\t\t\tand (\r",
      "\r\n",
      "\t\t\t\t(n1.n_name = 'UNITED STATES' and n2.n_name = 'FRANCE')\r",
      "\r\n",
      "\t\t\t\tor (n1.n_name = 'FRANCE' and n2.n_name = 'UNITED STATES')\r",
      "\r\n",
      "\t\t\t)\r",
      "\r\n",
      "\t\t\tand l_shipdate between date '1995-01-01' and date '1996-12-31'\r",
      "\r\n",
      "\t) as shipping\r",
      "\r\n",
      "group by\r",
      "\r\n",
      "\tsupp_nation,\r",
      "\r\n",
      "\tcust_nation,\r",
      "\r\n",
      "\tl_year\r",
      "\r\n",
      "order by\r",
      "\r\n",
      "\tsupp_nation,\r",
      "\r\n",
      "\tcust_nation,\r",
      "\r\n",
      "\tl_year\r",
      "\r\n",
      "LIMIT 1;"
     ]
    }
   ],
   "source": [
    "# Mostrando a consulta\n",
    "!cat /app/notebooks/tpch-pgsql/query_root/perf_query_gen/7.sql"
   ]
  },
  {
   "cell_type": "code",
   "execution_count": 25,
   "metadata": {},
   "outputs": [
    {
     "name": "stdout",
     "output_type": "stream",
     "text": [
      "        supp_nation        |        cust_nation        | l_year |    revenue    \r\n",
      "---------------------------+---------------------------+--------+---------------\r\n",
      " FRANCE                    | UNITED STATES             |   1995 | 51745265.8021\r\n",
      "(1 row)\r\n",
      "\r\n"
     ]
    }
   ],
   "source": [
    "# Mostrando o resultado da consulta\n",
    "!PGPASSWORD=test123 psql -h localhost -p 5432 -U tpch -d tpchdb -f /app/notebooks/tpch-pgsql/query_root/perf_query_gen/7.sql"
   ]
  },
  {
   "cell_type": "markdown",
   "metadata": {},
   "source": [
    "#### Consulta 8.sql"
   ]
  },
  {
   "cell_type": "code",
   "execution_count": 26,
   "metadata": {},
   "outputs": [
    {
     "name": "stdout",
     "output_type": "stream",
     "text": [
      "-- using 1686277231 as a seed to the RNG\r\n",
      "\r",
      "\r\n",
      "\r",
      "\r\n",
      "select\r",
      "\r\n",
      "\to_year,\r",
      "\r\n",
      "\tsum(case\r",
      "\r\n",
      "\t\twhen nation = 'FRANCE' then volume\r",
      "\r\n",
      "\t\telse 0\r",
      "\r\n",
      "\tend) / sum(volume) as mkt_share\r",
      "\r\n",
      "from\r",
      "\r\n",
      "\t(\r",
      "\r\n",
      "\t\tselect\r",
      "\r\n",
      "\t\t\textract(year from o_orderdate) as o_year,\r",
      "\r\n",
      "\t\t\tl_extendedprice * (1 - l_discount) as volume,\r",
      "\r\n",
      "\t\t\tn2.n_name as nation\r",
      "\r\n",
      "\t\tfrom\r",
      "\r\n",
      "\t\t\tpart,\r",
      "\r\n",
      "\t\t\tsupplier,\r",
      "\r\n",
      "\t\t\tlineitem,\r",
      "\r\n",
      "\t\t\torders,\r",
      "\r\n",
      "\t\t\tcustomer,\r",
      "\r\n",
      "\t\t\tnation n1,\r",
      "\r\n",
      "\t\t\tnation n2,\r",
      "\r\n",
      "\t\t\tregion\r",
      "\r\n",
      "\t\twhere\r",
      "\r\n",
      "\t\t\tp_partkey = l_partkey\r",
      "\r\n",
      "\t\t\tand s_suppkey = l_suppkey\r",
      "\r\n",
      "\t\t\tand l_orderkey = o_orderkey\r",
      "\r\n",
      "\t\t\tand o_custkey = c_custkey\r",
      "\r\n",
      "\t\t\tand c_nationkey = n1.n_nationkey\r",
      "\r\n",
      "\t\t\tand n1.n_regionkey = r_regionkey\r",
      "\r\n",
      "\t\t\tand r_name = 'EUROPE'\r",
      "\r\n",
      "\t\t\tand s_nationkey = n2.n_nationkey\r",
      "\r\n",
      "\t\t\tand o_orderdate between date '1995-01-01' and date '1996-12-31'\r",
      "\r\n",
      "\t\t\tand p_type = 'MEDIUM PLATED TIN'\r",
      "\r\n",
      "\t) as all_nations\r",
      "\r\n",
      "group by\r",
      "\r\n",
      "\to_year\r",
      "\r\n",
      "order by\r",
      "\r\n",
      "\to_year\r",
      "\r\n",
      "LIMIT 1;"
     ]
    }
   ],
   "source": [
    "# Mostrando a consulta\n",
    "!cat /app/notebooks/tpch-pgsql/query_root/perf_query_gen/8.sql"
   ]
  },
  {
   "cell_type": "code",
   "execution_count": 27,
   "metadata": {},
   "outputs": [
    {
     "name": "stdout",
     "output_type": "stream",
     "text": [
      " o_year |       mkt_share        \r\n",
      "--------+------------------------\r\n",
      "   1995 | 0.04227907305780270345\r\n",
      "(1 row)\r\n",
      "\r\n"
     ]
    }
   ],
   "source": [
    "# Mostrando o resultado da consulta\n",
    "!PGPASSWORD=test123 psql -h localhost -p 5432 -U tpch -d tpchdb -f /app/notebooks/tpch-pgsql/query_root/perf_query_gen/8.sql"
   ]
  },
  {
   "cell_type": "markdown",
   "metadata": {},
   "source": [
    "#### Consulta 9.sql"
   ]
  },
  {
   "cell_type": "code",
   "execution_count": 28,
   "metadata": {},
   "outputs": [
    {
     "name": "stdout",
     "output_type": "stream",
     "text": [
      "-- using 1686277231 as a seed to the RNG\r\n",
      "\r",
      "\r\n",
      "\r",
      "\r\n",
      "select\r",
      "\r\n",
      "\tnation,\r",
      "\r\n",
      "\to_year,\r",
      "\r\n",
      "\tsum(amount) as sum_profit\r",
      "\r\n",
      "from\r",
      "\r\n",
      "\t(\r",
      "\r\n",
      "\t\tselect\r",
      "\r\n",
      "\t\t\tn_name as nation,\r",
      "\r\n",
      "\t\t\textract(year from o_orderdate) as o_year,\r",
      "\r\n",
      "\t\t\tl_extendedprice * (1 - l_discount) - ps_supplycost * l_quantity as amount\r",
      "\r\n",
      "\t\tfrom\r",
      "\r\n",
      "\t\t\tpart,\r",
      "\r\n",
      "\t\t\tsupplier,\r",
      "\r\n",
      "\t\t\tlineitem,\r",
      "\r\n",
      "\t\t\tpartsupp,\r",
      "\r\n",
      "\t\t\torders,\r",
      "\r\n",
      "\t\t\tnation\r",
      "\r\n",
      "\t\twhere\r",
      "\r\n",
      "\t\t\ts_suppkey = l_suppkey\r",
      "\r\n",
      "\t\t\tand ps_suppkey = l_suppkey\r",
      "\r\n",
      "\t\t\tand ps_partkey = l_partkey\r",
      "\r\n",
      "\t\t\tand p_partkey = l_partkey\r",
      "\r\n",
      "\t\t\tand o_orderkey = l_orderkey\r",
      "\r\n",
      "\t\t\tand s_nationkey = n_nationkey\r",
      "\r\n",
      "\t\t\tand p_name like '%indian%'\r",
      "\r\n",
      "\t) as profit\r",
      "\r\n",
      "group by\r",
      "\r\n",
      "\tnation,\r",
      "\r\n",
      "\to_year\r",
      "\r\n",
      "order by\r",
      "\r\n",
      "\tnation,\r",
      "\r\n",
      "\to_year desc\r",
      "\r\n",
      "LIMIT 1;"
     ]
    }
   ],
   "source": [
    "# Mostrando a consulta\n",
    "!cat /app/notebooks/tpch-pgsql/query_root/perf_query_gen/9.sql"
   ]
  },
  {
   "cell_type": "code",
   "execution_count": 29,
   "metadata": {},
   "outputs": [
    {
     "name": "stdout",
     "output_type": "stream",
     "text": [
      "          nation           | o_year |  sum_profit   \r\n",
      "---------------------------+--------+---------------\r\n",
      " ALGERIA                   |   1998 | 29393191.6183\r\n",
      "(1 row)\r\n",
      "\r\n"
     ]
    }
   ],
   "source": [
    "# Mostrando o resultado da consulta\n",
    "!PGPASSWORD=test123 psql -h localhost -p 5432 -U tpch -d tpchdb -f /app/notebooks/tpch-pgsql/query_root/perf_query_gen/9.sql"
   ]
  },
  {
   "cell_type": "markdown",
   "metadata": {},
   "source": [
    "#### Consulta 10.sql"
   ]
  },
  {
   "cell_type": "code",
   "execution_count": 30,
   "metadata": {},
   "outputs": [
    {
     "name": "stdout",
     "output_type": "stream",
     "text": [
      "-- using 1686277231 as a seed to the RNG\r\n",
      "\r",
      "\r\n",
      "\r",
      "\r\n",
      "select\r",
      "\r\n",
      "\tc_custkey,\r",
      "\r\n",
      "\tc_name,\r",
      "\r\n",
      "\tsum(l_extendedprice * (1 - l_discount)) as revenue,\r",
      "\r\n",
      "\tc_acctbal,\r",
      "\r\n",
      "\tn_name,\r",
      "\r\n",
      "\tc_address,\r",
      "\r\n",
      "\tc_phone,\r",
      "\r\n",
      "\tc_comment\r",
      "\r\n",
      "from\r",
      "\r\n",
      "\tcustomer,\r",
      "\r\n",
      "\torders,\r",
      "\r\n",
      "\tlineitem,\r",
      "\r\n",
      "\tnation\r",
      "\r\n",
      "where\r",
      "\r\n",
      "\tc_custkey = o_custkey\r",
      "\r\n",
      "\tand l_orderkey = o_orderkey\r",
      "\r\n",
      "\tand o_orderdate >= date '1993-09-01'\r",
      "\r\n",
      "\tand o_orderdate < date '1993-09-01' + interval '3' month\r",
      "\r\n",
      "\tand l_returnflag = 'R'\r",
      "\r\n",
      "\tand c_nationkey = n_nationkey\r",
      "\r\n",
      "group by\r",
      "\r\n",
      "\tc_custkey,\r",
      "\r\n",
      "\tc_name,\r",
      "\r\n",
      "\tc_acctbal,\r",
      "\r\n",
      "\tc_phone,\r",
      "\r\n",
      "\tn_name,\r",
      "\r\n",
      "\tc_address,\r",
      "\r\n",
      "\tc_comment\r",
      "\r\n",
      "order by\r",
      "\r\n",
      "\trevenue desc\r",
      "\r\n",
      "LIMIT 20;"
     ]
    }
   ],
   "source": [
    "# Mostrando a consulta\n",
    "!cat /app/notebooks/tpch-pgsql/query_root/perf_query_gen/10.sql"
   ]
  },
  {
   "cell_type": "code",
   "execution_count": 31,
   "metadata": {},
   "outputs": [
    {
     "name": "stdout",
     "output_type": "stream",
     "text": [
      " c_custkey |       c_name       |   revenue   | c_acctbal |          n_name           |                c_address                 |     c_phone     |                                                    c_comment                                                     \r\n",
      "-----------+--------------------+-------------+-----------+---------------------------+------------------------------------------+-----------------+------------------------------------------------------------------------------------------------------------------\r\n",
      "    142549 | Customer#000142549 | 732770.1036 |   5085.99 | INDONESIA                 | ChqEoK43OysjdHbtKCp6dKqjNyvvi9           | 19-955-562-2398 | sleep pending courts. ironic deposits against the carefully unusual platelets cajole carefully express accounts.\r\n",
      "    146756 | Customer#000146756 | 703786.0197 |    107.25 | EGYPT                     | WWH fjsDkKovu8jiTYZmxC3HMLIYEDnDT        | 14-321-449-8957 | xes believe blithely platelets. even, final accounts nag carefully against the\r\n",
      "    147727 | Customer#000147727 | 672764.2710 |   4288.02 | MOROCCO                   | dFZ WzKV2HpCrgN3V44Uj                    | 25-984-579-5735 | ackages thrash fluffily about the carefully silent \r\n",
      "      6226 | Customer#000006226 | 669061.6919 |   2230.09 | UNITED KINGDOM            | 8gPu8,NPGkfyQQ0hcIYUGPIBWc,ybP5g,        | 33-657-701-3391 | ending platelets along the express deposits cajole carefully final \r\n",
      "     26134 | Customer#000026134 | 667121.4809 |   2826.61 | CHINA                     | Anz9Pft4CT,Zo3sE83mZB3ihgfeHsFXodxk4oc3  | 28-156-426-1802 | slyly even requests wake carefully carefully even sentiments. carefull\r\n",
      "    125341 | Customer#000125341 | 634427.6468 |   4983.51 | GERMANY                   | S29ODD6bceU8QSuuEJznkNaK                 | 17-582-695-5962 | arefully even depths. blithely even excuses sleep furiously. foxes use except the dependencies. ca\r\n",
      "     75715 | Customer#000075715 | 621422.4589 |    370.16 | ROMANIA                   | OC8AjYB9WX jiohjOdK0O0                   | 29-481-661-5111 | s. final requests are among the slyly unusual theodolites. even requests play quickly slyly regular dolphins.\r\n",
      "     23809 | Customer#000023809 | 616630.7482 |   1564.07 | KENYA                     | owza7J67N dyPCz                          | 24-825-396-2511 | s cajole blithely. slyly ironic foxes nag fur\r\n",
      "     64298 | Customer#000064298 | 609078.1864 |   7003.85 | PERU                      | ,y0LFOyyvAI8vDYhp 8jkz                   | 27-265-117-6068 | y final requests. ironic packages wake carefully. fi\r\n",
      "     52528 | Customer#000052528 | 606443.8145 |    551.79 | ARGENTINA                 | NFztyTOR10UOJ                            | 11-208-192-3205 |  deposits hinder. blithely pending asymptotes breach slyly regular re\r\n",
      "    113066 | Customer#000113066 | 603826.6648 |   2908.44 | PERU                      | D9R3X0sn1mAFRM0RoAa PjuwnkBxSgwIioA      | 27-452-491-5005 |  blithely permanent ideas since the regular requests will have to are above the special instructio\r\n",
      "    143347 | Customer#000143347 | 599022.5932 |   2557.47 | EGYPT                     | 1aReFYv,Kw4                              | 14-742-935-3718 | ggle carefully enticing requests. final deposits use bold, bold pinto beans. ironic, idle re\r\n",
      "     53806 | Customer#000053806 | 595638.9198 |   1026.26 | ETHIOPIA                  | 7b4rt2hZ JbYCrKJMLp,xyeo6Be6i4EywxH2lDDj | 15-204-530-5443 | ely final ideas. fluffily ironic ideas sleep slyly ironic theod\r\n",
      "    122599 | Customer#000122599 | 594108.8847 |   9369.27 | KENYA                     | BNLnvWiOdp5MFpSq6ZIQL04fWvOwBL0K         | 24-516-880-5086 | sits sleep furiously ironic packages. carefully unusual ideas i\r\n",
      "    147946 | Customer#000147946 | 583360.3072 |   2030.13 | ALGERIA                   | iANyZHjqhyy7Ajah0pTrYyhJ                 | 10-886-956-3143 | ithely ironic deposits haggle blithely ironic requests. quickly regu\r\n",
      "     20285 | Customer#000020285 | 582876.3534 |   9241.36 | CHINA                     | gVhn8CdmwpOIe                            | 28-947-713-5966 | nic accounts at the closely silent deposits are furiously at the silent, bold requests\r\n",
      "    101998 | Customer#000101998 | 582675.4515 |   3790.89 | UNITED KINGDOM            | 01c9CILnNtfOQYmZj                        | 33-593-865-6378 | ress foxes wake slyly after the bold excuses. ironic platelets are furiously carefully bold theodolites\r\n",
      "       922 | Customer#000000922 | 576767.5333 |   3869.25 | GERMANY                   | Az9RFaut7NkPnc5zSD2PwHgVwr4jRzq          | 17-945-916-9648 | luffily fluffy deposits. packages c\r\n",
      "    119050 | Customer#000119050 | 576426.3721 |   2800.09 | UNITED KINGDOM            | oGzdIN1hk3ZPD3,S3JmkG3P                  | 33-809-275-9380 | slyly after the special, pending courts-- stealthily final pinto beans detect along the bold, regular asympto\r\n",
      "      6346 | Customer#000006346 | 566052.1111 |   5910.74 | FRANCE                    | 50RfbxMaJICGgfSOXGA                      | 16-291-905-7678 |  requests. ideas nag fluffily alongside of the slyly pending dependencies. quickly\r\n",
      "(20 rows)\r\n",
      "\r\n"
     ]
    }
   ],
   "source": [
    "# Mostrando o resultado da consulta\n",
    "!PGPASSWORD=test123 psql -h localhost -p 5432 -U tpch -d tpchdb -f /app/notebooks/tpch-pgsql/query_root/perf_query_gen/10.sql"
   ]
  },
  {
   "cell_type": "markdown",
   "metadata": {},
   "source": [
    "#### Consulta 11.sql"
   ]
  },
  {
   "cell_type": "code",
   "execution_count": 32,
   "metadata": {},
   "outputs": [
    {
     "name": "stdout",
     "output_type": "stream",
     "text": [
      "-- using 1686277231 as a seed to the RNG\r\n",
      "\r",
      "\r\n",
      "\r",
      "\r\n",
      "select\r",
      "\r\n",
      "\tps_partkey,\r",
      "\r\n",
      "\tsum(ps_supplycost * ps_availqty) as value\r",
      "\r\n",
      "from\r",
      "\r\n",
      "\tpartsupp,\r",
      "\r\n",
      "\tsupplier,\r",
      "\r\n",
      "\tnation\r",
      "\r\n",
      "where\r",
      "\r\n",
      "\tps_suppkey = s_suppkey\r",
      "\r\n",
      "\tand s_nationkey = n_nationkey\r",
      "\r\n",
      "\tand n_name = 'MOROCCO'\r",
      "\r\n",
      "group by\r",
      "\r\n",
      "\tps_partkey having\r",
      "\r\n",
      "\t\tsum(ps_supplycost * ps_availqty) > (\r",
      "\r\n",
      "\t\t\tselect\r",
      "\r\n",
      "\t\t\t\tsum(ps_supplycost * ps_availqty) * 0.0001000000\r",
      "\r\n",
      "\t\t\tfrom\r",
      "\r\n",
      "\t\t\t\tpartsupp,\r",
      "\r\n",
      "\t\t\t\tsupplier,\r",
      "\r\n",
      "\t\t\t\tnation\r",
      "\r\n",
      "\t\t\twhere\r",
      "\r\n",
      "\t\t\t\tps_suppkey = s_suppkey\r",
      "\r\n",
      "\t\t\t\tand s_nationkey = n_nationkey\r",
      "\r\n",
      "\t\t\t\tand n_name = 'MOROCCO'\r",
      "\r\n",
      "\t\t)\r",
      "\r\n",
      "order by\r",
      "\r\n",
      "\tvalue desc\r",
      "\r\n",
      "LIMIT 1;"
     ]
    }
   ],
   "source": [
    "# Mostrando a consulta\n",
    "!cat /app/notebooks/tpch-pgsql/query_root/perf_query_gen/11.sql"
   ]
  },
  {
   "cell_type": "code",
   "execution_count": 33,
   "metadata": {},
   "outputs": [
    {
     "name": "stdout",
     "output_type": "stream",
     "text": [
      " ps_partkey |    value    \r\n",
      "------------+-------------\r\n",
      "      76103 | 16472956.64\r\n",
      "(1 row)\r\n",
      "\r\n"
     ]
    }
   ],
   "source": [
    "# Mostrando o resultado da consulta\n",
    "!PGPASSWORD=test123 psql -h localhost -p 5432 -U tpch -d tpchdb -f /app/notebooks/tpch-pgsql/query_root/perf_query_gen/11.sql"
   ]
  },
  {
   "cell_type": "markdown",
   "metadata": {},
   "source": [
    "#### Consulta 12.sql"
   ]
  },
  {
   "cell_type": "code",
   "execution_count": 34,
   "metadata": {},
   "outputs": [
    {
     "name": "stdout",
     "output_type": "stream",
     "text": [
      "-- using 1686277231 as a seed to the RNG\r\n",
      "\r",
      "\r\n",
      "\r",
      "\r\n",
      "select\r",
      "\r\n",
      "\tl_shipmode,\r",
      "\r\n",
      "\tsum(case\r",
      "\r\n",
      "\t\twhen o_orderpriority = '1-URGENT'\r",
      "\r\n",
      "\t\t\tor o_orderpriority = '2-HIGH'\r",
      "\r\n",
      "\t\t\tthen 1\r",
      "\r\n",
      "\t\telse 0\r",
      "\r\n",
      "\tend) as high_line_count,\r",
      "\r\n",
      "\tsum(case\r",
      "\r\n",
      "\t\twhen o_orderpriority <> '1-URGENT'\r",
      "\r\n",
      "\t\t\tand o_orderpriority <> '2-HIGH'\r",
      "\r\n",
      "\t\t\tthen 1\r",
      "\r\n",
      "\t\telse 0\r",
      "\r\n",
      "\tend) as low_line_count\r",
      "\r\n",
      "from\r",
      "\r\n",
      "\torders,\r",
      "\r\n",
      "\tlineitem\r",
      "\r\n",
      "where\r",
      "\r\n",
      "\to_orderkey = l_orderkey\r",
      "\r\n",
      "\tand l_shipmode in ('SHIP', 'FOB')\r",
      "\r\n",
      "\tand l_commitdate < l_receiptdate\r",
      "\r\n",
      "\tand l_shipdate < l_commitdate\r",
      "\r\n",
      "\tand l_receiptdate >= date '1997-01-01'\r",
      "\r\n",
      "\tand l_receiptdate < date '1997-01-01' + interval '1' year\r",
      "\r\n",
      "group by\r",
      "\r\n",
      "\tl_shipmode\r",
      "\r\n",
      "order by\r",
      "\r\n",
      "\tl_shipmode\r",
      "\r\n",
      "LIMIT 1;"
     ]
    }
   ],
   "source": [
    "# Mostrando a consulta\n",
    "!cat /app/notebooks/tpch-pgsql/query_root/perf_query_gen/12.sql"
   ]
  },
  {
   "cell_type": "code",
   "execution_count": 35,
   "metadata": {},
   "outputs": [
    {
     "name": "stdout",
     "output_type": "stream",
     "text": [
      " l_shipmode | high_line_count | low_line_count \r\n",
      "------------+-----------------+----------------\r\n",
      " FOB        |            6335 |           9242\r\n",
      "(1 row)\r\n",
      "\r\n"
     ]
    }
   ],
   "source": [
    "# Mostrando o resultado da consulta\n",
    "!PGPASSWORD=test123 psql -h localhost -p 5432 -U tpch -d tpchdb -f /app/notebooks/tpch-pgsql/query_root/perf_query_gen/12.sql"
   ]
  },
  {
   "cell_type": "markdown",
   "metadata": {},
   "source": [
    "#### Consulta 13.sql"
   ]
  },
  {
   "cell_type": "code",
   "execution_count": 36,
   "metadata": {},
   "outputs": [
    {
     "name": "stdout",
     "output_type": "stream",
     "text": [
      "-- using 1686277231 as a seed to the RNG\r\n",
      "\r",
      "\r\n",
      "\r",
      "\r\n",
      "select\r",
      "\r\n",
      "\tc_count,\r",
      "\r\n",
      "\tcount(*) as custdist\r",
      "\r\n",
      "from\r",
      "\r\n",
      "\t(\r",
      "\r\n",
      "\t\tselect\r",
      "\r\n",
      "\t\t\tc_custkey,\r",
      "\r\n",
      "\t\t\tcount(o_orderkey)\r",
      "\r\n",
      "\t\tfrom\r",
      "\r\n",
      "\t\t\tcustomer left outer join orders on\r",
      "\r\n",
      "\t\t\t\tc_custkey = o_custkey\r",
      "\r\n",
      "\t\t\t\tand o_comment not like '%express%deposits%'\r",
      "\r\n",
      "\t\tgroup by\r",
      "\r\n",
      "\t\t\tc_custkey\r",
      "\r\n",
      "\t) as c_orders (c_custkey, c_count)\r",
      "\r\n",
      "group by\r",
      "\r\n",
      "\tc_count\r",
      "\r\n",
      "order by\r",
      "\r\n",
      "\tcustdist desc,\r",
      "\r\n",
      "\tc_count desc\r",
      "\r\n",
      "LIMIT 1;"
     ]
    }
   ],
   "source": [
    "# Mostrando a consulta\n",
    "!cat /app/notebooks/tpch-pgsql/query_root/perf_query_gen/13.sql"
   ]
  },
  {
   "cell_type": "code",
   "execution_count": 37,
   "metadata": {},
   "outputs": [
    {
     "name": "stdout",
     "output_type": "stream",
     "text": [
      " c_count | custdist \r\n",
      "---------+----------\r\n",
      "       0 |    50005\r\n",
      "(1 row)\r\n",
      "\r\n"
     ]
    }
   ],
   "source": [
    "# Mostrando o resultado da consulta\n",
    "!PGPASSWORD=test123 psql -h localhost -p 5432 -U tpch -d tpchdb -f /app/notebooks/tpch-pgsql/query_root/perf_query_gen/13.sql"
   ]
  },
  {
   "cell_type": "markdown",
   "metadata": {},
   "source": [
    "#### Consulta 14.sql"
   ]
  },
  {
   "cell_type": "code",
   "execution_count": 38,
   "metadata": {},
   "outputs": [
    {
     "name": "stdout",
     "output_type": "stream",
     "text": [
      "-- using 1686277231 as a seed to the RNG\r\n",
      "\r",
      "\r\n",
      "\r",
      "\r\n",
      "select\r",
      "\r\n",
      "\t100.00 * sum(case\r",
      "\r\n",
      "\t\twhen p_type like 'PROMO%'\r",
      "\r\n",
      "\t\t\tthen l_extendedprice * (1 - l_discount)\r",
      "\r\n",
      "\t\telse 0\r",
      "\r\n",
      "\tend) / sum(l_extendedprice * (1 - l_discount)) as promo_revenue\r",
      "\r\n",
      "from\r",
      "\r\n",
      "\tlineitem,\r",
      "\r\n",
      "\tpart\r",
      "\r\n",
      "where\r",
      "\r\n",
      "\tl_partkey = p_partkey\r",
      "\r\n",
      "\tand l_shipdate >= date '1997-07-01'\r",
      "\r\n",
      "\tand l_shipdate < date '1997-07-01' + interval '1' month\r",
      "\r\n",
      "LIMIT 1;"
     ]
    }
   ],
   "source": [
    "# Mostrando a consulta\n",
    "!cat /app/notebooks/tpch-pgsql/query_root/perf_query_gen/14.sql"
   ]
  },
  {
   "cell_type": "code",
   "execution_count": 39,
   "metadata": {},
   "outputs": [
    {
     "name": "stdout",
     "output_type": "stream",
     "text": [
      "    promo_revenue    \r\n",
      "---------------------\r\n",
      " 16.7321716605670757\r\n",
      "(1 row)\r\n",
      "\r\n"
     ]
    }
   ],
   "source": [
    "# Mostrando o resultado da consulta\n",
    "!PGPASSWORD=test123 psql -h localhost -p 5432 -U tpch -d tpchdb -f /app/notebooks/tpch-pgsql/query_root/perf_query_gen/14.sql"
   ]
  },
  {
   "cell_type": "markdown",
   "metadata": {},
   "source": [
    "#### Consulta 15.sql"
   ]
  },
  {
   "cell_type": "code",
   "execution_count": 40,
   "metadata": {},
   "outputs": [
    {
     "name": "stdout",
     "output_type": "stream",
     "text": [
      "-- using 1686277231 as a seed to the RNG\r\n",
      "\r",
      "\r\n",
      "create view revenue0 (supplier_no, total_revenue) as\r",
      "\r\n",
      "\tselect\r",
      "\r\n",
      "\t\tl_suppkey,\r",
      "\r\n",
      "\t\tsum(l_extendedprice * (1 - l_discount))\r",
      "\r\n",
      "\tfrom\r",
      "\r\n",
      "\t\tlineitem\r",
      "\r\n",
      "\twhere\r",
      "\r\n",
      "\t\tl_shipdate >= date '1994-05-01'\r",
      "\r\n",
      "\t\tand l_shipdate < date '1994-05-01' + interval '3' month\r",
      "\r\n",
      "\tgroup by\r",
      "\r\n",
      "\t\tl_suppkey;\r",
      "\r\n",
      "\r",
      "\r\n",
      "\r",
      "\r\n",
      "select\r",
      "\r\n",
      "\ts_suppkey,\r",
      "\r\n",
      "\ts_name,\r",
      "\r\n",
      "\ts_address,\r",
      "\r\n",
      "\ts_phone,\r",
      "\r\n",
      "\ttotal_revenue\r",
      "\r\n",
      "from\r",
      "\r\n",
      "\tsupplier,\r",
      "\r\n",
      "\trevenue0\r",
      "\r\n",
      "where\r",
      "\r\n",
      "\ts_suppkey = supplier_no\r",
      "\r\n",
      "\tand total_revenue = (\r",
      "\r\n",
      "\t\tselect\r",
      "\r\n",
      "\t\t\tmax(total_revenue)\r",
      "\r\n",
      "\t\tfrom\r",
      "\r\n",
      "\t\t\trevenue0\r",
      "\r\n",
      "\t)\r",
      "\r\n",
      "order by\r",
      "\r\n",
      "\ts_suppkey\r",
      "\r\n",
      "LIMIT 1;\r",
      "\r\n",
      "\r",
      "\r\n",
      "drop view revenue0;"
     ]
    }
   ],
   "source": [
    "# Mostrando a consulta\n",
    "!cat /app/notebooks/tpch-pgsql/query_root/perf_query_gen/15.sql"
   ]
  },
  {
   "cell_type": "code",
   "execution_count": 41,
   "metadata": {},
   "outputs": [
    {
     "name": "stdout",
     "output_type": "stream",
     "text": [
      "CREATE VIEW\n",
      " s_suppkey |          s_name           |      s_address      |     s_phone     | total_revenue \n",
      "-----------+---------------------------+---------------------+-----------------+---------------\n",
      "      3301 | Supplier#000003301        | avceT9G9MnYQuzH,VCT | 14-412-668-5330 |  1904848.3249\n",
      "(1 row)\n",
      "\n",
      "DROP VIEW\n"
     ]
    }
   ],
   "source": [
    "# Mostrando o resultado da consulta\n",
    "!PGPASSWORD=test123 psql -h localhost -p 5432 -U tpch -d tpchdb -f /app/notebooks/tpch-pgsql/query_root/perf_query_gen/15.sql"
   ]
  },
  {
   "cell_type": "markdown",
   "metadata": {},
   "source": [
    "#### Consulta 16.sql"
   ]
  },
  {
   "cell_type": "code",
   "execution_count": 42,
   "metadata": {},
   "outputs": [
    {
     "name": "stdout",
     "output_type": "stream",
     "text": [
      "-- using 1686277231 as a seed to the RNG\r\n",
      "\r",
      "\r\n",
      "\r",
      "\r\n",
      "select\r",
      "\r\n",
      "\tp_brand,\r",
      "\r\n",
      "\tp_type,\r",
      "\r\n",
      "\tp_size,\r",
      "\r\n",
      "\tcount(distinct ps_suppkey) as supplier_cnt\r",
      "\r\n",
      "from\r",
      "\r\n",
      "\tpartsupp,\r",
      "\r\n",
      "\tpart\r",
      "\r\n",
      "where\r",
      "\r\n",
      "\tp_partkey = ps_partkey\r",
      "\r\n",
      "\tand p_brand <> 'Brand#51'\r",
      "\r\n",
      "\tand p_type not like 'PROMO BURNISHED%'\r",
      "\r\n",
      "\tand p_size in (10, 50, 37, 24, 48, 1, 7, 22)\r",
      "\r\n",
      "\tand ps_suppkey not in (\r",
      "\r\n",
      "\t\tselect\r",
      "\r\n",
      "\t\t\ts_suppkey\r",
      "\r\n",
      "\t\tfrom\r",
      "\r\n",
      "\t\t\tsupplier\r",
      "\r\n",
      "\t\twhere\r",
      "\r\n",
      "\t\t\ts_comment like '%Customer%Complaints%'\r",
      "\r\n",
      "\t)\r",
      "\r\n",
      "group by\r",
      "\r\n",
      "\tp_brand,\r",
      "\r\n",
      "\tp_type,\r",
      "\r\n",
      "\tp_size\r",
      "\r\n",
      "order by\r",
      "\r\n",
      "\tsupplier_cnt desc,\r",
      "\r\n",
      "\tp_brand,\r",
      "\r\n",
      "\tp_type,\r",
      "\r\n",
      "\tp_size\r",
      "\r\n",
      "LIMIT 1;"
     ]
    }
   ],
   "source": [
    "# Mostrando a consulta\n",
    "!cat /app/notebooks/tpch-pgsql/query_root/perf_query_gen/16.sql"
   ]
  },
  {
   "cell_type": "code",
   "execution_count": 43,
   "metadata": {},
   "outputs": [
    {
     "name": "stdout",
     "output_type": "stream",
     "text": [
      "  p_brand   |        p_type        | p_size | supplier_cnt \r\n",
      "------------+----------------------+--------+--------------\r\n",
      " Brand#53   | PROMO ANODIZED BRASS |     50 |           32\r\n",
      "(1 row)\r\n",
      "\r\n"
     ]
    }
   ],
   "source": [
    "# Mostrando o resultado da consulta\n",
    "!PGPASSWORD=test123 psql -h localhost -p 5432 -U tpch -d tpchdb -f /app/notebooks/tpch-pgsql/query_root/perf_query_gen/16.sql"
   ]
  },
  {
   "cell_type": "markdown",
   "metadata": {},
   "source": [
    "#### Consulta 17.sql"
   ]
  },
  {
   "cell_type": "code",
   "execution_count": 44,
   "metadata": {},
   "outputs": [
    {
     "name": "stdout",
     "output_type": "stream",
     "text": [
      "-- using 1686277231 as a seed to the RNG\r\n",
      "\r",
      "\r\n",
      "\r",
      "\r\n",
      "select\r",
      "\r\n",
      "\tsum(l_extendedprice) / 7.0 as avg_yearly\r",
      "\r\n",
      "from\r",
      "\r\n",
      "\tlineitem,\r",
      "\r\n",
      "\tpart,\r",
      "\r\n",
      "\t(SELECT l_partkey AS agg_partkey, 0.2 * avg(l_quantity) AS avg_quantity FROM lineitem GROUP BY l_partkey) part_agg\r",
      "\r\n",
      "where\r",
      "\r\n",
      "\tp_partkey = l_partkey\r",
      "\r\n",
      "\tand agg_partkey = l_partkey\r",
      "\r\n",
      "\tand p_brand = 'Brand#15'\r",
      "\r\n",
      "\tand p_container = 'SM DRUM'\r",
      "\r\n",
      "\tand l_quantity < avg_quantity\r",
      "\r\n",
      "LIMIT 1;\r",
      "\r\n"
     ]
    }
   ],
   "source": [
    "# Mostrando a consulta\n",
    "!cat /app/notebooks/tpch-pgsql/query_root/perf_query_gen/17.sql"
   ]
  },
  {
   "cell_type": "code",
   "execution_count": 45,
   "metadata": {},
   "outputs": [
    {
     "name": "stdout",
     "output_type": "stream",
     "text": [
      "     avg_yearly      \r\n",
      "---------------------\r\n",
      " 355906.551428571429\r\n",
      "(1 row)\r\n",
      "\r\n"
     ]
    }
   ],
   "source": [
    "# Mostrando o resultado da consulta\n",
    "!PGPASSWORD=test123 psql -h localhost -p 5432 -U tpch -d tpchdb -f /app/notebooks/tpch-pgsql/query_root/perf_query_gen/17.sql"
   ]
  },
  {
   "cell_type": "markdown",
   "metadata": {},
   "source": [
    "#### Consulta 18.sql"
   ]
  },
  {
   "cell_type": "code",
   "execution_count": 46,
   "metadata": {},
   "outputs": [
    {
     "name": "stdout",
     "output_type": "stream",
     "text": [
      "-- using 1686277231 as a seed to the RNG\r\n",
      "\r",
      "\r\n",
      "\r",
      "\r\n",
      "select\r",
      "\r\n",
      "\tc_name,\r",
      "\r\n",
      "\tc_custkey,\r",
      "\r\n",
      "\to_orderkey,\r",
      "\r\n",
      "\to_orderdate,\r",
      "\r\n",
      "\to_totalprice,\r",
      "\r\n",
      "\tsum(l_quantity)\r",
      "\r\n",
      "from\r",
      "\r\n",
      "\tcustomer,\r",
      "\r\n",
      "\torders,\r",
      "\r\n",
      "\tlineitem\r",
      "\r\n",
      "where\r",
      "\r\n",
      "\to_orderkey in (\r",
      "\r\n",
      "\t\tselect\r",
      "\r\n",
      "\t\t\tl_orderkey\r",
      "\r\n",
      "\t\tfrom\r",
      "\r\n",
      "\t\t\tlineitem\r",
      "\r\n",
      "\t\tgroup by\r",
      "\r\n",
      "\t\t\tl_orderkey having\r",
      "\r\n",
      "\t\t\t\tsum(l_quantity) > 315\r",
      "\r\n",
      "\t)\r",
      "\r\n",
      "\tand c_custkey = o_custkey\r",
      "\r\n",
      "\tand o_orderkey = l_orderkey\r",
      "\r\n",
      "group by\r",
      "\r\n",
      "\tc_name,\r",
      "\r\n",
      "\tc_custkey,\r",
      "\r\n",
      "\to_orderkey,\r",
      "\r\n",
      "\to_orderdate,\r",
      "\r\n",
      "\to_totalprice\r",
      "\r\n",
      "order by\r",
      "\r\n",
      "\to_totalprice desc,\r",
      "\r\n",
      "\to_orderdate\r",
      "\r\n",
      "LIMIT 100;"
     ]
    }
   ],
   "source": [
    "# Mostrando a consulta\n",
    "!cat /app/notebooks/tpch-pgsql/query_root/perf_query_gen/18.sql"
   ]
  },
  {
   "cell_type": "code",
   "execution_count": 47,
   "metadata": {},
   "outputs": [
    {
     "name": "stdout",
     "output_type": "stream",
     "text": [
      "       c_name       | c_custkey | o_orderkey | o_orderdate | o_totalprice | sum \r\n",
      "--------------------+-----------+------------+-------------+--------------+-----\r\n",
      " Customer#000128120 |    128120 |    4722021 | 1994-04-07  |    544089.09 | 323\r\n",
      " Customer#000144617 |    144617 |    3043270 | 1997-02-12  |    530604.44 | 317\r\n",
      " Customer#000066790 |     66790 |    2199712 | 1996-09-30  |    515531.82 | 327\r\n",
      " Customer#000015619 |     15619 |    3767271 | 1996-08-07  |    480083.96 | 318\r\n",
      " Customer#000147197 |    147197 |    1263015 | 1997-02-02  |    467149.67 | 320\r\n",
      " Customer#000117919 |    117919 |    2869152 | 1996-06-20  |    456815.92 | 317\r\n",
      " Customer#000126865 |    126865 |    4702759 | 1994-11-07  |    447606.65 | 320\r\n",
      " Customer#000036619 |     36619 |    4806726 | 1995-01-17  |    446704.09 | 328\r\n",
      " Customer#000119989 |    119989 |    1544643 | 1997-09-20  |    434568.25 | 320\r\n",
      "(9 rows)\r\n",
      "\r\n"
     ]
    }
   ],
   "source": [
    "# Mostrando o resultado da consulta\n",
    "!PGPASSWORD=test123 psql -h localhost -p 5432 -U tpch -d tpchdb -f /app/notebooks/tpch-pgsql/query_root/perf_query_gen/18.sql"
   ]
  },
  {
   "cell_type": "markdown",
   "metadata": {},
   "source": [
    "#### Consulta 19.sql"
   ]
  },
  {
   "cell_type": "code",
   "execution_count": 48,
   "metadata": {},
   "outputs": [
    {
     "name": "stdout",
     "output_type": "stream",
     "text": [
      "-- using 1686277231 as a seed to the RNG\r\n",
      "\r",
      "\r\n",
      "\r",
      "\r\n",
      "select\r",
      "\r\n",
      "\tsum(l_extendedprice* (1 - l_discount)) as revenue\r",
      "\r\n",
      "from\r",
      "\r\n",
      "\tlineitem,\r",
      "\r\n",
      "\tpart\r",
      "\r\n",
      "where\r",
      "\r\n",
      "\t(\r",
      "\r\n",
      "\t\tp_partkey = l_partkey\r",
      "\r\n",
      "\t\tand p_brand = 'Brand#15'\r",
      "\r\n",
      "\t\tand p_container in ('SM CASE', 'SM BOX', 'SM PACK', 'SM PKG')\r",
      "\r\n",
      "\t\tand l_quantity >= 1 and l_quantity <= 1 + 10\r",
      "\r\n",
      "\t\tand p_size between 1 and 5\r",
      "\r\n",
      "\t\tand l_shipmode in ('AIR', 'AIR REG')\r",
      "\r\n",
      "\t\tand l_shipinstruct = 'DELIVER IN PERSON'\r",
      "\r\n",
      "\t)\r",
      "\r\n",
      "\tor\r",
      "\r\n",
      "\t(\r",
      "\r\n",
      "\t\tp_partkey = l_partkey\r",
      "\r\n",
      "\t\tand p_brand = 'Brand#43'\r",
      "\r\n",
      "\t\tand p_container in ('MED BAG', 'MED BOX', 'MED PKG', 'MED PACK')\r",
      "\r\n",
      "\t\tand l_quantity >= 13 and l_quantity <= 13 + 10\r",
      "\r\n",
      "\t\tand p_size between 1 and 10\r",
      "\r\n",
      "\t\tand l_shipmode in ('AIR', 'AIR REG')\r",
      "\r\n",
      "\t\tand l_shipinstruct = 'DELIVER IN PERSON'\r",
      "\r\n",
      "\t)\r",
      "\r\n",
      "\tor\r",
      "\r\n",
      "\t(\r",
      "\r\n",
      "\t\tp_partkey = l_partkey\r",
      "\r\n",
      "\t\tand p_brand = 'Brand#51'\r",
      "\r\n",
      "\t\tand p_container in ('LG CASE', 'LG BOX', 'LG PACK', 'LG PKG')\r",
      "\r\n",
      "\t\tand l_quantity >= 20 and l_quantity <= 20 + 10\r",
      "\r\n",
      "\t\tand p_size between 1 and 15\r",
      "\r\n",
      "\t\tand l_shipmode in ('AIR', 'AIR REG')\r",
      "\r\n",
      "\t\tand l_shipinstruct = 'DELIVER IN PERSON'\r",
      "\r\n",
      "\t)\r",
      "\r\n",
      "LIMIT 1;"
     ]
    }
   ],
   "source": [
    "# Mostrando a consulta\n",
    "!cat /app/notebooks/tpch-pgsql/query_root/perf_query_gen/19.sql"
   ]
  },
  {
   "cell_type": "code",
   "execution_count": 49,
   "metadata": {},
   "outputs": [
    {
     "name": "stdout",
     "output_type": "stream",
     "text": [
      "   revenue    \r\n",
      "--------------\r\n",
      " 2846430.3139\r\n",
      "(1 row)\r\n",
      "\r\n"
     ]
    }
   ],
   "source": [
    "# Mostrando o resultado da consulta\n",
    "!PGPASSWORD=test123 psql -h localhost -p 5432 -U tpch -d tpchdb -f /app/notebooks/tpch-pgsql/query_root/perf_query_gen/19.sql"
   ]
  },
  {
   "cell_type": "markdown",
   "metadata": {},
   "source": [
    "#### Consulta 20.sql"
   ]
  },
  {
   "cell_type": "code",
   "execution_count": 50,
   "metadata": {},
   "outputs": [
    {
     "name": "stdout",
     "output_type": "stream",
     "text": [
      "-- using 1686277231 as a seed to the RNG\r\n",
      "\r",
      "\r\n",
      "\r",
      "\r\n",
      "select\r",
      "\r\n",
      "\ts_name,\r",
      "\r\n",
      "\ts_address\r",
      "\r\n",
      "from\r",
      "\r\n",
      "\tsupplier,\r",
      "\r\n",
      "\tnation\r",
      "\r\n",
      "where\r",
      "\r\n",
      "\ts_suppkey in (\r",
      "\r\n",
      "\t\tselect\r",
      "\r\n",
      "\t\t\tps_suppkey\r",
      "\r\n",
      "\t\tfrom\r",
      "\r\n",
      "\t\t\tpartsupp,\r",
      "\r\n",
      "\t\t\t(\r",
      "\r\n",
      "\t\t\t\tselect\r",
      "\r\n",
      "\t\t\t\t\tl_partkey agg_partkey,\r",
      "\r\n",
      "\t\t\t\t\tl_suppkey agg_suppkey,\r",
      "\r\n",
      "\t\t\t\t\t0.5 * sum(l_quantity) AS agg_quantity\r",
      "\r\n",
      "\t\t\t\tfrom\r",
      "\r\n",
      "\t\t\t\t\tlineitem\r",
      "\r\n",
      "\t\t\t\twhere\r",
      "\r\n",
      "\t\t\t\t\tl_shipdate >= date '1996-01-01'\r",
      "\r\n",
      "\t\t\t\t\tand l_shipdate < date '1996-01-01' + interval '1' year\r",
      "\r\n",
      "\t\t\t\tgroup by\r",
      "\r\n",
      "\t\t\t\t\tl_partkey,\r",
      "\r\n",
      "\t\t\t\t\tl_suppkey\r",
      "\r\n",
      "\t\t\t) agg_lineitem\r",
      "\r\n",
      "\t\twhere\r",
      "\r\n",
      "\t\t\tagg_partkey = ps_partkey\r",
      "\r\n",
      "\t\t\tand agg_suppkey = ps_suppkey\r",
      "\r\n",
      "\t\t\tand ps_partkey in (\r",
      "\r\n",
      "\t\t\t\tselect\r",
      "\r\n",
      "\t\t\t\t\tp_partkey\r",
      "\r\n",
      "\t\t\t\tfrom\r",
      "\r\n",
      "\t\t\t\t\tpart\r",
      "\r\n",
      "\t\t\t\twhere\r",
      "\r\n",
      "\t\t\t\t\tp_name like 'yellow%'\r",
      "\r\n",
      "\t\t\t)\r",
      "\r\n",
      "\t\t\tand ps_availqty > agg_quantity\r",
      "\r\n",
      "\t)\r",
      "\r\n",
      "\tand s_nationkey = n_nationkey\r",
      "\r\n",
      "\tand n_name = 'IRAQ'\r",
      "\r\n",
      "order by\r",
      "\r\n",
      "\ts_name\r",
      "\r\n",
      "LIMIT 1;\r",
      "\r\n"
     ]
    }
   ],
   "source": [
    "# Mostrando a consulta\n",
    "!cat /app/notebooks/tpch-pgsql/query_root/perf_query_gen/20.sql"
   ]
  },
  {
   "cell_type": "code",
   "execution_count": 51,
   "metadata": {},
   "outputs": [
    {
     "name": "stdout",
     "output_type": "stream",
     "text": [
      "          s_name           |  s_address   \r\n",
      "---------------------------+--------------\r\n",
      " Supplier#000000088        | yOshY8wwzMgS\r\n",
      "(1 row)\r\n",
      "\r\n"
     ]
    }
   ],
   "source": [
    "# Mostrando o resultado da consulta\n",
    "!PGPASSWORD=test123 psql -h localhost -p 5432 -U tpch -d tpchdb -f /app/notebooks/tpch-pgsql/query_root/perf_query_gen/20.sql"
   ]
  },
  {
   "cell_type": "markdown",
   "metadata": {},
   "source": [
    "#### Consulta 21.sql"
   ]
  },
  {
   "cell_type": "code",
   "execution_count": 52,
   "metadata": {},
   "outputs": [
    {
     "name": "stdout",
     "output_type": "stream",
     "text": [
      "-- using 1686277231 as a seed to the RNG\r\n",
      "\r",
      "\r\n",
      "\r",
      "\r\n",
      "select\r",
      "\r\n",
      "\ts_name,\r",
      "\r\n",
      "\tcount(*) as numwait\r",
      "\r\n",
      "from\r",
      "\r\n",
      "\tsupplier,\r",
      "\r\n",
      "\tlineitem l1,\r",
      "\r\n",
      "\torders,\r",
      "\r\n",
      "\tnation\r",
      "\r\n",
      "where\r",
      "\r\n",
      "\ts_suppkey = l1.l_suppkey\r",
      "\r\n",
      "\tand o_orderkey = l1.l_orderkey\r",
      "\r\n",
      "\tand o_orderstatus = 'F'\r",
      "\r\n",
      "\tand l1.l_receiptdate > l1.l_commitdate\r",
      "\r\n",
      "\tand exists (\r",
      "\r\n",
      "\t\tselect\r",
      "\r\n",
      "\t\t\t*\r",
      "\r\n",
      "\t\tfrom\r",
      "\r\n",
      "\t\t\tlineitem l2\r",
      "\r\n",
      "\t\twhere\r",
      "\r\n",
      "\t\t\tl2.l_orderkey = l1.l_orderkey\r",
      "\r\n",
      "\t\t\tand l2.l_suppkey <> l1.l_suppkey\r",
      "\r\n",
      "\t)\r",
      "\r\n",
      "\tand not exists (\r",
      "\r\n",
      "\t\tselect\r",
      "\r\n",
      "\t\t\t*\r",
      "\r\n",
      "\t\tfrom\r",
      "\r\n",
      "\t\t\tlineitem l3\r",
      "\r\n",
      "\t\twhere\r",
      "\r\n",
      "\t\t\tl3.l_orderkey = l1.l_orderkey\r",
      "\r\n",
      "\t\t\tand l3.l_suppkey <> l1.l_suppkey\r",
      "\r\n",
      "\t\t\tand l3.l_receiptdate > l3.l_commitdate\r",
      "\r\n",
      "\t)\r",
      "\r\n",
      "\tand s_nationkey = n_nationkey\r",
      "\r\n",
      "\tand n_name = 'CHINA'\r",
      "\r\n",
      "group by\r",
      "\r\n",
      "\ts_name\r",
      "\r\n",
      "order by\r",
      "\r\n",
      "\tnumwait desc,\r",
      "\r\n",
      "\ts_name\r",
      "\r\n",
      "LIMIT 100;"
     ]
    }
   ],
   "source": [
    "# Mostrando a consulta\n",
    "!cat /app/notebooks/tpch-pgsql/query_root/perf_query_gen/21.sql"
   ]
  },
  {
   "cell_type": "code",
   "execution_count": 53,
   "metadata": {},
   "outputs": [
    {
     "name": "stdout",
     "output_type": "stream",
     "text": [
      "          s_name           | numwait \r\n",
      "---------------------------+---------\r\n",
      " Supplier#000009657        |      21\r\n",
      " Supplier#000002482        |      20\r\n",
      " Supplier#000003879        |      20\r\n",
      " Supplier#000001876        |      18\r\n",
      " Supplier#000005814        |      18\r\n",
      " Supplier#000006061        |      18\r\n",
      " Supplier#000000793        |      17\r\n",
      " Supplier#000003763        |      17\r\n",
      " Supplier#000005541        |      17\r\n",
      " Supplier#000006105        |      17\r\n",
      " Supplier#000006992        |      17\r\n",
      " Supplier#000009048        |      17\r\n",
      " Supplier#000002614        |      16\r\n",
      " Supplier#000004487        |      16\r\n",
      " Supplier#000006965        |      16\r\n",
      " Supplier#000007539        |      16\r\n",
      " Supplier#000000011        |      15\r\n",
      " Supplier#000001928        |      15\r\n",
      " Supplier#000002681        |      15\r\n",
      " Supplier#000004448        |      15\r\n",
      " Supplier#000006539        |      15\r\n",
      " Supplier#000008743        |      15\r\n",
      " Supplier#000009045        |      15\r\n",
      " Supplier#000009939        |      15\r\n",
      " Supplier#000000213        |      14\r\n",
      " Supplier#000000584        |      14\r\n",
      " Supplier#000000663        |      14\r\n",
      " Supplier#000001686        |      14\r\n",
      " Supplier#000002231        |      14\r\n",
      " Supplier#000002903        |      14\r\n",
      " Supplier#000003392        |      14\r\n",
      " Supplier#000003876        |      14\r\n",
      " Supplier#000004471        |      14\r\n",
      " Supplier#000005772        |      14\r\n",
      " Supplier#000005829        |      14\r\n",
      " Supplier#000005854        |      14\r\n",
      " Supplier#000006024        |      14\r\n",
      " Supplier#000006914        |      14\r\n",
      " Supplier#000007302        |      14\r\n",
      " Supplier#000007401        |      14\r\n",
      " Supplier#000007411        |      14\r\n",
      " Supplier#000007533        |      14\r\n",
      " Supplier#000007750        |      14\r\n",
      " Supplier#000001045        |      13\r\n",
      " Supplier#000001168        |      13\r\n",
      " Supplier#000001505        |      13\r\n",
      " Supplier#000001704        |      13\r\n",
      " Supplier#000001783        |      13\r\n",
      " Supplier#000002263        |      13\r\n",
      " Supplier#000002290        |      13\r\n",
      " Supplier#000002375        |      13\r\n",
      " Supplier#000002484        |      13\r\n",
      " Supplier#000002591        |      13\r\n",
      " Supplier#000002715        |      13\r\n",
      " Supplier#000002736        |      13\r\n",
      " Supplier#000003563        |      13\r\n",
      " Supplier#000003643        |      13\r\n",
      " Supplier#000004046        |      13\r\n",
      " Supplier#000004645        |      13\r\n",
      " Supplier#000005593        |      13\r\n",
      " Supplier#000005758        |      13\r\n",
      " Supplier#000006309        |      13\r\n",
      " Supplier#000006357        |      13\r\n",
      " Supplier#000006972        |      13\r\n",
      " Supplier#000007355        |      13\r\n",
      " Supplier#000007468        |      13\r\n",
      " Supplier#000007586        |      13\r\n",
      " Supplier#000008563        |      13\r\n",
      " Supplier#000008764        |      13\r\n",
      " Supplier#000009238        |      13\r\n",
      " Supplier#000009433        |      13\r\n",
      " Supplier#000009522        |      13\r\n",
      " Supplier#000000385        |      12\r\n",
      " Supplier#000000662        |      12\r\n",
      " Supplier#000000724        |      12\r\n",
      " Supplier#000000915        |      12\r\n",
      " Supplier#000000956        |      12\r\n",
      " Supplier#000001027        |      12\r\n",
      " Supplier#000001106        |      12\r\n",
      " Supplier#000001221        |      12\r\n",
      " Supplier#000001378        |      12\r\n",
      " Supplier#000001487        |      12\r\n",
      " Supplier#000001586        |      12\r\n",
      " Supplier#000001729        |      12\r\n",
      " Supplier#000002068        |      12\r\n",
      " Supplier#000002098        |      12\r\n",
      " Supplier#000002195        |      12\r\n",
      " Supplier#000002667        |      12\r\n",
      " Supplier#000004042        |      12\r\n",
      " Supplier#000004182        |      12\r\n",
      " Supplier#000004525        |      12\r\n",
      " Supplier#000004666        |      12\r\n",
      " Supplier#000004724        |      12\r\n",
      " Supplier#000005218        |      12\r\n",
      " Supplier#000005781        |      12\r\n",
      " Supplier#000005832        |      12\r\n",
      " Supplier#000005895        |      12\r\n",
      " Supplier#000006429        |      12\r\n",
      " Supplier#000006793        |      12\r\n",
      " Supplier#000006848        |      12\r\n",
      "(100 rows)\r\n",
      "\r\n"
     ]
    }
   ],
   "source": [
    "# Mostrando o resultado da consulta\n",
    "!PGPASSWORD=test123 psql -h localhost -p 5432 -U tpch -d tpchdb -f /app/notebooks/tpch-pgsql/query_root/perf_query_gen/21.sql"
   ]
  },
  {
   "cell_type": "markdown",
   "metadata": {},
   "source": [
    "#### Consulta 22.sql"
   ]
  },
  {
   "cell_type": "code",
   "execution_count": 54,
   "metadata": {},
   "outputs": [
    {
     "name": "stdout",
     "output_type": "stream",
     "text": [
      "-- using 1686277231 as a seed to the RNG\r\n",
      "\r",
      "\r\n",
      "\r",
      "\r\n",
      "select\r",
      "\r\n",
      "\tcntrycode,\r",
      "\r\n",
      "\tcount(*) as numcust,\r",
      "\r\n",
      "\tsum(c_acctbal) as totacctbal\r",
      "\r\n",
      "from\r",
      "\r\n",
      "\t(\r",
      "\r\n",
      "\t\tselect\r",
      "\r\n",
      "\t\t\tsubstring(c_phone from 1 for 2) as cntrycode,\r",
      "\r\n",
      "\t\t\tc_acctbal\r",
      "\r\n",
      "\t\tfrom\r",
      "\r\n",
      "\t\t\tcustomer\r",
      "\r\n",
      "\t\twhere\r",
      "\r\n",
      "\t\t\tsubstring(c_phone from 1 for 2) in\r",
      "\r\n",
      "\t\t\t\t('31', '43', '24', '23', '20', '25', '36')\r",
      "\r\n",
      "\t\t\tand c_acctbal > (\r",
      "\r\n",
      "\t\t\t\tselect\r",
      "\r\n",
      "\t\t\t\t\tavg(c_acctbal)\r",
      "\r\n",
      "\t\t\t\tfrom\r",
      "\r\n",
      "\t\t\t\t\tcustomer\r",
      "\r\n",
      "\t\t\t\twhere\r",
      "\r\n",
      "\t\t\t\t\tc_acctbal > 0.00\r",
      "\r\n",
      "\t\t\t\t\tand substring(c_phone from 1 for 2) in\r",
      "\r\n",
      "\t\t\t\t\t\t('31', '43', '24', '23', '20', '25', '36')\r",
      "\r\n",
      "\t\t\t)\r",
      "\r\n",
      "\t\t\tand not exists (\r",
      "\r\n",
      "\t\t\t\tselect\r",
      "\r\n",
      "\t\t\t\t\t*\r",
      "\r\n",
      "\t\t\t\tfrom\r",
      "\r\n",
      "\t\t\t\t\torders\r",
      "\r\n",
      "\t\t\t\twhere\r",
      "\r\n",
      "\t\t\t\t\to_custkey = c_custkey\r",
      "\r\n",
      "\t\t\t)\r",
      "\r\n",
      "\t) as custsale\r",
      "\r\n",
      "group by\r",
      "\r\n",
      "\tcntrycode\r",
      "\r\n",
      "order by\r",
      "\r\n",
      "\tcntrycode\r",
      "\r\n",
      "LIMIT 1;"
     ]
    }
   ],
   "source": [
    "# Mostrando a consulta\n",
    "!cat /app/notebooks/tpch-pgsql/query_root/perf_query_gen/22.sql"
   ]
  },
  {
   "cell_type": "code",
   "execution_count": 55,
   "metadata": {},
   "outputs": [
    {
     "name": "stdout",
     "output_type": "stream",
     "text": [
      " cntrycode | numcust | totacctbal \r\n",
      "-----------+---------+------------\r\n",
      " 20        |     916 | 6824676.02\r\n",
      "(1 row)\r\n",
      "\r\n"
     ]
    }
   ],
   "source": [
    "# Mostrando o resultado da consulta\n",
    "!PGPASSWORD=test123 psql -h localhost -p 5432 -U tpch -d tpchdb -f /app/notebooks/tpch-pgsql/query_root/perf_query_gen/22.sql"
   ]
  },
  {
   "cell_type": "markdown",
   "metadata": {},
   "source": [
    "--------------------------------------------\n",
    "### Tarefa 4 – Identificação do Sistema\n",
    "Identifique o sistema que será usado para os experimentos, incluindo informações sobre o hardware e o Sistema Operacional utilizado.\n",
    "Sobre o tipo de processador, quantidade de memória RAM, tamanho do disco.\n",
    "Devem ser também apresentadas informações sobre as caches existentes.\n",
    "Sobre o Sistema Operacional, que devem ser Linux, incluir informações sobre qual a distribuição usada, versão do sistema,\n",
    "versão do Kernel, etc.\n",
    "\n",
    "__Entrega:__ As informações pedidas devem ser apresentadas no jupyter notebook\n",
    "\n",
    "<span style=\"color:orange\">__Resposta:__</span> \n",
    "\n",
    "- **Marca do Notebook:** Dell Inc. Inspiron 5480\n",
    "\n",
    "- **Tipo de Processador:** Intel® Core™ i5-8265U CPU @ 1.60GHz × 8\n",
    "\n",
    "- **Quantidade de Memória RAM:** 8 GB\n",
    "\n",
    "- **Tamanho do Disco:** 1 TB\n",
    "\n",
    "- **Caches Existentes:**    \n",
    "\n",
    "  L1d: 128 KiB (4 instances)\n",
    "\n",
    "  L1i: 128 KiB (4 instances)\n",
    "\n",
    "  L2: 1 MiB (4 instances)\n",
    "\n",
    "  L3: 6 MiB (1 instance)\n",
    "\n",
    "- **Sistema Operacional:** Ubuntu 22.04 LTS 64 bits\n",
    "\n",
    "- **Dsitribuição Linux:** Ubuntu\n",
    "\n",
    "- **Versão do Sistema:** 22.04 (Jammy Jellyfish)\n",
    "\n",
    "- **Versão do Kernel:** 5.19.0-42-generic\n",
    "\n"
   ]
  },
  {
   "cell_type": "markdown",
   "metadata": {},
   "source": [
    "--------------------------------------------\n",
    "### Tarefa 5 - Verificação de parâmetros de armazenamento\n",
    "**a)** Verifique no disco que será usado para os experimentos no laboratório os seguintes parâmetros: Nr. de superfícies, cilindros, setores por trilha, velocidade de rotação, latência rotacional; tempos de seek médio, máximo e mínimo; tempo para a próxima trilha; e taxa de transferência."
   ]
  },
  {
   "attachments": {
    "image-2.png": {
     "image/png": "[encoded data removed]"
    },
    "image.png": {
     "image/png": "[encoded data removed]"
    }
   },
   "cell_type": "markdown",
   "metadata": {},
   "source": [
    "<span style=\"color:orange\">__Resposta letra A:__</span> \n",
    "\n",
    "utilizando o comando **sudo hdparm -I /dev/sda**, verificamos as seguintes especificações:\n",
    "\n",
    "![image.png](attachment:image.png)\n",
    "\n",
    "![image-2.png](attachment:image-2.png)\n",
    "\n",
    "- **Nr. de superfícies:** 16\n",
    "- **Cilindros:** 16383\n",
    "- **Setores por trilha:** 63 \n",
    "- **Velocidade de rotação:** 5400 RPM \n",
    "- **Latência rotacional:** [não temos como verificar no notebook pois estamos remotamente, e não localmente]\n",
    "- **Tempos de seek médio, máximo e mínimo:** [não temos como verificar no notebook pois estamos remotamente, e não localmente]\n",
    "- **Tempo para a próxima trilha:** [não temos como verificar no notebook pois estamos remotamente, e não localmente]\n",
    "- **Taxa de transferência:** [não temos como verificar no notebook pois estamos remotamente, e não localmente]"
   ]
  },
  {
   "cell_type": "markdown",
   "metadata": {},
   "source": [
    "**b)** Utilizando o comando “hdparm” do Linux, verifique os parâmetros dos parâmetros de S.O. que serão utilizados para o disco.\n",
    "\n",
    "<span style=\"color:orange\">__Resposta letra B:__</span> Com base na saída da célula da letra anterior, podemos extrair algumas informações relevantes sobre os parâmetros do SO utilizado pelo disco: \n",
    "\n",
    "- O disco é um modelo WDC WD10SPZX-75Z10T2 da Western Digital, com firmware na versão 03.01A03.\n",
    "\n",
    "- O disco utiliza a interface Serial ATA (SATA) e suporta várias revisões dessa interface, incluindo SATA 1.0a, SATA II Extensions, SATA Rev 2.5, SATA Rev 2.6 e SATA Rev 3.0.\n",
    "\n",
    "- O tamanho lógico do setor é de 512 bytes, enquanto o tamanho físico do setor é de 4096 bytes.\n",
    "\n",
    "- O disco é do tipo de 2,5 polegadas e possui uma velocidade nominal de rotação de 5400 RPM (rotações por minuto).\n",
    "\n",
    "- Os recursos e comandos suportados pelo disco incluem SMART (Self-Monitoring, Analysis and Reporting Technology), Power Management, Write Cache, Look-ahead, Advanced Power Management, 48-bit Address, FLUSH_CACHE, SMART error logging, SMART self-test, General Purpose Logging, Native Command Queueing (NCQ), entre outros."
   ]
  },
  {
   "attachments": {
    "image.png": {
     "image/png": "[encoded data removed]"
    }
   },
   "cell_type": "markdown",
   "metadata": {},
   "source": [
    "**c)** Verifique o tamanho de bloco utilizado e mostre como alterar o tamanho dos blocos\n",
    "\n",
    "__Entrega:__  Os resultados de cada verificação devem ser preenchidas no jupyter notebook\n",
    "\n",
    "<span style=\"color:orange\">__Resposta letra C:__</span>\n",
    "\n",
    "utilizando o comando **sudo blockdev --getbsz /dev/sda**, podemos verificar o tamanho do bloco:\n",
    "\n",
    "![image.png](attachment:image.png)\n",
    "\n",
    "para alterar o tamanho dos blocos basta o comando: **udo blockdev --setbsz Tamanho_Desejado /dev/sda**"
   ]
  }
 ],
 "metadata": {
  "kernelspec": {
   "display_name": "Python 3 (ipykernel)",
   "language": "python",
   "name": "python3"
  },
  "language_info": {
   "codemirror_mode": {
    "name": "ipython",
    "version": 3
   },
   "file_extension": ".py",
   "mimetype": "text/x-python",
   "name": "python",
   "nbconvert_exporter": "python",
   "pygments_lexer": "ipython3",
   "version": "3.10.6"
  }
 },
 "nbformat": 4,
 "nbformat_minor": 2
}
