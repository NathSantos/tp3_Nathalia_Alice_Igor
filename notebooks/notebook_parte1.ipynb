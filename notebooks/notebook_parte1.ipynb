{
 "cells": [
  {
   "cell_type": "markdown",
   "metadata": {},
   "source": [
    "***\n",
    "## Parte I\n",
    "\n",
    "Esta primeira parte do trabalho tem dois objetivos principais. O primeiro é verificar alguns parâmetros do\n",
    "hardware e do software utilizado e o segundo é que os estudantes preparem e se familiarizar com o\n",
    "ambiente do PostgreSQL\n",
    "\n",
    "- _Alice Teles Lucena_\n",
    "- _Igor de Souza Lima_\n",
    "- _Nathália Rodrigues Machado dos Santos_"
   ]
  },
  {
   "cell_type": "markdown",
   "metadata": {},
   "source": [
    "--------------------------------------------\n",
    "### Tarefa 1 – Instalação do PostgreSQL\n",
    "\n",
    "A primeira tarefa deste trabalho consiste na instalação do PostgreSQL.\n",
    "As fontes e as instruções de instalação estão em: http://www.postgresql.org.\n",
    "\n",
    "__Entrega:__ Deve ser apresentada saída do log de instalação.\n",
    "\n",
    "<span style=\"color:orange\">__Resposta:__</span> O postgresql está sendo instalado no próprio Dockerfile. Execute a célula a seguir para verificar a versão instalada"
   ]
  },
  {
   "cell_type": "code",
   "execution_count": 1,
   "metadata": {},
   "outputs": [
    {
     "name": "stdout",
     "output_type": "stream",
     "text": [
      "psql (PostgreSQL) 14.8 (Ubuntu 14.8-0ubuntu0.22.04.1)\r\n"
     ]
    }
   ],
   "source": [
    "# Verificando a versão do PostgreSQL\n",
    "!psql --version"
   ]
  },
  {
   "cell_type": "markdown",
   "metadata": {},
   "source": [
    "--------------------------------------------\n",
    "### Tarefa 2 – Geração de um BD de testes\n",
    "\n",
    "A segunda tarefa deste trabalho consiste na criação de banco de dados em cada um dos sistemas e o\n",
    "povoamento destas tabelas com dados sintéticos.\n",
    "Para a definição do esquema das tabelas e os dados a\n",
    "serem carregados usaremos a especificação e os utilitários fornecidos pelos Benchmark TPC-H\n",
    "(http://www.tpc.org/tpch/).\n",
    "\n",
    "Para geração do BD no PostgreSQL, siga as instruções disponíveis em:\n",
    "https://github.com/foliveirafilho/tpch-pgsql\n",
    "\n",
    "__Entrega:__ Devem ser apresentadas as saídas da execução dos scripts de geração.\n",
    "\n",
    "<span style=\"color:orange\">__Resposta:__</span>"
   ]
  },
  {
   "cell_type": "code",
   "execution_count": 2,
   "metadata": {},
   "outputs": [
    {
     "name": "stdout",
     "output_type": "stream",
     "text": [
      "Cloning into 'tpch-pgsql'...\n",
      "remote: Enumerating objects: 164, done.\u001b[K\n",
      "remote: Counting objects: 100% (4/4), done.\u001b[K\n",
      "remote: Compressing objects: 100% (4/4), done.\u001b[K\n",
      "remote: Total 164 (delta 0), reused 2 (delta 0), pack-reused 160\u001b[K\n",
      "Receiving objects: 100% (164/164), 774.39 KiB | 2.79 MiB/s, done.\n",
      "Resolving deltas: 100% (69/69), done.\n",
      "Sucesso ao clonar o repositório !!!\n"
     ]
    }
   ],
   "source": [
    "# Clonando o repositório foliveirafilho/tpch-pgsql\n",
    "!git clone https://github.com/foliveirafilho/tpch-pgsql.git\n",
    "\n",
    "print(\"Sucesso ao clonar o repositório !!!\")"
   ]
  },
  {
   "cell_type": "code",
   "execution_count": 3,
   "metadata": {},
   "outputs": [
    {
     "name": "stdout",
     "output_type": "stream",
     "text": [
      "Sucesso ao baixar os arquivos necessários para o benchmark TPCH-DBGEN !!!\n"
     ]
    }
   ],
   "source": [
    "# Baixando arquivos necessários para o benchmark TPCH-DBGEN dentro da pasta tpch-pgsql\n",
    "!cd tpch-pgsql && wget -q https://github.com/electrum/tpch-dbgen/archive/32f1c1b92d1664dba542e927d23d86ffa57aa253.zip -O tpch-dbgen.zip\n",
    "!cd tpch-pgsql && unzip -q tpch-dbgen.zip && mv tpch-dbgen-32f1c1b92d1664dba542e927d23d86ffa57aa253 tpch-dbgen && rm tpch-dbgen.zip\n",
    "\n",
    "print(\"Sucesso ao baixar os arquivos necessários para o benchmark TPCH-DBGEN !!!\")"
   ]
  },
  {
   "cell_type": "code",
   "execution_count": 4,
   "metadata": {},
   "outputs": [
    {
     "name": "stdout",
     "output_type": "stream",
     "text": [
      "gcc (Ubuntu 11.3.0-1ubuntu1~22.04.1) 11.3.0\r\n",
      "Copyright (C) 2021 Free Software Foundation, Inc.\r\n",
      "This is free software; see the source for copying conditions.  There is NO\r\n",
      "warranty; not even for MERCHANTABILITY or FITNESS FOR A PARTICULAR PURPOSE.\r\n",
      "\r\n"
     ]
    }
   ],
   "source": [
    "!gcc --version"
   ]
  },
  {
   "cell_type": "code",
   "execution_count": 5,
   "metadata": {},
   "outputs": [
    {
     "name": "stdout",
     "output_type": "stream",
     "text": [
      "Python 3.10.6\r\n"
     ]
    }
   ],
   "source": [
    "!python3 --version"
   ]
  },
  {
   "cell_type": "code",
   "execution_count": 6,
   "metadata": {},
   "outputs": [
    {
     "name": "stdout",
     "output_type": "stream",
     "text": [
      "Collecting psycopg2-binary\n",
      "  Downloading psycopg2_binary-2.9.6-cp310-cp310-manylinux_2_17_x86_64.manylinux2014_x86_64.whl (3.0 MB)\n",
      "\u001b[2K     \u001b[90m━━━━━━━━━━━━━━━━━━━━━━━━━━━━━━━━━━━━━━━━\u001b[0m \u001b[32m3.0/3.0 MB\u001b[0m \u001b[31m5.8 MB/s\u001b[0m eta \u001b[36m0:00:00\u001b[0m00:01\u001b[0m00:01\u001b[0m\n",
      "\u001b[?25hCollecting mock\n",
      "  Downloading mock-5.0.2-py3-none-any.whl (30 kB)\n",
      "Installing collected packages: psycopg2-binary, mock\n",
      "Successfully installed mock-5.0.2 psycopg2-binary-2.9.6\n",
      "\u001b[33mWARNING: Running pip as the 'root' user can result in broken permissions and conflicting behaviour with the system package manager. It is recommended to use a virtual environment instead: https://pip.pypa.io/warnings/venv\u001b[0m\u001b[33m\n",
      "\u001b[0m"
     ]
    }
   ],
   "source": [
    "# Instalando as dependências do repositório foliveirafilho/tpch-pgsql\n",
    "!pip3 install -r tpch-pgsql/requirements.txt"
   ]
  },
  {
   "cell_type": "code",
   "execution_count": 7,
   "metadata": {},
   "outputs": [
    {
     "name": "stdout",
     "output_type": "stream",
     "text": [
      "PostgreSQL 14.8 (Ubuntu 14.8-0ubuntu0.22.04.1)\r\n"
     ]
    }
   ],
   "source": [
    "!pg_config --version"
   ]
  },
  {
   "cell_type": "code",
   "execution_count": 8,
   "metadata": {},
   "outputs": [],
   "source": [
    "# Criando o usuário 'tpch' e o banco de dados 'tpchdb'\n",
    "!sudo -S -u postgres createuser tpch < mypassword.txt\n",
    "!sudo -S -u postgres createdb tpchdb < mypassword.txt"
   ]
  },
  {
   "cell_type": "code",
   "execution_count": 9,
   "metadata": {},
   "outputs": [
    {
     "name": "stdout",
     "output_type": "stream",
     "text": [
      "ALTER ROLE\n",
      "GRANT\n"
     ]
    }
   ],
   "source": [
    "# Definindo a senha do usuário 'tpch' e concedendo privilégios\n",
    "!sudo -S -u postgres psql -U postgres -c \"ALTER USER tpch WITH ENCRYPTED PASSWORD 'test123';\" < mypassword.txt\n",
    "!sudo -S -u postgres psql -U postgres -c \"GRANT ALL PRIVILEGES ON DATABASE tpchdb TO tpch;\" < mypassword.txt"
   ]
  },
  {
   "cell_type": "code",
   "execution_count": 10,
   "metadata": {},
   "outputs": [
    {
     "name": "stdout",
     "output_type": "stream",
     "text": [
      "gcc -g -DDBNAME=\\\"dss\\\" -DLINUX -DORACLE -DTPCH -DRNG_TEST -D_FILE_OFFSET_BITS=64   -c -o build.o build.c\n",
      "gcc -g -DDBNAME=\\\"dss\\\" -DLINUX -DORACLE -DTPCH -DRNG_TEST -D_FILE_OFFSET_BITS=64   -c -o driver.o driver.c\n",
      "\u001b[01m\u001b[Kdriver.c:\u001b[m\u001b[K In function ‘\u001b[01m\u001b[Kgen_tbl\u001b[m\u001b[K’:\n",
      "\u001b[01m\u001b[Kdriver.c:368:62:\u001b[m\u001b[K \u001b[01;35m\u001b[Kwarning: \u001b[m\u001b[Kformat ‘\u001b[01m\u001b[K%ld\u001b[m\u001b[K’ expects argument of type ‘\u001b[01m\u001b[Klong int\u001b[m\u001b[K’, but argument 3 has type ‘\u001b[01m\u001b[Klong long int\u001b[m\u001b[K’ [\u001b[01;35m\u001b[K\u001b]8;;https://gcc.gnu.org/onlinedocs/gcc/Warning-Options.html#index-Wformat=\u0007-Wformat=\u001b]8;;\u0007\u001b[m\u001b[K]\n",
      "  368 |                        printf(\"\\nSeeds for %s at rowcount \u001b[01;35m\u001b[K%ld\u001b[m\u001b[K\\n\", tdefs[tnum].comment, \u001b[32m\u001b[Ki\u001b[m\u001b[K);\n",
      "      |                                                           \u001b[01;35m\u001b[K~~^\u001b[m\u001b[K                          \u001b[32m\u001b[K~\u001b[m\u001b[K\n",
      "      |                                                             \u001b[01;35m\u001b[K|\u001b[m\u001b[K                          \u001b[32m\u001b[K|\u001b[m\u001b[K\n",
      "      |                                                             \u001b[01;35m\u001b[Klong int\u001b[m\u001b[K                   \u001b[32m\u001b[Klong long int\u001b[m\u001b[K\n",
      "      |                                                           \u001b[32m\u001b[K%lld\u001b[m\u001b[K\n",
      "gcc -g -DDBNAME=\\\"dss\\\" -DLINUX -DORACLE -DTPCH -DRNG_TEST -D_FILE_OFFSET_BITS=64   -c -o bm_utils.o bm_utils.c\n",
      "\u001b[01m\u001b[Kbm_utils.c:\u001b[m\u001b[K In function ‘\u001b[01m\u001b[Ktbl_open\u001b[m\u001b[K’:\n",
      "\u001b[01m\u001b[Kbm_utils.c:404:51:\u001b[m\u001b[K \u001b[01;35m\u001b[Kwarning: \u001b[m\u001b[K‘\u001b[01m\u001b[K%s\u001b[m\u001b[K’ directive writing up to 255 bytes into a region of size 231 [\u001b[01;35m\u001b[K\u001b]8;;https://gcc.gnu.org/onlinedocs/gcc/Warning-Options.html#index-Wformat-overflow=\u0007-Wformat-overflow=\u001b]8;;\u0007\u001b[m\u001b[K]\n",
      "  404 |         sprintf(prompt, \"Do you want to overwrite \u001b[01;35m\u001b[K%s\u001b[m\u001b[K ?\", \u001b[32m\u001b[Kfullpath\u001b[m\u001b[K);\n",
      "      |                                                   \u001b[01;35m\u001b[K^~\u001b[m\u001b[K     \u001b[32m\u001b[K~~~~~~~~\u001b[m\u001b[K\n",
      "\u001b[01m\u001b[Kbm_utils.c:404:9:\u001b[m\u001b[K \u001b[01;36m\u001b[Knote: \u001b[m\u001b[K‘\u001b[01m\u001b[Ksprintf\u001b[m\u001b[K’ output between 28 and 283 bytes into a destination of size 256\n",
      "  404 |         \u001b[01;36m\u001b[Ksprintf(prompt, \"Do you want to overwrite %s ?\", fullpath)\u001b[m\u001b[K;\n",
      "      |         \u001b[01;36m\u001b[K^~~~~~~~~~~~~~~~~~~~~~~~~~~~~~~~~~~~~~~~~~~~~~~~~~~~~~~~~~\u001b[m\u001b[K\n",
      "gcc -g -DDBNAME=\\\"dss\\\" -DLINUX -DORACLE -DTPCH -DRNG_TEST -D_FILE_OFFSET_BITS=64   -c -o rnd.o rnd.c\n",
      "\u001b[01m\u001b[Krnd.c:\u001b[m\u001b[K In function ‘\u001b[01m\u001b[Krow_stop\u001b[m\u001b[K’:\n",
      "\u001b[01m\u001b[Krnd.c:131:84:\u001b[m\u001b[K \u001b[01;35m\u001b[Kwarning: \u001b[m\u001b[Kformat ‘\u001b[01m\u001b[K%ld\u001b[m\u001b[K’ expects argument of type ‘\u001b[01m\u001b[Klong int\u001b[m\u001b[K’, but argument 4 has type ‘\u001b[01m\u001b[Klong long int\u001b[m\u001b[K’ [\u001b[01;35m\u001b[K\u001b]8;;https://gcc.gnu.org/onlinedocs/gcc/Warning-Options.html#index-Wformat=\u0007-Wformat=\u001b]8;;\u0007\u001b[m\u001b[K]\n",
      "  131 |                fprintf(stderr, \"\\nSEED CHANGE: seed[%d].usage = \u001b[01;35m\u001b[K%ld\u001b[m\u001b[K\\n\",\n",
      "      |                                                                 \u001b[01;35m\u001b[K~~^\u001b[m\u001b[K\n",
      "      |                                                                   \u001b[01;35m\u001b[K|\u001b[m\u001b[K\n",
      "      |                                                                   \u001b[01;35m\u001b[Klong int\u001b[m\u001b[K\n",
      "      |                                                                 \u001b[32m\u001b[K%lld\u001b[m\u001b[K\n",
      "  132 |                        i, \u001b[32m\u001b[KSeed[i].usage\u001b[m\u001b[K);\n",
      "      |                           \u001b[32m\u001b[K~~~~~~~~~~~~~\u001b[m\u001b[K                            \n",
      "      |                                  \u001b[32m\u001b[K|\u001b[m\u001b[K\n",
      "      |                                  \u001b[32m\u001b[Klong long int\u001b[m\u001b[K\n",
      "\n",
      "\u001b[01m\u001b[Krnd.c:\u001b[m\u001b[K In function ‘\u001b[01m\u001b[Kdump_seeds\u001b[m\u001b[K’:\n",
      "\u001b[01m\u001b[Krnd.c:154:38:\u001b[m\u001b[K \u001b[01;35m\u001b[Kwarning: \u001b[m\u001b[Kformat ‘\u001b[01m\u001b[K%ld\u001b[m\u001b[K’ expects argument of type ‘\u001b[01m\u001b[Klong int\u001b[m\u001b[K’, but argument 3 has type ‘\u001b[01m\u001b[Klong long int\u001b[m\u001b[K’ [\u001b[01;35m\u001b[K\u001b]8;;https://gcc.gnu.org/onlinedocs/gcc/Warning-Options.html#index-Wformat=\u0007-Wformat=\u001b]8;;\u0007\u001b[m\u001b[K]\n",
      "  154 |                         printf(\"%d(\u001b[01;35m\u001b[K%ld\u001b[m\u001b[K):\\t%ld\\n\", i, \u001b[32m\u001b[KSeed[i].nCalls\u001b[m\u001b[K, Seed[i].value);\n",
      "      |                                    \u001b[01;35m\u001b[K~~^\u001b[m\u001b[K               \u001b[32m\u001b[K~~~~~~~~~~~~~~\u001b[m\u001b[K\n",
      "      |                                      \u001b[01;35m\u001b[K|\u001b[m\u001b[K                      \u001b[32m\u001b[K|\u001b[m\u001b[K\n",
      "      |                                      \u001b[01;35m\u001b[Klong int\u001b[m\u001b[K               \u001b[32m\u001b[Klong long int\u001b[m\u001b[K\n",
      "      |                                    \u001b[32m\u001b[K%lld\u001b[m\u001b[K\n",
      "\u001b[01m\u001b[Krnd.c:154:45:\u001b[m\u001b[K \u001b[01;35m\u001b[Kwarning: \u001b[m\u001b[Kformat ‘\u001b[01m\u001b[K%ld\u001b[m\u001b[K’ expects argument of type ‘\u001b[01m\u001b[Klong int\u001b[m\u001b[K’, but argument 4 has type ‘\u001b[01m\u001b[Klong long int\u001b[m\u001b[K’ [\u001b[01;35m\u001b[K\u001b]8;;https://gcc.gnu.org/onlinedocs/gcc/Warning-Options.html#index-Wformat=\u0007-Wformat=\u001b]8;;\u0007\u001b[m\u001b[K]\n",
      "  154 |                         printf(\"%d(%ld):\\t\u001b[01;35m\u001b[K%ld\u001b[m\u001b[K\\n\", i, Seed[i].nCalls, \u001b[32m\u001b[KSeed[i].value\u001b[m\u001b[K);\n",
      "      |                                           \u001b[01;35m\u001b[K~~^\u001b[m\u001b[K                        \u001b[32m\u001b[K~~~~~~~~~~~~~\u001b[m\u001b[K\n",
      "      |                                             \u001b[01;35m\u001b[K|\u001b[m\u001b[K                               \u001b[32m\u001b[K|\u001b[m\u001b[K\n",
      "      |                                             \u001b[01;35m\u001b[Klong int\u001b[m\u001b[K                        \u001b[32m\u001b[Klong long int\u001b[m\u001b[K\n",
      "      |                                           \u001b[32m\u001b[K%lld\u001b[m\u001b[K\n",
      "gcc -g -DDBNAME=\\\"dss\\\" -DLINUX -DORACLE -DTPCH -DRNG_TEST -D_FILE_OFFSET_BITS=64   -c -o print.o print.c\n",
      "gcc -g -DDBNAME=\\\"dss\\\" -DLINUX -DORACLE -DTPCH -DRNG_TEST -D_FILE_OFFSET_BITS=64   -c -o load_stub.o load_stub.c\n",
      "gcc -g -DDBNAME=\\\"dss\\\" -DLINUX -DORACLE -DTPCH -DRNG_TEST -D_FILE_OFFSET_BITS=64   -c -o bcd2.o bcd2.c\n",
      "gcc -g -DDBNAME=\\\"dss\\\" -DLINUX -DORACLE -DTPCH -DRNG_TEST -D_FILE_OFFSET_BITS=64   -c -o speed_seed.o speed_seed.c\n",
      "gcc -g -DDBNAME=\\\"dss\\\" -DLINUX -DORACLE -DTPCH -DRNG_TEST -D_FILE_OFFSET_BITS=64   -c -o text.o text.c\n",
      "gcc -g -DDBNAME=\\\"dss\\\" -DLINUX -DORACLE -DTPCH -DRNG_TEST -D_FILE_OFFSET_BITS=64   -c -o permute.o permute.c\n",
      "gcc -g -DDBNAME=\\\"dss\\\" -DLINUX -DORACLE -DTPCH -DRNG_TEST -D_FILE_OFFSET_BITS=64   -c -o rng64.o rng64.c\n",
      "gcc -g -DDBNAME=\\\"dss\\\" -DLINUX -DORACLE -DTPCH -DRNG_TEST -D_FILE_OFFSET_BITS=64 -O -o dbgen build.o driver.o bm_utils.o rnd.o print.o load_stub.o bcd2.o speed_seed.o text.o permute.o rng64.o -lm\n",
      "gcc -g -DDBNAME=\\\"dss\\\" -DLINUX -DORACLE -DTPCH -DRNG_TEST -D_FILE_OFFSET_BITS=64   -c -o qgen.o qgen.c\n",
      "In file included from \u001b[01m\u001b[Kqgen.c:41\u001b[m\u001b[K:\n",
      "\u001b[01m\u001b[Kqgen.c:\u001b[m\u001b[K In function ‘\u001b[01m\u001b[Kqsub\u001b[m\u001b[K’:\n",
      "\u001b[01m\u001b[Ktpcd.h:76:19:\u001b[m\u001b[K \u001b[01;35m\u001b[Kwarning: \u001b[m\u001b[Kzero-length gnu_printf format string [\u001b[01;35m\u001b[K\u001b]8;;https://gcc.gnu.org/onlinedocs/gcc/Warning-Options.html#index-Wformat-zero-length\u0007-Wformat-zero-length\u001b]8;;\u0007\u001b[m\u001b[K]\n",
      "   76 | #define SET_DBASE \u001b[01;35m\u001b[K\"\"\u001b[m\u001b[K\n",
      "      |                   \u001b[01;35m\u001b[K^~\u001b[m\u001b[K\n",
      "\u001b[01m\u001b[Kqgen.c:197:38:\u001b[m\u001b[K \u001b[01;36m\u001b[Knote: \u001b[m\u001b[Kin expansion of macro ‘\u001b[01m\u001b[KSET_DBASE\u001b[m\u001b[K’\n",
      "  197 |                         fprintf(ofp, \u001b[01;36m\u001b[KSET_DBASE\u001b[m\u001b[K, db_name);\n",
      "      |                                      \u001b[01;36m\u001b[K^~~~~~~~~\u001b[m\u001b[K\n",
      "gcc -g -DDBNAME=\\\"dss\\\" -DLINUX -DORACLE -DTPCH -DRNG_TEST -D_FILE_OFFSET_BITS=64   -c -o varsub.o varsub.c\n",
      "gcc -g -DDBNAME=\\\"dss\\\" -DLINUX -DORACLE -DTPCH -DRNG_TEST -D_FILE_OFFSET_BITS=64 -O -o qgen build.o bm_utils.o qgen.o rnd.o varsub.o text.o bcd2.o permute.o speed_seed.o rng64.o -lm\n",
      "built dbgen from source\n",
      "TPC-H Population Generator (Version 2.14.0)\n",
      "Copyright Transaction Processing Performance Council 1994 - 2010\n",
      "Generating data for suppliers table\n"
     ]
    },
    {
     "name": "stdout",
     "output_type": "stream",
     "text": [
      "Preloading text ...                                                                                                                                                                                                                                                                                                              1 1 1 1 1 1 1 1 1 1 1 1 1 1 1 1 1 1 1 1 1 1 1 1 1 1 1 1 1 1 1 1 1 1 1 1 1 1 1 1 1 1 1 1 1 1 1 1 1 1 1 1 1 1 1 1 1 1 1 1 1 1 1 1 1 1 1 1 1 1 1 1 1 1 1 1 1 1 1 1 1 1 1 1 1 1 1 1 1 1 1 1 1 1 1 1 1 1 1 1 1 1 1 1 1 1 1 1 1 1 1 1 1 1 1 1 1 1 1 1 1 1 1 1 1 1 1 1 1 1 1 1 1 1 1 1 1 1 1 1 1 1 1 1 1 1 1 1 1 1 1 1 1 1 1 1 1 2 2 2 2 2 2 2 2 2 2 2 2 2 2 2 2 2 2 2 2 2 2 2 2 2 2 2 2 2 2 2 2 2 2 2 2 2 2 2 2 2 2 2 2 2 2 2 2 2 2 2 2 2 2 2 2 2 2 2 2 2 2 2 2 2 2 2 2 2 2 2 2 2 2 2 2 2 2 2 2 2 2 2 2 2 2 2 2 2 2 2 2 2 2 2 2 2 2 2 2 2 2 2 2 2 2 2 2 2 2 2 2 2 2 2 2 2 2 2 2 2 2 2 2 2 2 2 2 2 2 2 2 2 2 2 2 2 2 2 2 2 2 2 2 2 2 2 2 2 2 2 2 2 2 2 2 2 3 3 3 3 3 3 3 3 3 3 3 3 3 3 3 3 3 3 3 3 3 3 3 3 3 3 3 3 3 3 3 3 3 3 3 3 3 3 3 3 3 3 3 3 3 3 3 3 3 3 3 3 3 3 3 3 3 3 3 3 3 3 3 3 3 3 3 3 3 3 3 3 3 3 3 3 3 3 3 3 3 3 3 3 3 3 3 3 3 3 3 3 3 3 3 3 3 3 3 3 3 3 3 3 3 3 3 3 3 3 3 3 3 3 3 3 3 3 3 3 3 3 3 3 3 3 3 3 3 3 3 3 3 3 3 3 3 3 3 3 3 3 3 3 3 3 3 3 3 3 3 3 3 3 3 3 3 3 4 4 4 4 4 4 4 4 4 4 4 4 4 4 4 4 4 4 4 4 4 4 4 4 4 4 4 4 4 4 4 4 4 4 4 4 4 4 4 4 4 4 4 4 4 4 4 4 4 4 4 4 4 4 4 4 4 4 4 4 4 4 4 4 4 4 4 4 4 4 4 4 4 4 4 4 4 4 4 4 4 4 4 4 4 4 4 4 4 4 4 4 4 4 4 4 4 4 4 4 4 4 4 4 4 4 4 4 4 4 4 4 4 4 4 4 4 4 4 4 4 4 4 4 4 4 4 4 4 4 4 4 4 4 4 4 4 4 4 4 4 4 4 4 4 4 4 4 4 4 4 4 4 4 4 4 4 5 5 5 5 5 5 5 5 5 5 5 5 5 5 5 5 5 5 5 5 5 5 5 5 5 5 5 5 5 5 5 5 5 5 5 5 5 5 5 5 5 5 5 5 5 5 5 5 5 5 5 5 5 5 5 5 5 5 5 5 5 5 5 5 5 5 5 5 5 5 5 5 5 5 5 5 5 5 5 5 5 5 5 5 5 5 5 5 5 5 5 5 5 5 5 5 5 5 5 5 5 5 5 5 5 5 5 5 5 5 5 5 5 5 5 5 5 5 5 5 5 5 5 5 5 5 5 5 5 5 5 5 5 5 5 5 5 5 5 5 5 5 5 5 5 5 5 5 5 5 5 5 5 5 5 5 5 6 6 6 6 6 6 6 6 6 6 6 6 6 6 6 6 6 6 6 6 6 6 6 6 6 6 6 6 6 6 6 6 6 6 6 6 6 6 6 6 6 6 6 6 6 6 6 6 6 6 6 6 6 6 6 6 6 6 6 6 6 6 6 6 6 6 6 6 6 6 6 6 6 6 6 6 6 6 6 6 6 6 6 6 6 6 6 6 6 6 6 6 6 6 6 6 6 6 6 6 6 6 6 6 6 6 6 6 6 6 6 6 6 6 6 6 6 6 6 6 6 6 6 6 6 6 6 6 6 6 6 6 6 6 6 6 6 6 6 6 6 6 6 6 6 6 6 6 6 6 6 6 6 6 6 6 6 6 7 7 7 7 7 7 7 7 7 7 7 7 7 7 7 7 7 7 7 7 7 7 7 7 7 7 7 7 7 7 7 7 7 7 7 7 7 7 7 7 7 7 7 7 7 7 7 7 7 7 7 7 7 7 7 7 7 7 7 7 7 7 7 7 7 7 7 7 7 7 7 7 7 7 7 7 7 7 7 7 7 7 7 7 7 7 7 7 7 7 7 7 7 7 7 7 7 7 7 7 7 7 7 7 7 7 7 7 7 7 7 7 7 7 7 7 7 7 7 7 7 7 7 7 7 7 7 7 7 7 7 7 7 7 7 7 7 7 7 7 7 7 7 7 7 7 7 7 7 7 7 7 7 7 7 7 7 8 8 8 8 8 8 8 8 8 8 8 8 8 8 8 8 8 8 8 8 8 8 8 8 8 8 8 8 8 8 8 8 8 8 8 8 8 8 8 8 8 8 8 8 8 8 8 8 8 8 8 8 8 8 8 8 8 8 8 8 8 8 8 8 8 8 8 8 8 8 8 8 8 8 8 8 8 8 8 8 8 8 8 8 8 8 8 8 8 8 8 8 8 8 8 8 8 8 8 8 8 8 8 8 8 8 8 8 8 8 8 8 8 8 8 8 8 8 8 8 8 8 8 8 8 8 8 8 8 8 8 8 8 8 8 8 8 8 8 8 8 8 8 8 8 8 8 8 8 8 8 8 8 8 8 8 8 9 9 9 9 9 9 9 9 9 9 9 9 9 9 9 9 9 9 9 9 9 9 9 9 9 9 9 9 9 9 9 9 9 9 9 9 9 9 9 9 9 9 9 9 9 9 9 9 9 9 9 9 9 9 9 9 9 9 9 9 9 9 9 9 9 9 9 9 9 9 9 9 9 9 9 9 9 9 9 9 9 9 9 9 9 9 9 9 9 9 9 9 9 9 9 9 9 9 9 9 9 9 9 9 9 9 9 9 9 9 9 9 9 9 9 9 9 9 9 9 9 9 9 9 9 9 9 9 9 9 9 9 9 9 9 9 9 9 9 9 9 9 9 9 9 9 9 9 9 9 9 9 9 9 9 9 91010101010101010\n",
      "done.\n",
      "Generating data for customers tabledone.\n",
      "Generating data for orders/lineitem tablesdone.\n",
      "Generating data for part/partsupplier tablesdone.\n",
      "Generating data for nation tabledone.\n",
      "Generating data for region tabledone.\n",
      "generated data for the load phase\n",
      "TPC-H Population Generator (Version 2.14.0)\n",
      "Copyright Transaction Processing Performance Council 1994 - 2010\n",
      "Generating update pair #1 for orders/lineitem tables\n",
      "Preloading text ...                                                                                                                                                                                                                                                                                                              1 1 1 1 1 1 1 1 1 1 1 1 1 1 1 1 1 1 1 1 1 1 1 1 1 1 1 1 1 1 1 1 1 1 1 1 1 1 1 1 1 1 1 1 1 1 1 1 1 1 1 1 1 1 1 1 1 1 1 1 1 1 1 1 1 1 1 1 1 1 1 1 1 1 1 1 1 1 1 1 1 1 1 1 1 1 1 1 1 1 1 1 1 1 1 1 1 1 1 1 1 1 1 1 1 1 1 1 1 1 1 1 1 1 1 1 1 1 1 1 1 1 1 1 1 1 1 1 1 1 1 1 1 1 1 1 1 1 1 1 1 1 1 1 1 1 1 1 1 1 1 1 1 1 1 1 1 2 2 2 2 2 2 2 2 2 2 2 2 2 2 2 2 2 2 2 2 2 2 2 2 2 2 2 2 2 2 2 2 2 2 2 2 2 2 2 2 2 2 2 2 2 2 2 2 2 2 2 2 2 2 2 2 2 2 2 2 2 2 2 2 2 2 2 2 2 2 2 2 2 2 2 2 2 2 2 2 2 2 2 2 2 2 2 2 2 2 2 2 2 2 2 2 2 2 2 2 2 2 2 2 2 2 2 2 2 2 2 2 2 2 2 2 2 2 2 2 2 2 2 2 2 2 2 2 2 2 2 2 2 2 2 2 2 2 2 2 2 2 2 2 2 2 2 2 2 2 2 2 2 2 2 2 2 3 3 3 3 3 3 3 3 3 3 3 3 3 3 3 3 3 3 3 3 3 3 3 3 3 3 3 3 3 3 3 3 3 3 3 3 3 3 3 3 3 3 3 3 3 3 3 3 3 3 3 3 3 3 3 3 3 3 3 3 3 3 3 3 3 3 3 3 3 3 3 3 3 3 3 3 3 3 3 3 3 3 3 3 3 3 3 3 3 3 3 3 3 3 3 3 3 3 3 3 3 3 3 3 3 3 3 3 3 3 3 3 3 3 3 3 3 3 3 3 3 3 3 3 3 3 3 3 3 3 3 3 3 3 3 3 3 3 3 3 3 3 3 3 3 3 3 3 3 3 3 3 3 3 3 3 3 3 4 4 4 4 4 4 4 4 4 4 4 4 4 4 4 4 4 4 4 4 4 4 4 4 4 4 4 4 4 4 4 4 4 4 4 4 4 4 4 4 4 4 4 4 4 4 4 4 4 4 4 4 4 4 4 4 4 4 4 4 4 4 4 4 4 4 4 4 4 4 4 4 4 4 4 4 4 4 4 4 4 4 4 4 4 4 4 4 4 4 4 4 4 4 4 4 4 4 4 4 4 4 4 4 4 4 4 4 4 4 4 4 4 4 4 4 4 4 4 4 4 4 4 4 4 4 4 4 4 4 4 4 4 4 4 4 4 4 4 4 4 4 4 4 4 4 4 4 4 4 4 4 4 4 4 4 4 5 5 5 5 5 5 5 5 5 5 5 5 5 5 5 5 5 5 5 5 5 5 5 5 5 5 5 5 5 5 5 5 5 5 5 5 5 5 5 5 5 5 5 5 5 5 5 5 5 5 5 5 5 5 5 5 5 5 5 5 5 5 5 5 5 5 5 5 5 5 5 5 5 5 5 5 5 5 5 5 5 5 5 5 5 5 5 5 5 5 5 5 5 5 5 5 5 5 5 5 5 5 5 5 5 5 5 5 5 5 5 5 5 5 5 5 5 5 5 5 5 5 5 5 5 5 5 5 5 5 5 5 5 5 5 5 5 5 5 5 5 5 5 5 5 5 5 5 5 5 5 5 5 5 5 5 5 6 6 6 6 6 6 6 6 6 6 6 6 6 6 6 6 6 6 6 6 6 6 6 6 6 6 6 6 6 6 6 6 6 6 6 6 6 6 6 6 6 6 6 6 6 6 6 6 6 6 6 6 6 6 6 6 6 6 6 6 6 6 6 6 6 6 6 6 6 6 6 6 6 6 6 6 6 6 6 6 6 6 6 6 6 6 6 6 6 6 6 6 6 6 6 6 6 6 6 6 6 6 6 6 6 6 6 6 6 6 6 6 6 6 6 6 6 6 6 6 6 6 6 6 6 6 6 6 6 6 6 6 6 6 6 6 6 6 6 6 6 6 6 6 6 6 6 6 6 6 6 6 6 6 6 6 6 6 7 7 7 7 7 7 7 7 7 7 7 7 7 7 7 7 7 7 7 7 7 7 7 7 7 7 7 7 7 7 7 7 7 7 7 7 7 7 7 7 7 7 7 7 7 7 7 7 7 7 7 7 7 7 7 7 7 7 7 7 7 7 7 7 7 7 7 7 7 7 7 7 7 7 7 7 7 7 7 7 7 7 7 7 7 7 7 7 7 7 7 7 7 7 7 7 7 7 7 7 7 7 7 7 7 7 7 7 7 7 7 7 7 7 7 7 7 7 7 7 7 7 7 7 7 7 7 7 7 7 7 7 7 7 7 7 7 7 7 7 7 7 7 7 7 7 7 7 7 7 7 7 7 7 7 7 7 8 8 8 8 8 8 8 8 8 8 8 8 8 8 8 8 8 8 8 8 8 8 8 8 8 8 8 8 8 8 8 8 8 8 8 8 8 8 8 8 8 8 8 8 8 8 8 8 8 8 8 8 8 8 8 8 8 8 8 8 8 8 8 8 8 8 8 8 8 8 8 8 8 8 8 8 8 8 8 8 8 8 8 8 8 8 8 8 8 8 8 8 8 8 8 8 8 8 8 8 8 8 8 8 8 8 8 8 8 8 8 8 8 8 8 8 8 8 8 8 8 8 8 8 8 8 8 8 8 8 8 8 8 8 8 8 8 8 8 8 8 8 8 8 8 8 8 8 8 8 8 8 8 8 8 8 8 9 9 9 9 9 9 9 9 9 9 9 9 9 9 9 9 9 9 9 9 9 9 9 9 9 9 9 9 9 9 9 9 9 9 9 9 9 9 9 9 9 9 9 9 9 9 9 9 9 9 9 9 9 9 9 9 9 9 9 9 9 9 9 9 9 9 9 9 9 9 9 9 9 9 9 9 9 9 9 9 9 9 9 9 9 9 9 9 9 9 9 9 9 9 9 9 9 9 9 9 9 9 9 9 9 9 9 9 9 9 9 9 9 9 9 9 9 9 9 9 9 9 9 9 9 9 9 9 9 9 9 9 9 9 9 9 9 9 9 9 9 9 9 9 9 9 9 9 9 9 9 9 9 9 9 9 91010101010101010\n",
      "done.\n",
      "Generating update pair #2 for orders/lineitem tablesdone.\n",
      "Generating update pair #3 for orders/lineitem tablesdone.\n",
      "generated data for the update phase\n",
      "generated data for the delete phase\n",
      "created data files in ./data\n",
      "created query files in ./query_root\n",
      "Sucesso ao criar o banco de dados !!!\n"
     ]
    }
   ],
   "source": [
    "# Entrando no diretório tpch-pgsql e Executando o script de preparação do banco de dados\n",
    "# OBS: é normal dar warnings durante a execução desta célula pois alguns argumentos não estão sendo passados, \n",
    "#      visto que seguem os valores padrão já definidos no script\n",
    "!cd tpch-pgsql && python3 tpch_pgsql.py prepare -p 5432 -U tpch -W test123 -d tpchdb\n",
    "\n",
    "print(\"Sucesso ao criar o banco de dados !!!\")"
   ]
  },
  {
   "cell_type": "code",
   "execution_count": 11,
   "metadata": {},
   "outputs": [
    {
     "name": "stdout",
     "output_type": "stream",
     "text": [
      "dropped existing tables\n",
      "cleaned database tpchdb\n",
      "done creating schemas\n",
      "done loading data to tables\n",
      "done creating indexes and foreign keys\n",
      "============================================================\n",
      "=========================== Load ===========================\n",
      "============================================================\n",
      "create_schema: : 0:00:01.816856\n",
      "load_data: 0:02:25.007678\n",
      "index_tables: 0:01:36.061177\n",
      "============================================================\n",
      "======================= End Results ========================\n",
      "============================================================\n",
      "Sucesso ao carregar dados no banco de dados !!!\n"
     ]
    }
   ],
   "source": [
    "# Entrando no diretório tpch-pgsql e Executando o script de carga do banco de dados\n",
    "# OBS: essa célula pode demorar um pouco pra carregar, pois está realizando a carga de muitos dados\n",
    "!cd tpch-pgsql && python3 tpch_pgsql.py load -p 5432 -U tpch -W test123 -d tpchdb\n",
    "\n",
    "print(\"Sucesso ao carregar dados no banco de dados !!!\")"
   ]
  },
  {
   "cell_type": "markdown",
   "metadata": {},
   "source": [
    "-----------------------------\n",
    "### Tarefa 3 – Execução de Consultas\n",
    "A terceira tarefa deste trabalho consiste na execução de uma série de consultas do Benchmark TPC-H\n",
    "nos sistemas instalados.\n",
    "\n",
    "Usando as instruções disponíveis nas mesmas URLs acima, execute os passos referentes ao\n",
    "PostgreSQL.\n",
    "\n",
    "__Entrega:__ Devem ser apresentadas as consultas e os seus resultados\n",
    "\n",
    "<span style=\"color:orange\">__Resposta:__</span> As consultas que serão feitas estão no diretório _tpch-pgsql/query_root/perf_query_gen/_"
   ]
  },
  {
   "cell_type": "markdown",
   "metadata": {},
   "source": [
    "#### Consulta 1.sql"
   ]
  },
  {
   "cell_type": "code",
   "execution_count": 12,
   "metadata": {},
   "outputs": [
    {
     "name": "stdout",
     "output_type": "stream",
     "text": [
      "-- using 1685825695 as a seed to the RNG\r\n",
      "\r",
      "\r\n",
      "\r",
      "\r\n",
      "select\r",
      "\r\n",
      "\tl_returnflag,\r",
      "\r\n",
      "\tl_linestatus,\r",
      "\r\n",
      "\tsum(l_quantity) as sum_qty,\r",
      "\r\n",
      "\tsum(l_extendedprice) as sum_base_price,\r",
      "\r\n",
      "\tsum(l_extendedprice * (1 - l_discount)) as sum_disc_price,\r",
      "\r\n",
      "\tsum(l_extendedprice * (1 - l_discount) * (1 + l_tax)) as sum_charge,\r",
      "\r\n",
      "\tavg(l_quantity) as avg_qty,\r",
      "\r\n",
      "\tavg(l_extendedprice) as avg_price,\r",
      "\r\n",
      "\tavg(l_discount) as avg_disc,\r",
      "\r\n",
      "\tcount(*) as count_order\r",
      "\r\n",
      "from\r",
      "\r\n",
      "\tlineitem\r",
      "\r\n",
      "where\r",
      "\r\n",
      "\tl_shipdate <= date '1998-12-01' - interval '67' day\r",
      "\r\n",
      "group by\r",
      "\r\n",
      "\tl_returnflag,\r",
      "\r\n",
      "\tl_linestatus\r",
      "\r\n",
      "order by\r",
      "\r\n",
      "\tl_returnflag,\r",
      "\r\n",
      "\tl_linestatus\r",
      "\r\n",
      "LIMIT 1;\r",
      "\r\n"
     ]
    }
   ],
   "source": [
    "# Mostrando a consulta\n",
    "!cat /app/notebooks/tpch-pgsql/query_root/perf_query_gen/1.sql"
   ]
  },
  {
   "cell_type": "code",
   "execution_count": 13,
   "metadata": {
    "scrolled": true
   },
   "outputs": [
    {
     "name": "stdout",
     "output_type": "stream",
     "text": [
      " l_returnflag | l_linestatus | sum_qty  | sum_base_price |  sum_disc_price  |     sum_charge     |       avg_qty       |     avg_price      |        avg_disc        | count_order \r\n",
      "--------------+--------------+----------+----------------+------------------+--------------------+---------------------+--------------------+------------------------+-------------\r\n",
      " A            | F            | 37734107 | 56586554400.73 | 53758257134.8700 | 55909065222.827692 | 25.5220058532573370 | 38273.129734621672 | 0.04998529583839761162 |     1478493\r\n",
      "(1 row)\r\n",
      "\r\n"
     ]
    }
   ],
   "source": [
    "# Mostrando o resultado da consulta\n",
    "!PGPASSWORD=test123 psql -h localhost -p 5432 -U tpch -d tpchdb -f /app/notebooks/tpch-pgsql/query_root/perf_query_gen/1.sql"
   ]
  },
  {
   "cell_type": "markdown",
   "metadata": {},
   "source": [
    "#### Consulta 2.sql"
   ]
  },
  {
   "cell_type": "code",
   "execution_count": 63,
   "metadata": {},
   "outputs": [
    {
     "name": "stdout",
     "output_type": "stream",
     "text": [
      "-- using 1685448045 as a seed to the RNG\r\n",
      "\r\n",
      "\r\n",
      "\r\n",
      "\r\n",
      "select\r\n",
      "\r\n",
      "\ts_acctbal,\r\n",
      "\r\n",
      "\ts_name,\r\n",
      "\r\n",
      "\tn_name,\r\n",
      "\r\n",
      "\tp_partkey,\r\n",
      "\r\n",
      "\tp_mfgr,\r\n",
      "\r\n",
      "\ts_address,\r\n",
      "\r\n",
      "\ts_phone,\r\n",
      "\r\n",
      "\ts_comment\r\n",
      "\r\n",
      "from\r\n",
      "\r\n",
      "\tpart,\r\n",
      "\r\n",
      "\tsupplier,\r\n",
      "\r\n",
      "\tpartsupp,\r\n",
      "\r\n",
      "\tnation,\r\n",
      "\r\n",
      "\tregion\r\n",
      "\r\n",
      "where\r\n",
      "\r\n",
      "\tp_partkey = ps_partkey\r\n",
      "\r\n",
      "\tand s_suppkey = ps_suppkey\r\n",
      "\r\n",
      "\tand p_size = 5\r\n",
      "\r\n",
      "\tand p_type like '%STEEL'\r\n",
      "\r\n",
      "\tand s_nationkey = n_nationkey\r\n",
      "\r\n",
      "\tand n_regionkey = r_regionkey\r\n",
      "\r\n",
      "\tand r_name = 'EUROPE'\r\n",
      "\r\n",
      "\tand ps_supplycost = (\r\n",
      "\r\n",
      "\t\tselect\r\n",
      "\r\n",
      "\t\t\tmin(ps_supplycost)\r\n",
      "\r\n",
      "\t\tfrom\r\n",
      "\r\n",
      "\t\t\tpartsupp,\r\n",
      "\r\n",
      "\t\t\tsupplier,\r\n",
      "\r\n",
      "\t\t\tnation,\r\n",
      "\r\n",
      "\t\t\tregion\r\n",
      "\r\n",
      "\t\twhere\r\n",
      "\r\n",
      "\t\t\tp_partkey = ps_partkey\r\n",
      "\r\n",
      "\t\t\tand s_suppkey = ps_suppkey\r\n",
      "\r\n",
      "\t\t\tand s_nationkey = n_nationkey\r\n",
      "\r\n",
      "\t\t\tand n_regionkey = r_regionkey\r\n",
      "\r\n",
      "\t\t\tand r_name = 'EUROPE'\r\n",
      "\r\n",
      "\t)\r\n",
      "\r\n",
      "order by\r\n",
      "\r\n",
      "\ts_acctbal desc,\r\n",
      "\r\n",
      "\tn_name,\r\n",
      "\r\n",
      "\ts_name,\r\n",
      "\r\n",
      "\tp_partkey\r\n",
      "\r\n",
      "LIMIT 100;\r\n",
      "\r\n"
     ]
    }
   ],
   "source": [
    "# Mostrando a consulta\n",
    "!cat /app/notebooks/tpch-pgsql/query_root/perf_query_gen/2.sql"
   ]
  },
  {
   "cell_type": "code",
   "execution_count": 64,
   "metadata": {},
   "outputs": [
    {
     "name": "stdout",
     "output_type": "stream",
     "text": [
      " s_acctbal |          s_name           |          n_name           | p_partkey |          p_mfgr           |                s_address                 |     s_phone     |                                              s_comment                                               \r\n",
      "-----------+---------------------------+---------------------------+-----------+---------------------------+------------------------------------------+-----------------+------------------------------------------------------------------------------------------------------\r\n",
      "   9938.53 | Supplier#000005359        | UNITED KINGDOM            |     65358 | Manufacturer#2            | QKuHYh,vZGiwu2FWEJoLDx04                 | 33-429-790-6131 | uriously regular requests hag\r\n",
      "   9937.84 | Supplier#000005969        | ROMANIA                   |    105968 | Manufacturer#4            | ANDENSOSmk,miq23Xfb5RWt6dvUcvt6Qa        | 29-520-692-3537 | efully express instructions. regular requests against the slyly fin\r\n",
      "   9923.77 | Supplier#000002324        | GERMANY                   |    109813 | Manufacturer#5            | y3OD9UywSTOk                             | 17-779-299-1839 | ackages boost blithely. blithely regular deposits c\r\n",
      "   9903.42 | Supplier#000003807        | GERMANY                   |     73806 | Manufacturer#1            | ot3nvn3kdvL9YcxMp8fhWN CsorSKs0LN4       | 17-850-427-8587 |  the quickly final deposits nod carefully ideas. regula\r\n",
      "   9903.42 | Supplier#000003807        | GERMANY                   |     96279 | Manufacturer#2            | ot3nvn3kdvL9YcxMp8fhWN CsorSKs0LN4       | 17-850-427-8587 |  the quickly final deposits nod carefully ideas. regula\r\n",
      "   9847.83 | Supplier#000008097        | RUSSIA                    |    175579 | Manufacturer#1            | xMe97bpE69NzdwLoX                        | 32-375-640-3593 |  the special excuses. silent sentiments serve carefully final ac\r\n",
      "   9847.19 | Supplier#000006422        | UNITED KINGDOM            |     48909 | Manufacturer#4            | ZB4jC7Mkv12AF69jXunQu8FZEPdjF5Incs       | 33-182-240-4174 | ecial packages. quickly silent accounts about the fluffily unusual theodoli\r\n",
      "   9828.21 | Supplier#000000647        | UNITED KINGDOM            |     18145 | Manufacturer#2            | x5U7MBZmwfG9                             | 33-258-202-4782 | s the slyly even ideas poach fluffily \r\n",
      "   9828.21 | Supplier#000000647        | UNITED KINGDOM            |     65634 | Manufacturer#1            | x5U7MBZmwfG9                             | 33-258-202-4782 | s the slyly even ideas poach fluffily \r\n",
      "   9822.22 | Supplier#000003440        | UNITED KINGDOM            |    103439 | Manufacturer#2            | 93S5pntmWhw R6U4ZD ROQ,2gI17b3           | 33-495-208-7899 | ake carefully after the fluffily re\r\n",
      "   9807.53 | Supplier#000000437        | GERMANY                   |    140436 | Manufacturer#3            | HuqIk0sK4yC6x5be,cTlPrFqqBCHYf           | 17-652-134-3031 | usly bold deposits about the pending\r\n",
      "   9795.76 | Supplier#000005451        | UNITED KINGDOM            |     65450 | Manufacturer#2            | JECYQtqXS8i13qrBf2flrHbmvuzYoVucGcMWW    | 33-215-882-1837 | jole carefully among the regular instruc\r\n",
      "   9778.55 | Supplier#000008472        | FRANCE                    |    173437 | Manufacturer#4            | 4at1BaGXf8r                              | 16-516-582-7374 |  ideas boost ironic hockey players. requests maintain. blithely special requests detect \r\n",
      "   9759.38 | Supplier#000000044        | GERMANY                   |        43 | Manufacturer#4            | kERxlLDnlIZJdN66zAPHklyL                 | 17-713-930-5667 | x. carefully quiet account\r\n",
      "   9757.91 | Supplier#000006083        | UNITED KINGDOM            |     31076 | Manufacturer#1            | THtqkIcNIM8wApJuIk71hwJfFK               | 33-949-571-8118 | nding courts can use quickly ab\r\n",
      "   9749.98 | Supplier#000007955        | FRANCE                    |    197954 | Manufacturer#4            | s3BxzmLdgbdQgcfv10ot                     | 16-930-614-3740 | pendencies. final packages haggle among the accounts. evenly ironic packa\r\n",
      "   9749.51 | Supplier#000008566        | FRANCE                    |     51050 | Manufacturer#2            | CJJ vg1hGBwps2HgREKQqbzmQ038LPXtbha26vqA | 16-158-515-4201 | elets haggle after the slyly even ide\r\n",
      "   9657.60 | Supplier#000007251        | RUSSIA                    |    152220 | Manufacturer#5            | WJ3 AJhmgwV56aAibT5ZLsozU                | 32-623-165-6389 | the accounts. unusual packages detect slyly according to the slyly final packages; acco\r\n",
      "   9657.60 | Supplier#000007251        | RUSSIA                    |    159705 | Manufacturer#3            | WJ3 AJhmgwV56aAibT5ZLsozU                | 32-623-165-6389 | the accounts. unusual packages detect slyly according to the slyly final packages; acco\r\n",
      "   9624.82 | Supplier#000001816        | FRANCE                    |    186779 | Manufacturer#5            | e7vab91vLJPWxxZnewmnDBpDmxYHrb           | 16-392-237-6726 | e packages are around the special ideas. special, pending foxes us\r\n",
      "   9612.94 | Supplier#000003228        | ROMANIA                   |     10726 | Manufacturer#5            | KDdpNKN3cWu7ZSrbdqp7AfSLxx,qWB           | 29-325-784-8187 | warhorses. quickly even deposits sublate daringly ironic instructions. slyly blithe t\r\n",
      "   9595.09 | Supplier#000003669        | UNITED KINGDOM            |      8668 | Manufacturer#3            | yxO31BBDfe5vIKGwLWhZGsWzngdAgs8oSq6L     | 33-852-933-2119 | ly beneath the slyly stealthy pinto beans. qui\r\n",
      "   9595.09 | Supplier#000003669        | UNITED KINGDOM            |    176117 | Manufacturer#1            | yxO31BBDfe5vIKGwLWhZGsWzngdAgs8oSq6L     | 33-852-933-2119 | ly beneath the slyly stealthy pinto beans. qui\r\n",
      "   9556.01 | Supplier#000005980        | ROMANIA                   |    105979 | Manufacturer#5            | TQnqbXl1GVlMAISOLXpAyFMz1k3k7quGLyRAX ty | 29-584-733-8238 | nts boost carefully about the slyly even packages. regular packag\r\n",
      "   9547.13 | Supplier#000006090        | FRANCE                    |     21085 | Manufacturer#1            | QOutX3sX5ybnB27RkdDWXCs3                 | 16-152-633-9427 | packages boost. furiously express instructions wake final, bold deposits. blithely even instruct\r\n",
      "   9529.36 | Supplier#000004113        | ROMANIA                   |     69100 | Manufacturer#4            | 35Re27oAr8h sP3V                         | 29-821-992-6070 | express theodolites are b\r\n",
      "   9529.36 | Supplier#000004113        | ROMANIA                   |     86588 | Manufacturer#2            | 35Re27oAr8h sP3V                         | 29-821-992-6070 | express theodolites are b\r\n",
      "   9519.14 | Supplier#000004568        | UNITED KINGDOM            |     77046 | Manufacturer#3            | BtrYY,xTReh,wSJe                         | 33-744-982-9995 |  final courts. slyly regular requests abo\r\n",
      "   9508.37 | Supplier#000000070        | FRANCE                    |     10069 | Manufacturer#4            | INWNH2w,OOWgNDq0BRCcBwOMQc6PdFDc4        | 16-821-608-1166 | ests sleep quickly express ideas. ironic ideas haggle about the final T\r\n",
      "   9471.26 | Supplier#000005129        | GERMANY                   |     55128 | Manufacturer#5            | Tg7zMb1u8XNC53k0ueUR1X                   | 17-848-884-2347 | refully ironic accounts. ironic packages haggle blithely silent foxes. blithely regular ideas sleep \r\n",
      "   9430.81 | Supplier#000008515        | ROMANIA                   |    163482 | Manufacturer#5            | TA12u9cZKAlmzPorkWJgvtJrjus,5            | 29-357-508-1973 | ily packages. carefully regular requests \r\n",
      "   9357.45 | Supplier#000006188        | UNITED KINGDOM            |      6187 | Manufacturer#1            | g801,ssP8wpTk4Hm                         | 33-583-607-1633 | ously always regular packages. fluffily even accounts beneath the furiously final pack\r\n",
      "   9357.45 | Supplier#000006188        | UNITED KINGDOM            |      8687 | Manufacturer#5            | g801,ssP8wpTk4Hm                         | 33-583-607-1633 | ously always regular packages. fluffily even accounts beneath the furiously final pack\r\n",
      "   9337.05 | Supplier#000008923        | ROMANIA                   |    193884 | Manufacturer#2            | B4ulQi18cpme7e,PM7bjKNDCd,Ev             | 29-771-622-8950 |  slyly special theodolites after the furiously even accounts are above \r\n",
      "   9318.44 | Supplier#000008079        | ROMANIA                   |     95569 | Manufacturer#3            | 5AeAxE5FnSi0KIA31NidOiKc,sdMnFI7,W774X   | 29-844-542-3727 | y ironic pinto beans. packages wake carefully regu\r\n",
      "   9312.95 | Supplier#000006713        | GERMANY                   |    139173 | Manufacturer#1            | JjmCvBijjmCzRJBXy0Up5EjZ9eM6o9bw         | 17-366-234-7745 | ic theodolites are along the packages. blithely iro\r\n",
      "   9312.15 | Supplier#000008498        | RUSSIA                    |    168497 | Manufacturer#1            | W 1pxS,3INXAPPn9tlvLG6nWPcHmLgpyH        | 32-560-835-6989 | ilent, bold packages near the quickly regular accounts sublate fluffily according\r\n",
      "   9295.56 | Supplier#000006318        | ROMANIA                   |    191279 | Manufacturer#5            | wfTdhyXHHjyB8f0VCXr6gVhdlZCmqiYEmG6A     | 29-345-112-7505 | p according to the carefully pending requests. instru\r\n",
      "   9293.21 | Supplier#000005757        | UNITED KINGDOM            |     95756 | Manufacturer#2            | FBJ0hUWAem3whciziO7lndaJ                 | 33-580-351-5737 | ng requests are carefully along the slyly even packages. carefully unusual deposi\r\n",
      "   9268.38 | Supplier#000009097        | UNITED KINGDOM            |    156581 | Manufacturer#1            | SEYCPcjWKFr5EYfCfbL4WdHo7w9T3A           | 33-158-636-7238 | ress, pending sheaves. daring, final excuses d\r\n",
      "   9236.95 | Supplier#000005760        | RUSSIA                    |     10757 | Manufacturer#4            | C9Q CnGG1Uqj5QDkxF3cDwgj                 | 32-390-528-2239 | arefully bold ideas. quietly regular ideas about the even, even reques\r\n",
      "   9225.09 | Supplier#000006973        | ROMANIA                   |    106972 | Manufacturer#3            | bbFI923ouQl                              | 29-495-862-4590 | oggedly silent asymptotes among t\r\n",
      "   9212.60 | Supplier#000009691        | FRANCE                    |    167174 | Manufacturer#3            | K IZD707NHR6Icrq3vpAiFRE75B              | 16-398-275-5960 | . quiet accounts cajole of\r\n",
      "   9202.04 | Supplier#000006576        | FRANCE                    |     41567 | Manufacturer#5            | LIUs4NqpT1                               | 16-159-763-6098 | lar foxes should unwind ca\r\n",
      "   9184.55 | Supplier#000004619        | RUSSIA                    |     89602 | Manufacturer#2            | YPY8CT8q zwHdcJGvuw97ybDKoSCHw           | 32-333-528-4674 | ly regular ideas. final, express packages use fluffily accounts. quickly final instructi\r\n",
      "   9183.60 | Supplier#000006536        | RUSSIA                    |    181499 | Manufacturer#1            | n24 pSj4wdWDUbw                          | 32-639-527-9813 | ts haggle carefully alongsid\r\n",
      "   9089.00 | Supplier#000003024        | ROMANIA                   |    120511 | Manufacturer#2            | qL7O1fXRUnUP2brTlcjMZ                    | 29-178-209-1949 | ngside of the requests. permanently regular pinto beans sleep bold requests.\r\n",
      "   9077.31 | Supplier#000008878        | ROMANIA                   |     16376 | Manufacturer#5            | x2izxmBfmTq8sqpHkyhJ97 c,Rafv            | 29-352-765-3956 | anent ideas. quickly regular packages are fluffily! quickly\r\n",
      "   9077.31 | Supplier#000008878        | ROMANIA                   |    138877 | Manufacturer#2            | x2izxmBfmTq8sqpHkyhJ97 c,Rafv            | 29-352-765-3956 | anent ideas. quickly regular packages are fluffily! quickly\r\n",
      "   9077.31 | Supplier#000008878        | ROMANIA                   |    198877 | Manufacturer#3            | x2izxmBfmTq8sqpHkyhJ97 c,Rafv            | 29-352-765-3956 | anent ideas. quickly regular packages are fluffily! quickly\r\n",
      "   8981.06 | Supplier#000006116        | GERMANY                   |    106115 | Manufacturer#1            | IC,0fXQh3eNQC2,xrsH9p4VtRH               | 17-455-882-1752 | ven theodolites nag carefully quiet requests. platelets wake furiously\r\n",
      "   8980.24 | Supplier#000004534        | FRANCE                    |     67015 | Manufacturer#1            | CKOK7nSpYr5KnjqJXaZktTbIiLFkbo h         | 16-798-297-4249 | es cajole furiously. blithely bold pinto beans wake account\r\n",
      "   8978.98 | Supplier#000005470        | ROMANIA                   |     82961 | Manufacturer#1            | dNQ2q4BhVvkvvy0HSjWx864vuPmxHKggIGkAY2Ux | 29-743-776-5345 | ecial foxes about the express, pending Tiresias sleep furiously\r\n",
      "   8975.45 | Supplier#000002076        | ROMANIA                   |    117053 | Manufacturer#4            | ptfVIQCHMp                               | 29-598-923-9264 | ; fluffily bold requests above the slyly u\r\n",
      "   8975.45 | Supplier#000002076        | ROMANIA                   |    152075 | Manufacturer#4            | ptfVIQCHMp                               | 29-598-923-9264 | ; fluffily bold requests above the slyly u\r\n",
      "   8959.92 | Supplier#000009258        | GERMANY                   |      6757 | Manufacturer#5            | vj 7yiMQeMGfwaLJ4OpmIRq                  | 17-688-248-8351 | und the deposits grow blithely slyly bold pinto beans. quickly ironic packages about the final \r\n",
      "   8921.28 | Supplier#000002981        | ROMANIA                   |     30477 | Manufacturer#3            | 5HRuYAcKGMcGfSkx0jQS46Fi                 | 29-591-615-9173 | : express, special requests breach quickly according to t\r\n",
      "   8853.59 | Supplier#000004866        | UNITED KINGDOM            |     52360 | Manufacturer#2            | zxT7Ij4KcMeWgs7wAIwf2jhznXrpj            | 33-598-423-9515 | mptotes wake stealthily. ironic packages haggle slyly along the sl\r\n",
      "   8815.58 | Supplier#000006554        | RUSSIA                    |     41545 | Manufacturer#2            | ZN,HiSqwAB5F                             | 32-694-886-4964 | uctions. carefully ironic packages believe f\r\n",
      "   8793.45 | Supplier#000007425        | ROMANIA                   |     62412 | Manufacturer#1            | TAqmXEdgxyxdIDal PT7HjJPqgT              | 29-711-206-8445 | tions wake. ideas wake slyly final platelets. ironic packages wake quickly. e\r\n",
      "   8788.01 | Supplier#000006976        | UNITED KINGDOM            |    179424 | Manufacturer#4            | ld8Ibdnw6TJ6I                            | 33-705-178-5183 | accounts after the slyly bold accounts integrat\r\n",
      "   8787.70 | Supplier#000008115        | GERMANY                   |    148114 | Manufacturer#4            | Q0pSKUUA9WOt51kzug2EW63QfQ               | 17-874-542-4311 |  final packages against the orbits cajole furiously bold courts. blithely bold f\r\n",
      "   8781.71 | Supplier#000003121        | ROMANIA                   |      3120 | Manufacturer#4            | wNqTogx238ZYCamFb,50v,bj 4IbNFW9Bvw1xP   | 29-707-291-5144 | s wake quickly ironic ideas\r\n",
      "   8758.03 | Supplier#000002252        | GERMANY                   |    114718 | Manufacturer#4            | Y 6If6HgqdTOEkGq9                        | 17-200-114-9951 | nt platelets wake bold, even dependencies. packages \r\n",
      "   8702.02 | Supplier#000000333        | RUSSIA                    |    105312 | Manufacturer#4            | MaVf XgwPdkiX4nfJGOis8Uu2zKiIZH          | 32-508-202-6136 | oss the deposits cajole carefully even pinto beans. regular foxes detect alo\r\n",
      "   8663.63 | Supplier#000005373        | ROMANIA                   |    197815 | Manufacturer#3            | 7D2MEFoNDdimC7izK8JdTAVUeq               | 29-666-138-9831 | ages. quickly ironic dependencies cajole evenly alongside of the fluffily unusual escapades\r\n",
      "   8638.36 | Supplier#000002920        | RUSSIA                    |    182919 | Manufacturer#5            | Je2a8bszf3L                              | 32-122-621-7549 | ly quickly ironic requests. even requests whithout t\r\n",
      "   8626.28 | Supplier#000003131        | GERMANY                   |    105600 | Manufacturer#1            | D2geDBAwmRoaL7ha1MTaQTyg1AAS             | 17-745-613-5999 | ly. requests doubt slyly. blithe\r\n",
      "   8626.28 | Supplier#000003131        | GERMANY                   |    183130 | Manufacturer#3            | D2geDBAwmRoaL7ha1MTaQTyg1AAS             | 17-745-613-5999 | ly. requests doubt slyly. blithe\r\n",
      "   8622.41 | Supplier#000001176        | RUSSIA                    |    178658 | Manufacturer#1            | 6pw3sCEqKssTz,CxcSC ENPfwR               | 32-634-542-7820 | kly regular deposits; idle courts are slyly. blithely even accounts s\r\n",
      "   8621.83 | Supplier#000008402        | ROMANIA                   |     53391 | Manufacturer#5            | Hg606yo4H3H92OEZgWUoiRxVjejN             | 29-548-285-9275 | he bold sauternes. pinto beans cajole slyly. bold, sly deposits haggle carefully \r\n",
      "   8620.28 | Supplier#000009924        | UNITED KINGDOM            |    167407 | Manufacturer#2            | M0WQBYc3sqPmWcXBBxSBBhtp,WgSmRbyX        | 33-315-586-5453 |  quickly regular theodolites sleep blithely i\r\n",
      "   8620.28 | Supplier#000009924        | UNITED KINGDOM            |    184887 | Manufacturer#3            | M0WQBYc3sqPmWcXBBxSBBhtp,WgSmRbyX        | 33-315-586-5453 |  quickly regular theodolites sleep blithely i\r\n",
      "   8607.69 | Supplier#000006003        | UNITED KINGDOM            |     83494 | Manufacturer#2            | EH9wADcEiuenM0NR08zDwMidw,52Y2RyILEiA    | 33-416-807-5206 | ar, pending accounts. pending depende\r\n",
      "   8569.52 | Supplier#000005936        | RUSSIA                    |     73428 | Manufacturer#2            | jXaNZ6vwnEWJ2ksLZJpjtgt0bY2a3AU          | 32-644-251-7916 | . regular foxes nag carefully atop the regular, silent deposits. quickly regular packages \r\n",
      "   8564.12 | Supplier#000000033        | GERMANY                   |     55022 | Manufacturer#4            | gfeKpYw3400L0SDywXA6Ya1Qmq1w6YB9f3R      | 17-138-897-9374 | n sauternes along the regular asymptotes are regularly along the \r\n",
      "   8553.82 | Supplier#000003979        | ROMANIA                   |    101468 | Manufacturer#2            | BfmVhCAnCMY3jzpjUMy4CNWs9 HzpdQR7INJU    | 29-124-646-4897 | ic requests wake against the blithely unusual accounts. fluffily r\r\n",
      "   8515.46 | Supplier#000003269        | RUSSIA                    |    195711 | Manufacturer#5            | W1y8yHKAwJD boL                          | 32-572-597-9900 | . final hockey players x-ray permanent packages. blithely even instru\r\n",
      "   8509.91 | Supplier#000006470        | GERMANY                   |    181433 | Manufacturer#3            | QVFuSQyZonHQDgwpMCkM8ZqouVxKivg3L,NN0z   | 17-615-255-5151 | lets. bold instructions sleep above the slyly final accounts-- pinto beans sleep quic\r\n",
      "   8488.53 | Supplier#000000367        | RUSSIA                    |     62848 | Manufacturer#2            | E Sv9brQVf43Mzz                          | 32-458-198-9557 | ages. carefully final excuses nag finally. carefully ironic deposits abov\r\n",
      "   8457.09 | Supplier#000009456        | UNITED KINGDOM            |     21949 | Manufacturer#2            | 7SBhZs8gP1cJjT0Qf433YBk                  | 33-858-440-4349 | cing requests along the furiously unusual deposits promise among the furiously unus\r\n",
      "   8441.40 | Supplier#000003817        | FRANCE                    |    191297 | Manufacturer#2            | hU3fz3xL78                               | 16-339-356-5115 | ely even ideas. ideas wake slyly furiously unusual instructions. pinto beans sleep ag\r\n",
      "   8431.40 | Supplier#000002675        | ROMANIA                   |     52674 | Manufacturer#3            | HJFStOu9R5NGPOegKhgbzBdyvrG2yh8w         | 29-474-643-1443 | ithely express pinto beans. blithely even foxes haggle. furiously regular theodol\r\n",
      "   8413.76 | Supplier#000006332        | ROMANIA                   |     63825 | Manufacturer#2            | Y45cOBhl9EZvXMhZOI6jo,                   | 29-540-415-9434 | ts maintain. bold, express deposits wake carefully. regular theodolites doze until the blithely r\r\n",
      "   8390.01 | Supplier#000009785        | GERMANY                   |     87276 | Manufacturer#3            | G6Orhozp9rJ ll1u                         | 17-474-990-7648 | haggle furiously regular packages. special accou\r\n",
      "   8390.01 | Supplier#000009785        | GERMANY                   |    182230 | Manufacturer#5            | G6Orhozp9rJ ll1u                         | 17-474-990-7648 | haggle furiously regular packages. special accou\r\n",
      "   8389.10 | Supplier#000002489        | GERMANY                   |    167456 | Manufacturer#4            | kT1LxQaDYbzUM,                           | 17-968-207-1176 | ffily against the carefully silent requests\r\n",
      "   8387.76 | Supplier#000000147        | UNITED KINGDOM            |     90146 | Manufacturer#4            | oLdl SQpf,ZXebBw5F3g9                    | 33-828-583-6731 | its. carefully pending packages after the ironically special frays wake above the special deposits. \r\n",
      "   8387.76 | Supplier#000000147        | UNITED KINGDOM            |    165114 | Manufacturer#1            | oLdl SQpf,ZXebBw5F3g9                    | 33-828-583-6731 | its. carefully pending packages after the ironically special frays wake above the special deposits. \r\n",
      "   8328.46 | Supplier#000001744        | ROMANIA                   |     81743 | Manufacturer#1            | oLo3fV64q2,FKHa3p,qHnS7Yzv,ps8           | 29-330-728-5873 | ep carefully-- even, careful packages are slyly along t\r\n",
      "   8296.62 | Supplier#000007343        | UNITED KINGDOM            |    164826 | Manufacturer#4            | OIlkeR2Fi,tMgvXuKFIQcqnO                 | 33-586-573-8880 | unusual, regular pinto beans haggle quickly about the furiously p\r\n",
      "   8280.18 | Supplier#000008584        | UNITED KINGDOM            |    188583 | Manufacturer#5            | VFUIyZAK34P1q7OYwf4u Il6HPsI             | 33-835-785-9186 | lyly even dependencies nag. slyly even dependencies above the blithely bold deposits \r\n",
      "   8257.32 | Supplier#000008469        | FRANCE                    |    168468 | Manufacturer#1            | KO8JEXd9bjCGExjeLS8FH,mE,OSHl6vTHVHsFyw  | 16-529-676-8077 |  quickly above the furiously ironic packages. express theodolites cajole carefully fluffil\r\n",
      "   8237.64 | Supplier#000008859        | ROMANIA                   |     11355 | Manufacturer#3            | AYm60aU0T5zRtNTfftYcs3a                  | 29-123-203-7913 | ag alongside of the bold, regular depths: quickly final requests haggle slyly. fluff\r\n",
      "   8237.64 | Supplier#000008859        | ROMANIA                   |     66352 | Manufacturer#2            | AYm60aU0T5zRtNTfftYcs3a                  | 29-123-203-7913 | ag alongside of the bold, regular depths: quickly final requests haggle slyly. fluff\r\n",
      "   8231.85 | Supplier#000002557        | ROMANIA                   |    167524 | Manufacturer#3            | LBspOqI3Cv616,9Rv75o1c                   | 29-960-502-5687 | ithely unusual waters eat slyly according to the quickly final reques\r\n",
      "   8201.75 | Supplier#000009789        | RUSSIA                    |    134762 | Manufacturer#1            | 3QdFPhczlVsQCcMII1MExj6U9OcGB            | 32-776-272-3122 | ainst the ironic ideas. deposits are carefully. deposits boost i\r\n",
      "   8201.75 | Supplier#000009789        | RUSSIA                    |    177271 | Manufacturer#3            | 3QdFPhczlVsQCcMII1MExj6U9OcGB            | 32-776-272-3122 | ainst the ironic ideas. deposits are carefully. deposits boost i\r\n",
      "   8200.29 | Supplier#000008761        | RUSSIA                    |     91233 | Manufacturer#1            | iIxXQmYUSE1KrlofumB XXsnjHh3             | 32-127-792-4482 | e furiously final instructions. special foxes wake carefully according to the fina\r\n",
      "   8157.56 | Supplier#000004960        | RUSSIA                    |      7459 | Manufacturer#5            | 4 965jqpUhHh5                            | 32-162-425-4817 | carefully regular ideas detect regula\r\n",
      "(100 rows)\r\n",
      "\r\n"
     ]
    }
   ],
   "source": [
    "# Mostrando o resultado da consulta\n",
    "!PGPASSWORD=test123 psql -h localhost -p 5432 -U tpch -d tpchdb -f /app/notebooks/tpch-pgsql/query_root/perf_query_gen/2.sql"
   ]
  },
  {
   "cell_type": "markdown",
   "metadata": {},
   "source": [
    "#### Consulta 3.sql"
   ]
  },
  {
   "cell_type": "code",
   "execution_count": 65,
   "metadata": {},
   "outputs": [
    {
     "name": "stdout",
     "output_type": "stream",
     "text": [
      "-- using 1685448045 as a seed to the RNG\r\n",
      "\r\n",
      "\r\n",
      "\r\n",
      "\r\n",
      "select\r\n",
      "\r\n",
      "\tl_orderkey,\r\n",
      "\r\n",
      "\tsum(l_extendedprice * (1 - l_discount)) as revenue,\r\n",
      "\r\n",
      "\to_orderdate,\r\n",
      "\r\n",
      "\to_shippriority\r\n",
      "\r\n",
      "from\r\n",
      "\r\n",
      "\tcustomer,\r\n",
      "\r\n",
      "\torders,\r\n",
      "\r\n",
      "\tlineitem\r\n",
      "\r\n",
      "where\r\n",
      "\r\n",
      "\tc_mktsegment = 'AUTOMOBILE'\r\n",
      "\r\n",
      "\tand c_custkey = o_custkey\r\n",
      "\r\n",
      "\tand l_orderkey = o_orderkey\r\n",
      "\r\n",
      "\tand o_orderdate < date '1995-03-23'\r\n",
      "\r\n",
      "\tand l_shipdate > date '1995-03-23'\r\n",
      "\r\n",
      "group by\r\n",
      "\r\n",
      "\tl_orderkey,\r\n",
      "\r\n",
      "\to_orderdate,\r\n",
      "\r\n",
      "\to_shippriority\r\n",
      "\r\n",
      "order by\r\n",
      "\r\n",
      "\trevenue desc,\r\n",
      "\r\n",
      "\to_orderdate\r\n",
      "\r\n",
      "LIMIT 10;"
     ]
    }
   ],
   "source": [
    "# Mostrando a consulta\n",
    "!cat /app/notebooks/tpch-pgsql/query_root/perf_query_gen/3.sql"
   ]
  },
  {
   "cell_type": "code",
   "execution_count": 66,
   "metadata": {},
   "outputs": [
    {
     "name": "stdout",
     "output_type": "stream",
     "text": [
      " l_orderkey |   revenue   | o_orderdate | o_shippriority \r\n",
      "------------+-------------+-------------+----------------\r\n",
      "    4163074 | 437267.7799 | 1995-02-13  |              0\r\n",
      "     606274 | 419377.5765 | 1995-03-14  |              0\r\n",
      "    4644967 | 403878.6210 | 1995-03-18  |              0\r\n",
      "    1795109 | 400019.2316 | 1995-03-19  |              0\r\n",
      "    3778628 | 399682.3516 | 1995-02-25  |              0\r\n",
      "    2692902 | 394554.8742 | 1995-03-06  |              0\r\n",
      "     181414 | 393083.4426 | 1995-03-08  |              0\r\n",
      "    4178471 | 390099.4832 | 1995-02-28  |              0\r\n",
      "    4739141 | 385442.5444 | 1995-03-07  |              0\r\n",
      "    4011108 | 377256.1264 | 1995-03-10  |              0\r\n",
      "(10 rows)\r\n",
      "\r\n"
     ]
    }
   ],
   "source": [
    "# Mostrando o resultado da consulta\n",
    "!PGPASSWORD=test123 psql -h localhost -p 5432 -U tpch -d tpchdb -f /app/notebooks/tpch-pgsql/query_root/perf_query_gen/3.sql"
   ]
  },
  {
   "cell_type": "markdown",
   "metadata": {},
   "source": [
    "#### Consulta 4.sql"
   ]
  },
  {
   "cell_type": "code",
   "execution_count": 67,
   "metadata": {},
   "outputs": [
    {
     "name": "stdout",
     "output_type": "stream",
     "text": [
      "-- using 1685448045 as a seed to the RNG\r\n",
      "\r\n",
      "\r\n",
      "\r\n",
      "\r\n",
      "select\r\n",
      "\r\n",
      "\to_orderpriority,\r\n",
      "\r\n",
      "\tcount(*) as order_count\r\n",
      "\r\n",
      "from\r\n",
      "\r\n",
      "\torders\r\n",
      "\r\n",
      "where\r\n",
      "\r\n",
      "\to_orderdate >= date '1996-08-01'\r\n",
      "\r\n",
      "\tand o_orderdate < date '1996-08-01' + interval '3' month\r\n",
      "\r\n",
      "\tand exists (\r\n",
      "\r\n",
      "\t\tselect\r\n",
      "\r\n",
      "\t\t\t*\r\n",
      "\r\n",
      "\t\tfrom\r\n",
      "\r\n",
      "\t\t\tlineitem\r\n",
      "\r\n",
      "\t\twhere\r\n",
      "\r\n",
      "\t\t\tl_orderkey = o_orderkey\r\n",
      "\r\n",
      "\t\t\tand l_commitdate < l_receiptdate\r\n",
      "\r\n",
      "\t)\r\n",
      "\r\n",
      "group by\r\n",
      "\r\n",
      "\to_orderpriority\r\n",
      "\r\n",
      "order by\r\n",
      "\r\n",
      "\to_orderpriority\r\n",
      "\r\n",
      "LIMIT 1;\r\n",
      "\r\n"
     ]
    }
   ],
   "source": [
    "# Mostrando a consulta\n",
    "!cat /app/notebooks/tpch-pgsql/query_root/perf_query_gen/4.sql"
   ]
  },
  {
   "cell_type": "code",
   "execution_count": 68,
   "metadata": {},
   "outputs": [
    {
     "name": "stdout",
     "output_type": "stream",
     "text": [
      " o_orderpriority | order_count \r\n",
      "-----------------+-------------\r\n",
      " 1-URGENT        |       10634\r\n",
      "(1 row)\r\n",
      "\r\n"
     ]
    }
   ],
   "source": [
    "# Mostrando o resultado da consulta\n",
    "!PGPASSWORD=test123 psql -h localhost -p 5432 -U tpch -d tpchdb -f /app/notebooks/tpch-pgsql/query_root/perf_query_gen/4.sql"
   ]
  },
  {
   "cell_type": "markdown",
   "metadata": {},
   "source": [
    "#### Consulta 5.sql"
   ]
  },
  {
   "cell_type": "code",
   "execution_count": 69,
   "metadata": {},
   "outputs": [
    {
     "name": "stdout",
     "output_type": "stream",
     "text": [
      "-- using 1685448045 as a seed to the RNG\r\n",
      "\r\n",
      "\r\n",
      "\r\n",
      "\r\n",
      "select\r\n",
      "\r\n",
      "\tn_name,\r\n",
      "\r\n",
      "\tsum(l_extendedprice * (1 - l_discount)) as revenue\r\n",
      "\r\n",
      "from\r\n",
      "\r\n",
      "\tcustomer,\r\n",
      "\r\n",
      "\torders,\r\n",
      "\r\n",
      "\tlineitem,\r\n",
      "\r\n",
      "\tsupplier,\r\n",
      "\r\n",
      "\tnation,\r\n",
      "\r\n",
      "\tregion\r\n",
      "\r\n",
      "where\r\n",
      "\r\n",
      "\tc_custkey = o_custkey\r\n",
      "\r\n",
      "\tand l_orderkey = o_orderkey\r\n",
      "\r\n",
      "\tand l_suppkey = s_suppkey\r\n",
      "\r\n",
      "\tand c_nationkey = s_nationkey\r\n",
      "\r\n",
      "\tand s_nationkey = n_nationkey\r\n",
      "\r\n",
      "\tand n_regionkey = r_regionkey\r\n",
      "\r\n",
      "\tand r_name = 'ASIA'\r\n",
      "\r\n",
      "\tand o_orderdate >= date '1995-01-01'\r\n",
      "\r\n",
      "\tand o_orderdate < date '1995-01-01' + interval '1' year\r\n",
      "\r\n",
      "group by\r\n",
      "\r\n",
      "\tn_name\r\n",
      "\r\n",
      "order by\r\n",
      "\r\n",
      "\trevenue desc\r\n",
      "\r\n",
      "LIMIT 1;\r\n",
      "\r\n"
     ]
    }
   ],
   "source": [
    "# Mostrando a consulta\n",
    "!cat /app/notebooks/tpch-pgsql/query_root/perf_query_gen/5.sql"
   ]
  },
  {
   "cell_type": "code",
   "execution_count": 70,
   "metadata": {},
   "outputs": [
    {
     "name": "stdout",
     "output_type": "stream",
     "text": [
      "          n_name           |    revenue    \r\n",
      "---------------------------+---------------\r\n",
      " INDONESIA                 | 56887561.6384\r\n",
      "(1 row)\r\n",
      "\r\n"
     ]
    }
   ],
   "source": [
    "# Mostrando o resultado da consulta\n",
    "!PGPASSWORD=test123 psql -h localhost -p 5432 -U tpch -d tpchdb -f /app/notebooks/tpch-pgsql/query_root/perf_query_gen/5.sql"
   ]
  },
  {
   "cell_type": "markdown",
   "metadata": {},
   "source": [
    "#### Consulta 6.sql"
   ]
  },
  {
   "cell_type": "code",
   "execution_count": 71,
   "metadata": {},
   "outputs": [
    {
     "name": "stdout",
     "output_type": "stream",
     "text": [
      "-- using 1685448045 as a seed to the RNG\r\n",
      "\r\n",
      "\r\n",
      "\r\n",
      "\r\n",
      "select\r\n",
      "\r\n",
      "\tsum(l_extendedprice * l_discount) as revenue\r\n",
      "\r\n",
      "from\r\n",
      "\r\n",
      "\tlineitem\r\n",
      "\r\n",
      "where\r\n",
      "\r\n",
      "\tl_shipdate >= date '1995-01-01'\r\n",
      "\r\n",
      "\tand l_shipdate < date '1995-01-01' + interval '1' year\r\n",
      "\r\n",
      "\tand l_discount between 0.08 - 0.01 and 0.08 + 0.01\r\n",
      "\r\n",
      "\tand l_quantity < 24\r\n",
      "\r\n",
      "LIMIT 1;\r\n",
      "\r\n"
     ]
    }
   ],
   "source": [
    "# Mostrando a consulta\n",
    "!cat /app/notebooks/tpch-pgsql/query_root/perf_query_gen/6.sql"
   ]
  },
  {
   "cell_type": "code",
   "execution_count": 72,
   "metadata": {},
   "outputs": [
    {
     "name": "stdout",
     "output_type": "stream",
     "text": [
      "    revenue     \r\n",
      "----------------\r\n",
      " 164334910.3783\r\n",
      "(1 row)\r\n",
      "\r\n"
     ]
    }
   ],
   "source": [
    "# Mostrando o resultado da consulta\n",
    "!PGPASSWORD=test123 psql -h localhost -p 5432 -U tpch -d tpchdb -f /app/notebooks/tpch-pgsql/query_root/perf_query_gen/6.sql"
   ]
  },
  {
   "cell_type": "markdown",
   "metadata": {},
   "source": [
    "#### Consulta 7.sql"
   ]
  },
  {
   "cell_type": "code",
   "execution_count": 73,
   "metadata": {},
   "outputs": [
    {
     "name": "stdout",
     "output_type": "stream",
     "text": [
      "-- using 1685448045 as a seed to the RNG\r\n",
      "\r\n",
      "\r\n",
      "\r\n",
      "\r\n",
      "select\r\n",
      "\r\n",
      "\tsupp_nation,\r\n",
      "\r\n",
      "\tcust_nation,\r\n",
      "\r\n",
      "\tl_year,\r\n",
      "\r\n",
      "\tsum(volume) as revenue\r\n",
      "\r\n",
      "from\r\n",
      "\r\n",
      "\t(\r\n",
      "\r\n",
      "\t\tselect\r\n",
      "\r\n",
      "\t\t\tn1.n_name as supp_nation,\r\n",
      "\r\n",
      "\t\t\tn2.n_name as cust_nation,\r\n",
      "\r\n",
      "\t\t\textract(year from l_shipdate) as l_year,\r\n",
      "\r\n",
      "\t\t\tl_extendedprice * (1 - l_discount) as volume\r\n",
      "\r\n",
      "\t\tfrom\r\n",
      "\r\n",
      "\t\t\tsupplier,\r\n",
      "\r\n",
      "\t\t\tlineitem,\r\n",
      "\r\n",
      "\t\t\torders,\r\n",
      "\r\n",
      "\t\t\tcustomer,\r\n",
      "\r\n",
      "\t\t\tnation n1,\r\n",
      "\r\n",
      "\t\t\tnation n2\r\n",
      "\r\n",
      "\t\twhere\r\n",
      "\r\n",
      "\t\t\ts_suppkey = l_suppkey\r\n",
      "\r\n",
      "\t\t\tand o_orderkey = l_orderkey\r\n",
      "\r\n",
      "\t\t\tand c_custkey = o_custkey\r\n",
      "\r\n",
      "\t\t\tand s_nationkey = n1.n_nationkey\r\n",
      "\r\n",
      "\t\t\tand c_nationkey = n2.n_nationkey\r\n",
      "\r\n",
      "\t\t\tand (\r\n",
      "\r\n",
      "\t\t\t\t(n1.n_name = 'VIETNAM' and n2.n_name = 'EGYPT')\r\n",
      "\r\n",
      "\t\t\t\tor (n1.n_name = 'EGYPT' and n2.n_name = 'VIETNAM')\r\n",
      "\r\n",
      "\t\t\t)\r\n",
      "\r\n",
      "\t\t\tand l_shipdate between date '1995-01-01' and date '1996-12-31'\r\n",
      "\r\n",
      "\t) as shipping\r\n",
      "\r\n",
      "group by\r\n",
      "\r\n",
      "\tsupp_nation,\r\n",
      "\r\n",
      "\tcust_nation,\r\n",
      "\r\n",
      "\tl_year\r\n",
      "\r\n",
      "order by\r\n",
      "\r\n",
      "\tsupp_nation,\r\n",
      "\r\n",
      "\tcust_nation,\r\n",
      "\r\n",
      "\tl_year\r\n",
      "\r\n",
      "LIMIT 1;"
     ]
    }
   ],
   "source": [
    "# Mostrando a consulta\n",
    "!cat /app/notebooks/tpch-pgsql/query_root/perf_query_gen/7.sql"
   ]
  },
  {
   "cell_type": "code",
   "execution_count": 74,
   "metadata": {},
   "outputs": [
    {
     "name": "stdout",
     "output_type": "stream",
     "text": [
      "        supp_nation        |        cust_nation        | l_year |    revenue    \r\n",
      "---------------------------+---------------------------+--------+---------------\r\n",
      " EGYPT                     | VIETNAM                   |   1995 | 54109871.6808\r\n",
      "(1 row)\r\n",
      "\r\n"
     ]
    }
   ],
   "source": [
    "# Mostrando o resultado da consulta\n",
    "!PGPASSWORD=test123 psql -h localhost -p 5432 -U tpch -d tpchdb -f /app/notebooks/tpch-pgsql/query_root/perf_query_gen/7.sql"
   ]
  },
  {
   "cell_type": "markdown",
   "metadata": {},
   "source": [
    "#### Consulta 8.sql"
   ]
  },
  {
   "cell_type": "code",
   "execution_count": 75,
   "metadata": {},
   "outputs": [
    {
     "name": "stdout",
     "output_type": "stream",
     "text": [
      "-- using 1685448045 as a seed to the RNG\r\n",
      "\r\n",
      "\r\n",
      "\r\n",
      "\r\n",
      "select\r\n",
      "\r\n",
      "\to_year,\r\n",
      "\r\n",
      "\tsum(case\r\n",
      "\r\n",
      "\t\twhen nation = 'EGYPT' then volume\r\n",
      "\r\n",
      "\t\telse 0\r\n",
      "\r\n",
      "\tend) / sum(volume) as mkt_share\r\n",
      "\r\n",
      "from\r\n",
      "\r\n",
      "\t(\r\n",
      "\r\n",
      "\t\tselect\r\n",
      "\r\n",
      "\t\t\textract(year from o_orderdate) as o_year,\r\n",
      "\r\n",
      "\t\t\tl_extendedprice * (1 - l_discount) as volume,\r\n",
      "\r\n",
      "\t\t\tn2.n_name as nation\r\n",
      "\r\n",
      "\t\tfrom\r\n",
      "\r\n",
      "\t\t\tpart,\r\n",
      "\r\n",
      "\t\t\tsupplier,\r\n",
      "\r\n",
      "\t\t\tlineitem,\r\n",
      "\r\n",
      "\t\t\torders,\r\n",
      "\r\n",
      "\t\t\tcustomer,\r\n",
      "\r\n",
      "\t\t\tnation n1,\r\n",
      "\r\n",
      "\t\t\tnation n2,\r\n",
      "\r\n",
      "\t\t\tregion\r\n",
      "\r\n",
      "\t\twhere\r\n",
      "\r\n",
      "\t\t\tp_partkey = l_partkey\r\n",
      "\r\n",
      "\t\t\tand s_suppkey = l_suppkey\r\n",
      "\r\n",
      "\t\t\tand l_orderkey = o_orderkey\r\n",
      "\r\n",
      "\t\t\tand o_custkey = c_custkey\r\n",
      "\r\n",
      "\t\t\tand c_nationkey = n1.n_nationkey\r\n",
      "\r\n",
      "\t\t\tand n1.n_regionkey = r_regionkey\r\n",
      "\r\n",
      "\t\t\tand r_name = 'MIDDLE EAST'\r\n",
      "\r\n",
      "\t\t\tand s_nationkey = n2.n_nationkey\r\n",
      "\r\n",
      "\t\t\tand o_orderdate between date '1995-01-01' and date '1996-12-31'\r\n",
      "\r\n",
      "\t\t\tand p_type = 'STANDARD BRUSHED TIN'\r\n",
      "\r\n",
      "\t) as all_nations\r\n",
      "\r\n",
      "group by\r\n",
      "\r\n",
      "\to_year\r\n",
      "\r\n",
      "order by\r\n",
      "\r\n",
      "\to_year\r\n",
      "\r\n",
      "LIMIT 1;"
     ]
    }
   ],
   "source": [
    "# Mostrando a consulta\n",
    "!cat /app/notebooks/tpch-pgsql/query_root/perf_query_gen/8.sql"
   ]
  },
  {
   "cell_type": "code",
   "execution_count": 76,
   "metadata": {},
   "outputs": [
    {
     "name": "stdout",
     "output_type": "stream",
     "text": [
      " o_year |       mkt_share        \r\n",
      "--------+------------------------\r\n",
      "   1995 | 0.05154240341030832465\r\n",
      "(1 row)\r\n",
      "\r\n"
     ]
    }
   ],
   "source": [
    "# Mostrando o resultado da consulta\n",
    "!PGPASSWORD=test123 psql -h localhost -p 5432 -U tpch -d tpchdb -f /app/notebooks/tpch-pgsql/query_root/perf_query_gen/8.sql"
   ]
  },
  {
   "cell_type": "markdown",
   "metadata": {},
   "source": [
    "#### Consulta 9.sql"
   ]
  },
  {
   "cell_type": "code",
   "execution_count": 77,
   "metadata": {},
   "outputs": [
    {
     "name": "stdout",
     "output_type": "stream",
     "text": [
      "-- using 1685448045 as a seed to the RNG\r\n",
      "\r\n",
      "\r\n",
      "\r\n",
      "\r\n",
      "select\r\n",
      "\r\n",
      "\tnation,\r\n",
      "\r\n",
      "\to_year,\r\n",
      "\r\n",
      "\tsum(amount) as sum_profit\r\n",
      "\r\n",
      "from\r\n",
      "\r\n",
      "\t(\r\n",
      "\r\n",
      "\t\tselect\r\n",
      "\r\n",
      "\t\t\tn_name as nation,\r\n",
      "\r\n",
      "\t\t\textract(year from o_orderdate) as o_year,\r\n",
      "\r\n",
      "\t\t\tl_extendedprice * (1 - l_discount) - ps_supplycost * l_quantity as amount\r\n",
      "\r\n",
      "\t\tfrom\r\n",
      "\r\n",
      "\t\t\tpart,\r\n",
      "\r\n",
      "\t\t\tsupplier,\r\n",
      "\r\n",
      "\t\t\tlineitem,\r\n",
      "\r\n",
      "\t\t\tpartsupp,\r\n",
      "\r\n",
      "\t\t\torders,\r\n",
      "\r\n",
      "\t\t\tnation\r\n",
      "\r\n",
      "\t\twhere\r\n",
      "\r\n",
      "\t\t\ts_suppkey = l_suppkey\r\n",
      "\r\n",
      "\t\t\tand ps_suppkey = l_suppkey\r\n",
      "\r\n",
      "\t\t\tand ps_partkey = l_partkey\r\n",
      "\r\n",
      "\t\t\tand p_partkey = l_partkey\r\n",
      "\r\n",
      "\t\t\tand o_orderkey = l_orderkey\r\n",
      "\r\n",
      "\t\t\tand s_nationkey = n_nationkey\r\n",
      "\r\n",
      "\t\t\tand p_name like '%burnished%'\r\n",
      "\r\n",
      "\t) as profit\r\n",
      "\r\n",
      "group by\r\n",
      "\r\n",
      "\tnation,\r\n",
      "\r\n",
      "\to_year\r\n",
      "\r\n",
      "order by\r\n",
      "\r\n",
      "\tnation,\r\n",
      "\r\n",
      "\to_year desc\r\n",
      "\r\n",
      "LIMIT 1;"
     ]
    }
   ],
   "source": [
    "# Mostrando a consulta\n",
    "!cat /app/notebooks/tpch-pgsql/query_root/perf_query_gen/9.sql"
   ]
  },
  {
   "cell_type": "code",
   "execution_count": 78,
   "metadata": {},
   "outputs": [
    {
     "name": "stdout",
     "output_type": "stream",
     "text": [
      "          nation           | o_year |  sum_profit   \r\n",
      "---------------------------+--------+---------------\r\n",
      " ALGERIA                   |   1998 | 28352315.3200\r\n",
      "(1 row)\r\n",
      "\r\n"
     ]
    }
   ],
   "source": [
    "# Mostrando o resultado da consulta\n",
    "!PGPASSWORD=test123 psql -h localhost -p 5432 -U tpch -d tpchdb -f /app/notebooks/tpch-pgsql/query_root/perf_query_gen/9.sql"
   ]
  },
  {
   "cell_type": "markdown",
   "metadata": {},
   "source": [
    "#### Consulta 10.sql"
   ]
  },
  {
   "cell_type": "code",
   "execution_count": 79,
   "metadata": {},
   "outputs": [
    {
     "name": "stdout",
     "output_type": "stream",
     "text": [
      "-- using 1685448045 as a seed to the RNG\r\n",
      "\r\n",
      "\r\n",
      "\r\n",
      "\r\n",
      "select\r\n",
      "\r\n",
      "\tc_custkey,\r\n",
      "\r\n",
      "\tc_name,\r\n",
      "\r\n",
      "\tsum(l_extendedprice * (1 - l_discount)) as revenue,\r\n",
      "\r\n",
      "\tc_acctbal,\r\n",
      "\r\n",
      "\tn_name,\r\n",
      "\r\n",
      "\tc_address,\r\n",
      "\r\n",
      "\tc_phone,\r\n",
      "\r\n",
      "\tc_comment\r\n",
      "\r\n",
      "from\r\n",
      "\r\n",
      "\tcustomer,\r\n",
      "\r\n",
      "\torders,\r\n",
      "\r\n",
      "\tlineitem,\r\n",
      "\r\n",
      "\tnation\r\n",
      "\r\n",
      "where\r\n",
      "\r\n",
      "\tc_custkey = o_custkey\r\n",
      "\r\n",
      "\tand l_orderkey = o_orderkey\r\n",
      "\r\n",
      "\tand o_orderdate >= date '1994-08-01'\r\n",
      "\r\n",
      "\tand o_orderdate < date '1994-08-01' + interval '3' month\r\n",
      "\r\n",
      "\tand l_returnflag = 'R'\r\n",
      "\r\n",
      "\tand c_nationkey = n_nationkey\r\n",
      "\r\n",
      "group by\r\n",
      "\r\n",
      "\tc_custkey,\r\n",
      "\r\n",
      "\tc_name,\r\n",
      "\r\n",
      "\tc_acctbal,\r\n",
      "\r\n",
      "\tc_phone,\r\n",
      "\r\n",
      "\tn_name,\r\n",
      "\r\n",
      "\tc_address,\r\n",
      "\r\n",
      "\tc_comment\r\n",
      "\r\n",
      "order by\r\n",
      "\r\n",
      "\trevenue desc\r\n",
      "\r\n",
      "LIMIT 20;"
     ]
    }
   ],
   "source": [
    "# Mostrando a consulta\n",
    "!cat /app/notebooks/tpch-pgsql/query_root/perf_query_gen/10.sql"
   ]
  },
  {
   "cell_type": "code",
   "execution_count": 80,
   "metadata": {},
   "outputs": [
    {
     "name": "stdout",
     "output_type": "stream",
     "text": [
      " c_custkey |       c_name       |   revenue   | c_acctbal |          n_name           |                c_address                |     c_phone     |                                                 c_comment                                                 \r\n",
      "-----------+--------------------+-------------+-----------+---------------------------+-----------------------------------------+-----------------+-----------------------------------------------------------------------------------------------------------\r\n",
      "     90643 | Customer#000090643 | 770318.4738 |   8865.95 | INDIA                     | ,ad78KOYjsrNrc,Pemlq7E81stzy4JBH9eFb    | 18-204-287-4176 | the furiously express packages; bold foxes are quickly along the furiously final theodolites. f\r\n",
      "    108973 | Customer#000108973 | 766681.7026 |   8883.83 | JAPAN                     | j88v 9YUfF m XR4NuJr2JGlbTv1cG          | 22-520-736-9928 | dolphins must have to nag special requests. slyly regular foxes are furiously across the blithely \r\n",
      "      5371 | Customer#000005371 | 690987.0380 |   7980.77 | UNITED KINGDOM            | FgdxSdPgxMWwV6mIcoLMdw                  | 33-685-970-8259 | quests wake carefully toward the final, bold packages. even escapades haggle fluffily. expre\r\n",
      "    126808 | Customer#000126808 | 679798.3357 |   9687.76 | IRAQ                      | qVLcfrqR0xUDjhBFokXa                    | 21-199-573-3526 |  accounts. fluffily ironic foxes haggle blithely. blithely fina\r\n",
      "     50833 | Customer#000050833 | 667744.9228 |   -552.15 | ALGERIA                   | Z7mLOne42tiNlz9hA5Jv9hXW,               | 10-622-480-6938 | bout the pending platelets. carefully special \r\n",
      "     70021 | Customer#000070021 | 640461.4580 |   3859.96 | ROMANIA                   | yU4uaVxuowb2nUWje                       | 29-109-243-5664 | regular, special requests sleep-- blithely express platelets r\r\n",
      "    118435 | Customer#000118435 | 630454.8481 |   8564.39 | UNITED KINGDOM            | 9PeonaktqsN1l                           | 33-215-567-6181 | e bold, ironic requests. slyly express deposits nod. bold, s\r\n",
      "     92209 | Customer#000092209 | 618103.4752 |   3530.03 | VIETNAM                   | jFkjSseImOQYCZfv3qM6c95Moy              | 31-394-804-6548 | gular deposits sleep slyly bold, final instructions. carefully quick packages cajole among the even depos\r\n",
      "     49732 | Customer#000049732 | 614966.7733 |   -543.26 | EGYPT                     | jo9GYxt9HdBqyD4nSOAMuren0rtbejB1qz      | 14-735-715-5614 | eodolites. ironic, bold dolphins about the furiously brave requests nag \r\n",
      "     46414 | Customer#000046414 | 613047.0696 |   7236.60 | INDONESIA                 | XT0PiSSBlpdYljUUfUF6P8TvFAzhfp2Vk       | 19-289-911-5103 | e slyly. quickly ironic accounts are carefully above\r\n",
      "     21382 | Customer#000021382 | 598105.4698 |   6123.38 | FRANCE                    | hL1u02ZCudhkfiA 5iPogt                  | 16-841-219-5660 | s. carefully regular packages among the furiously pend\r\n",
      "    101839 | Customer#000101839 | 595735.9314 |    681.62 | ARGENTINA                 | cw8xk7mW,8snEUbTb6uf                    | 11-862-823-9345 | ges according to the ideas are furiously final deposits. silent packages integra\r\n",
      "    125152 | Customer#000125152 | 592833.6296 |   -250.02 | ARGENTINA                 | LqgdfafviyRa29AwLF                      | 11-735-849-1130 | onic excuses. thin deposits along the foxes affix after the final accounts. blithely final foxe\r\n",
      "    137068 | Customer#000137068 | 581136.2583 |   6693.96 | IRAN                      | 72,2 D,,Rb7OpvoVuUKu8dywPko RbVYDbC8kmO | 20-355-882-5603 | long the regular, careful ideas. furiously ironic requests haggle careful\r\n",
      "    121831 | Customer#000121831 | 578418.4048 |   6520.95 | UNITED STATES             | nX zgonzVJAXeti7W40W1xZchCIeQBQADF e    | 34-908-255-3677 | slyly against the regular foxes. slyly pending foxes print blithely after\r\n",
      "     24176 | Customer#000024176 | 572377.9652 |   -237.94 | EGYPT                     | aJU5 Ra7U9VWJ9QOyO4fqnOWRYm5J           | 14-689-825-3831 | unts among the blithely thin packages mold fluf\r\n",
      "     62956 | Customer#000062956 | 570544.1174 |   5674.68 | SAUDI ARABIA              | 3b0FCUekj7rBgBxNVmh62F pTEzpE3S q       | 30-196-374-1210 | ly express sentiments nag slyly even decoys. ironic, re\r\n",
      "     89140 | Customer#000089140 | 570296.9484 |   9570.28 | PERU                      | WEzrLJxjLk1rTnp4hWxeYbXiKCq Wmd         | 27-119-607-9583 | ar ideas. slyly regular theodolites cajole according to the furiously \r\n",
      "    130324 | Customer#000130324 | 560615.2878 |   3109.57 | MOZAMBIQUE                | wf4J2vrZrfY2wCWco                       | 26-345-771-6353 | s. unusual, pending pinto beans among the final \r\n",
      "     62290 | Customer#000062290 | 560257.0583 |    779.03 | UNITED KINGDOM            | PD5yt,DvRyjU0Kkxg3k6Mj zWss0k           | 33-623-365-8397 | oward the blithely unusual packages. theodolites past the final, unusual packages af\r\n",
      "(20 rows)\r\n",
      "\r\n"
     ]
    }
   ],
   "source": [
    "# Mostrando o resultado da consulta\n",
    "!PGPASSWORD=test123 psql -h localhost -p 5432 -U tpch -d tpchdb -f /app/notebooks/tpch-pgsql/query_root/perf_query_gen/10.sql"
   ]
  },
  {
   "cell_type": "markdown",
   "metadata": {},
   "source": [
    "#### Consulta 11.sql"
   ]
  },
  {
   "cell_type": "code",
   "execution_count": 81,
   "metadata": {},
   "outputs": [
    {
     "name": "stdout",
     "output_type": "stream",
     "text": [
      "-- using 1685448045 as a seed to the RNG\r\n",
      "\r\n",
      "\r\n",
      "\r\n",
      "\r\n",
      "select\r\n",
      "\r\n",
      "\tps_partkey,\r\n",
      "\r\n",
      "\tsum(ps_supplycost * ps_availqty) as value\r\n",
      "\r\n",
      "from\r\n",
      "\r\n",
      "\tpartsupp,\r\n",
      "\r\n",
      "\tsupplier,\r\n",
      "\r\n",
      "\tnation\r\n",
      "\r\n",
      "where\r\n",
      "\r\n",
      "\tps_suppkey = s_suppkey\r\n",
      "\r\n",
      "\tand s_nationkey = n_nationkey\r\n",
      "\r\n",
      "\tand n_name = 'VIETNAM'\r\n",
      "\r\n",
      "group by\r\n",
      "\r\n",
      "\tps_partkey having\r\n",
      "\r\n",
      "\t\tsum(ps_supplycost * ps_availqty) > (\r\n",
      "\r\n",
      "\t\t\tselect\r\n",
      "\r\n",
      "\t\t\t\tsum(ps_supplycost * ps_availqty) * 0.0001000000\r\n",
      "\r\n",
      "\t\t\tfrom\r\n",
      "\r\n",
      "\t\t\t\tpartsupp,\r\n",
      "\r\n",
      "\t\t\t\tsupplier,\r\n",
      "\r\n",
      "\t\t\t\tnation\r\n",
      "\r\n",
      "\t\t\twhere\r\n",
      "\r\n",
      "\t\t\t\tps_suppkey = s_suppkey\r\n",
      "\r\n",
      "\t\t\t\tand s_nationkey = n_nationkey\r\n",
      "\r\n",
      "\t\t\t\tand n_name = 'VIETNAM'\r\n",
      "\r\n",
      "\t\t)\r\n",
      "\r\n",
      "order by\r\n",
      "\r\n",
      "\tvalue desc\r\n",
      "\r\n",
      "LIMIT 1;"
     ]
    }
   ],
   "source": [
    "# Mostrando a consulta\n",
    "!cat /app/notebooks/tpch-pgsql/query_root/perf_query_gen/11.sql"
   ]
  },
  {
   "cell_type": "code",
   "execution_count": 82,
   "metadata": {},
   "outputs": [
    {
     "name": "stdout",
     "output_type": "stream",
     "text": [
      " ps_partkey |    value    \r\n",
      "------------+-------------\r\n",
      "     196840 | 16720206.08\r\n",
      "(1 row)\r\n",
      "\r\n"
     ]
    }
   ],
   "source": [
    "# Mostrando o resultado da consulta\n",
    "!PGPASSWORD=test123 psql -h localhost -p 5432 -U tpch -d tpchdb -f /app/notebooks/tpch-pgsql/query_root/perf_query_gen/11.sql"
   ]
  },
  {
   "cell_type": "markdown",
   "metadata": {},
   "source": [
    "#### Consulta 12.sql"
   ]
  },
  {
   "cell_type": "code",
   "execution_count": 83,
   "metadata": {},
   "outputs": [
    {
     "name": "stdout",
     "output_type": "stream",
     "text": [
      "-- using 1685448045 as a seed to the RNG\r\n",
      "\r\n",
      "\r\n",
      "\r\n",
      "\r\n",
      "select\r\n",
      "\r\n",
      "\tl_shipmode,\r\n",
      "\r\n",
      "\tsum(case\r\n",
      "\r\n",
      "\t\twhen o_orderpriority = '1-URGENT'\r\n",
      "\r\n",
      "\t\t\tor o_orderpriority = '2-HIGH'\r\n",
      "\r\n",
      "\t\t\tthen 1\r\n",
      "\r\n",
      "\t\telse 0\r\n",
      "\r\n",
      "\tend) as high_line_count,\r\n",
      "\r\n",
      "\tsum(case\r\n",
      "\r\n",
      "\t\twhen o_orderpriority <> '1-URGENT'\r\n",
      "\r\n",
      "\t\t\tand o_orderpriority <> '2-HIGH'\r\n",
      "\r\n",
      "\t\t\tthen 1\r\n",
      "\r\n",
      "\t\telse 0\r\n",
      "\r\n",
      "\tend) as low_line_count\r\n",
      "\r\n",
      "from\r\n",
      "\r\n",
      "\torders,\r\n",
      "\r\n",
      "\tlineitem\r\n",
      "\r\n",
      "where\r\n",
      "\r\n",
      "\to_orderkey = l_orderkey\r\n",
      "\r\n",
      "\tand l_shipmode in ('REG AIR', 'AIR')\r\n",
      "\r\n",
      "\tand l_commitdate < l_receiptdate\r\n",
      "\r\n",
      "\tand l_shipdate < l_commitdate\r\n",
      "\r\n",
      "\tand l_receiptdate >= date '1994-01-01'\r\n",
      "\r\n",
      "\tand l_receiptdate < date '1994-01-01' + interval '1' year\r\n",
      "\r\n",
      "group by\r\n",
      "\r\n",
      "\tl_shipmode\r\n",
      "\r\n",
      "order by\r\n",
      "\r\n",
      "\tl_shipmode\r\n",
      "\r\n",
      "LIMIT 1;"
     ]
    }
   ],
   "source": [
    "# Mostrando a consulta\n",
    "!cat /app/notebooks/tpch-pgsql/query_root/perf_query_gen/12.sql"
   ]
  },
  {
   "cell_type": "code",
   "execution_count": 84,
   "metadata": {},
   "outputs": [
    {
     "name": "stdout",
     "output_type": "stream",
     "text": [
      " l_shipmode | high_line_count | low_line_count \r\n",
      "------------+-----------------+----------------\r\n",
      " AIR        |            6310 |           9124\r\n",
      "(1 row)\r\n",
      "\r\n"
     ]
    }
   ],
   "source": [
    "# Mostrando o resultado da consulta\n",
    "!PGPASSWORD=test123 psql -h localhost -p 5432 -U tpch -d tpchdb -f /app/notebooks/tpch-pgsql/query_root/perf_query_gen/12.sql"
   ]
  },
  {
   "cell_type": "markdown",
   "metadata": {},
   "source": [
    "#### Consulta 13.sql"
   ]
  },
  {
   "cell_type": "code",
   "execution_count": 85,
   "metadata": {},
   "outputs": [
    {
     "name": "stdout",
     "output_type": "stream",
     "text": [
      "-- using 1685448045 as a seed to the RNG\r\n",
      "\r\n",
      "\r\n",
      "\r\n",
      "\r\n",
      "select\r\n",
      "\r\n",
      "\tc_count,\r\n",
      "\r\n",
      "\tcount(*) as custdist\r\n",
      "\r\n",
      "from\r\n",
      "\r\n",
      "\t(\r\n",
      "\r\n",
      "\t\tselect\r\n",
      "\r\n",
      "\t\t\tc_custkey,\r\n",
      "\r\n",
      "\t\t\tcount(o_orderkey)\r\n",
      "\r\n",
      "\t\tfrom\r\n",
      "\r\n",
      "\t\t\tcustomer left outer join orders on\r\n",
      "\r\n",
      "\t\t\t\tc_custkey = o_custkey\r\n",
      "\r\n",
      "\t\t\t\tand o_comment not like '%special%requests%'\r\n",
      "\r\n",
      "\t\tgroup by\r\n",
      "\r\n",
      "\t\t\tc_custkey\r\n",
      "\r\n",
      "\t) as c_orders (c_custkey, c_count)\r\n",
      "\r\n",
      "group by\r\n",
      "\r\n",
      "\tc_count\r\n",
      "\r\n",
      "order by\r\n",
      "\r\n",
      "\tcustdist desc,\r\n",
      "\r\n",
      "\tc_count desc\r\n",
      "\r\n",
      "LIMIT 1;"
     ]
    }
   ],
   "source": [
    "# Mostrando a consulta\n",
    "!cat /app/notebooks/tpch-pgsql/query_root/perf_query_gen/13.sql"
   ]
  },
  {
   "cell_type": "code",
   "execution_count": 86,
   "metadata": {},
   "outputs": [
    {
     "name": "stdout",
     "output_type": "stream",
     "text": [
      " c_count | custdist \r\n",
      "---------+----------\r\n",
      "       0 |    50005\r\n",
      "(1 row)\r\n",
      "\r\n"
     ]
    }
   ],
   "source": [
    "# Mostrando o resultado da consulta\n",
    "!PGPASSWORD=test123 psql -h localhost -p 5432 -U tpch -d tpchdb -f /app/notebooks/tpch-pgsql/query_root/perf_query_gen/13.sql"
   ]
  },
  {
   "cell_type": "markdown",
   "metadata": {},
   "source": [
    "#### Consulta 14.sql"
   ]
  },
  {
   "cell_type": "code",
   "execution_count": 87,
   "metadata": {},
   "outputs": [
    {
     "name": "stdout",
     "output_type": "stream",
     "text": [
      "-- using 1685448045 as a seed to the RNG\r\n",
      "\r\n",
      "\r\n",
      "\r\n",
      "\r\n",
      "select\r\n",
      "\r\n",
      "\t100.00 * sum(case\r\n",
      "\r\n",
      "\t\twhen p_type like 'PROMO%'\r\n",
      "\r\n",
      "\t\t\tthen l_extendedprice * (1 - l_discount)\r\n",
      "\r\n",
      "\t\telse 0\r\n",
      "\r\n",
      "\tend) / sum(l_extendedprice * (1 - l_discount)) as promo_revenue\r\n",
      "\r\n",
      "from\r\n",
      "\r\n",
      "\tlineitem,\r\n",
      "\r\n",
      "\tpart\r\n",
      "\r\n",
      "where\r\n",
      "\r\n",
      "\tl_partkey = p_partkey\r\n",
      "\r\n",
      "\tand l_shipdate >= date '1994-05-01'\r\n",
      "\r\n",
      "\tand l_shipdate < date '1994-05-01' + interval '1' month\r\n",
      "\r\n",
      "LIMIT 1;"
     ]
    }
   ],
   "source": [
    "# Mostrando a consulta\n",
    "!cat /app/notebooks/tpch-pgsql/query_root/perf_query_gen/14.sql"
   ]
  },
  {
   "cell_type": "code",
   "execution_count": 88,
   "metadata": {},
   "outputs": [
    {
     "name": "stdout",
     "output_type": "stream",
     "text": [
      "    promo_revenue    \r\n",
      "---------------------\r\n",
      " 16.4999964716935915\r\n",
      "(1 row)\r\n",
      "\r\n"
     ]
    }
   ],
   "source": [
    "# Mostrando o resultado da consulta\n",
    "!PGPASSWORD=test123 psql -h localhost -p 5432 -U tpch -d tpchdb -f /app/notebooks/tpch-pgsql/query_root/perf_query_gen/14.sql"
   ]
  },
  {
   "cell_type": "markdown",
   "metadata": {},
   "source": [
    "#### Consulta 15.sql"
   ]
  },
  {
   "cell_type": "code",
   "execution_count": 89,
   "metadata": {},
   "outputs": [
    {
     "name": "stdout",
     "output_type": "stream",
     "text": [
      "-- using 1685448045 as a seed to the RNG\r\n",
      "\r\n",
      "\r\n",
      "create view revenue0 (supplier_no, total_revenue) as\r\n",
      "\r\n",
      "\tselect\r\n",
      "\r\n",
      "\t\tl_suppkey,\r\n",
      "\r\n",
      "\t\tsum(l_extendedprice * (1 - l_discount))\r\n",
      "\r\n",
      "\tfrom\r\n",
      "\r\n",
      "\t\tlineitem\r\n",
      "\r\n",
      "\twhere\r\n",
      "\r\n",
      "\t\tl_shipdate >= date '1994-05-01'\r\n",
      "\r\n",
      "\t\tand l_shipdate < date '1994-05-01' + interval '3' month\r\n",
      "\r\n",
      "\tgroup by\r\n",
      "\r\n",
      "\t\tl_suppkey;\r\n",
      "\r\n",
      "\r\n",
      "\r\n",
      "\r\n",
      "\r\n",
      "select\r\n",
      "\r\n",
      "\ts_suppkey,\r\n",
      "\r\n",
      "\ts_name,\r\n",
      "\r\n",
      "\ts_address,\r\n",
      "\r\n",
      "\ts_phone,\r\n",
      "\r\n",
      "\ttotal_revenue\r\n",
      "\r\n",
      "from\r\n",
      "\r\n",
      "\tsupplier,\r\n",
      "\r\n",
      "\trevenue0\r\n",
      "\r\n",
      "where\r\n",
      "\r\n",
      "\ts_suppkey = supplier_no\r\n",
      "\r\n",
      "\tand total_revenue = (\r\n",
      "\r\n",
      "\t\tselect\r\n",
      "\r\n",
      "\t\t\tmax(total_revenue)\r\n",
      "\r\n",
      "\t\tfrom\r\n",
      "\r\n",
      "\t\t\trevenue0\r\n",
      "\r\n",
      "\t)\r\n",
      "\r\n",
      "order by\r\n",
      "\r\n",
      "\ts_suppkey\r\n",
      "\r\n",
      "LIMIT 1;\r\n",
      "\r\n",
      "\r\n",
      "\r\n",
      "drop view revenue0;"
     ]
    }
   ],
   "source": [
    "# Mostrando a consulta\n",
    "!cat /app/notebooks/tpch-pgsql/query_root/perf_query_gen/15.sql"
   ]
  },
  {
   "cell_type": "code",
   "execution_count": 90,
   "metadata": {},
   "outputs": [
    {
     "name": "stdout",
     "output_type": "stream",
     "text": [
      "CREATE VIEW\n",
      " s_suppkey |          s_name           |      s_address      |     s_phone     | total_revenue \n",
      "-----------+---------------------------+---------------------+-----------------+---------------\n",
      "      3301 | Supplier#000003301        | avceT9G9MnYQuzH,VCT | 14-412-668-5330 |  2042736.4034\n",
      "(1 row)\n",
      "\n",
      "DROP VIEW\n"
     ]
    }
   ],
   "source": [
    "# Mostrando o resultado da consulta\n",
    "!PGPASSWORD=test123 psql -h localhost -p 5432 -U tpch -d tpchdb -f /app/notebooks/tpch-pgsql/query_root/perf_query_gen/15.sql"
   ]
  },
  {
   "cell_type": "markdown",
   "metadata": {},
   "source": [
    "#### Consulta 16.sql"
   ]
  },
  {
   "cell_type": "code",
   "execution_count": 91,
   "metadata": {},
   "outputs": [
    {
     "name": "stdout",
     "output_type": "stream",
     "text": [
      "-- using 1685448046 as a seed to the RNG\r\n",
      "\r\n",
      "\r\n",
      "\r\n",
      "\r\n",
      "select\r\n",
      "\r\n",
      "\tp_brand,\r\n",
      "\r\n",
      "\tp_type,\r\n",
      "\r\n",
      "\tp_size,\r\n",
      "\r\n",
      "\tcount(distinct ps_suppkey) as supplier_cnt\r\n",
      "\r\n",
      "from\r\n",
      "\r\n",
      "\tpartsupp,\r\n",
      "\r\n",
      "\tpart\r\n",
      "\r\n",
      "where\r\n",
      "\r\n",
      "\tp_partkey = ps_partkey\r\n",
      "\r\n",
      "\tand p_brand <> 'Brand#55'\r\n",
      "\r\n",
      "\tand p_type not like 'MEDIUM BURNISHED%'\r\n",
      "\r\n",
      "\tand p_size in (31, 45, 7, 43, 49, 14, 1, 26)\r\n",
      "\r\n",
      "\tand ps_suppkey not in (\r\n",
      "\r\n",
      "\t\tselect\r\n",
      "\r\n",
      "\t\t\ts_suppkey\r\n",
      "\r\n",
      "\t\tfrom\r\n",
      "\r\n",
      "\t\t\tsupplier\r\n",
      "\r\n",
      "\t\twhere\r\n",
      "\r\n",
      "\t\t\ts_comment like '%Customer%Complaints%'\r\n",
      "\r\n",
      "\t)\r\n",
      "\r\n",
      "group by\r\n",
      "\r\n",
      "\tp_brand,\r\n",
      "\r\n",
      "\tp_type,\r\n",
      "\r\n",
      "\tp_size\r\n",
      "\r\n",
      "order by\r\n",
      "\r\n",
      "\tsupplier_cnt desc,\r\n",
      "\r\n",
      "\tp_brand,\r\n",
      "\r\n",
      "\tp_type,\r\n",
      "\r\n",
      "\tp_size\r\n",
      "\r\n",
      "LIMIT 1;"
     ]
    }
   ],
   "source": [
    "# Mostrando a consulta\n",
    "!cat /app/notebooks/tpch-pgsql/query_root/perf_query_gen/16.sql"
   ]
  },
  {
   "cell_type": "code",
   "execution_count": 92,
   "metadata": {},
   "outputs": [
    {
     "name": "stdout",
     "output_type": "stream",
     "text": [
      "  p_brand   |        p_type        | p_size | supplier_cnt \r\n",
      "------------+----------------------+--------+--------------\r\n",
      " Brand#45   | MEDIUM BRUSHED BRASS |     31 |           32\r\n",
      "(1 row)\r\n",
      "\r\n"
     ]
    }
   ],
   "source": [
    "# Mostrando o resultado da consulta\n",
    "!PGPASSWORD=test123 psql -h localhost -p 5432 -U tpch -d tpchdb -f /app/notebooks/tpch-pgsql/query_root/perf_query_gen/16.sql"
   ]
  },
  {
   "cell_type": "markdown",
   "metadata": {},
   "source": [
    "#### Consulta 17.sql"
   ]
  },
  {
   "cell_type": "code",
   "execution_count": 93,
   "metadata": {},
   "outputs": [
    {
     "name": "stdout",
     "output_type": "stream",
     "text": [
      "-- using 1685448046 as a seed to the RNG\r\n",
      "\r\n",
      "\r\n",
      "\r\n",
      "\r\n",
      "select\r\n",
      "\r\n",
      "\tsum(l_extendedprice) / 7.0 as avg_yearly\r\n",
      "\r\n",
      "from\r\n",
      "\r\n",
      "\tlineitem,\r\n",
      "\r\n",
      "\tpart,\r\n",
      "\r\n",
      "\t(SELECT l_partkey AS agg_partkey, 0.2 * avg(l_quantity) AS avg_quantity FROM lineitem GROUP BY l_partkey) part_agg\r\n",
      "\r\n",
      "where\r\n",
      "\r\n",
      "\tp_partkey = l_partkey\r\n",
      "\r\n",
      "\tand agg_partkey = l_partkey\r\n",
      "\r\n",
      "\tand p_brand = 'Brand#52'\r\n",
      "\r\n",
      "\tand p_container = 'JUMBO CASE'\r\n",
      "\r\n",
      "\tand l_quantity < avg_quantity\r\n",
      "\r\n",
      "LIMIT 1;\r\n",
      "\r\n"
     ]
    }
   ],
   "source": [
    "# Mostrando a consulta\n",
    "!cat /app/notebooks/tpch-pgsql/query_root/perf_query_gen/17.sql"
   ]
  },
  {
   "cell_type": "code",
   "execution_count": 94,
   "metadata": {},
   "outputs": [
    {
     "name": "stdout",
     "output_type": "stream",
     "text": [
      "     avg_yearly      \r\n",
      "---------------------\r\n",
      " 347321.138571428571\r\n",
      "(1 row)\r\n",
      "\r\n"
     ]
    }
   ],
   "source": [
    "# Mostrando o resultado da consulta\n",
    "!PGPASSWORD=test123 psql -h localhost -p 5432 -U tpch -d tpchdb -f /app/notebooks/tpch-pgsql/query_root/perf_query_gen/17.sql"
   ]
  },
  {
   "cell_type": "markdown",
   "metadata": {},
   "source": [
    "#### Consulta 18.sql"
   ]
  },
  {
   "cell_type": "code",
   "execution_count": 95,
   "metadata": {},
   "outputs": [
    {
     "name": "stdout",
     "output_type": "stream",
     "text": [
      "-- using 1685448046 as a seed to the RNG\r\n",
      "\r\n",
      "\r\n",
      "\r\n",
      "\r\n",
      "select\r\n",
      "\r\n",
      "\tc_name,\r\n",
      "\r\n",
      "\tc_custkey,\r\n",
      "\r\n",
      "\to_orderkey,\r\n",
      "\r\n",
      "\to_orderdate,\r\n",
      "\r\n",
      "\to_totalprice,\r\n",
      "\r\n",
      "\tsum(l_quantity)\r\n",
      "\r\n",
      "from\r\n",
      "\r\n",
      "\tcustomer,\r\n",
      "\r\n",
      "\torders,\r\n",
      "\r\n",
      "\tlineitem\r\n",
      "\r\n",
      "where\r\n",
      "\r\n",
      "\to_orderkey in (\r\n",
      "\r\n",
      "\t\tselect\r\n",
      "\r\n",
      "\t\t\tl_orderkey\r\n",
      "\r\n",
      "\t\tfrom\r\n",
      "\r\n",
      "\t\t\tlineitem\r\n",
      "\r\n",
      "\t\tgroup by\r\n",
      "\r\n",
      "\t\t\tl_orderkey having\r\n",
      "\r\n",
      "\t\t\t\tsum(l_quantity) > 313\r\n",
      "\r\n",
      "\t)\r\n",
      "\r\n",
      "\tand c_custkey = o_custkey\r\n",
      "\r\n",
      "\tand o_orderkey = l_orderkey\r\n",
      "\r\n",
      "group by\r\n",
      "\r\n",
      "\tc_name,\r\n",
      "\r\n",
      "\tc_custkey,\r\n",
      "\r\n",
      "\to_orderkey,\r\n",
      "\r\n",
      "\to_orderdate,\r\n",
      "\r\n",
      "\to_totalprice\r\n",
      "\r\n",
      "order by\r\n",
      "\r\n",
      "\to_totalprice desc,\r\n",
      "\r\n",
      "\to_orderdate\r\n",
      "\r\n",
      "LIMIT 100;"
     ]
    }
   ],
   "source": [
    "# Mostrando a consulta\n",
    "!cat /app/notebooks/tpch-pgsql/query_root/perf_query_gen/18.sql"
   ]
  },
  {
   "cell_type": "code",
   "execution_count": 96,
   "metadata": {},
   "outputs": [
    {
     "name": "stdout",
     "output_type": "stream",
     "text": [
      "       c_name       | c_custkey | o_orderkey | o_orderdate | o_totalprice | sum \r\n",
      "--------------------+-----------+------------+-------------+--------------+-----\r\n",
      " Customer#000128120 |    128120 |    4722021 | 1994-04-07  |    544089.09 | 323\r\n",
      " Customer#000144617 |    144617 |    3043270 | 1997-02-12  |    530604.44 | 317\r\n",
      " Customer#000066790 |     66790 |    2199712 | 1996-09-30  |    515531.82 | 327\r\n",
      " Customer#000015619 |     15619 |    3767271 | 1996-08-07  |    480083.96 | 318\r\n",
      " Customer#000147197 |    147197 |    1263015 | 1997-02-02  |    467149.67 | 320\r\n",
      " Customer#000117919 |    117919 |    2869152 | 1996-06-20  |    456815.92 | 317\r\n",
      " Customer#000126865 |    126865 |    4702759 | 1994-11-07  |    447606.65 | 320\r\n",
      " Customer#000036619 |     36619 |    4806726 | 1995-01-17  |    446704.09 | 328\r\n",
      " Customer#000119989 |    119989 |    1544643 | 1997-09-20  |    434568.25 | 320\r\n",
      "(9 rows)\r\n",
      "\r\n"
     ]
    }
   ],
   "source": [
    "# Mostrando o resultado da consulta\n",
    "!PGPASSWORD=test123 psql -h localhost -p 5432 -U tpch -d tpchdb -f /app/notebooks/tpch-pgsql/query_root/perf_query_gen/18.sql"
   ]
  },
  {
   "cell_type": "markdown",
   "metadata": {},
   "source": [
    "#### Consulta 19.sql"
   ]
  },
  {
   "cell_type": "code",
   "execution_count": 97,
   "metadata": {},
   "outputs": [
    {
     "name": "stdout",
     "output_type": "stream",
     "text": [
      "-- using 1685448046 as a seed to the RNG\r\n",
      "\r\n",
      "\r\n",
      "\r\n",
      "\r\n",
      "select\r\n",
      "\r\n",
      "\tsum(l_extendedprice* (1 - l_discount)) as revenue\r\n",
      "\r\n",
      "from\r\n",
      "\r\n",
      "\tlineitem,\r\n",
      "\r\n",
      "\tpart\r\n",
      "\r\n",
      "where\r\n",
      "\r\n",
      "\t(\r\n",
      "\r\n",
      "\t\tp_partkey = l_partkey\r\n",
      "\r\n",
      "\t\tand p_brand = 'Brand#45'\r\n",
      "\r\n",
      "\t\tand p_container in ('SM CASE', 'SM BOX', 'SM PACK', 'SM PKG')\r\n",
      "\r\n",
      "\t\tand l_quantity >= 6 and l_quantity <= 6 + 10\r\n",
      "\r\n",
      "\t\tand p_size between 1 and 5\r\n",
      "\r\n",
      "\t\tand l_shipmode in ('AIR', 'AIR REG')\r\n",
      "\r\n",
      "\t\tand l_shipinstruct = 'DELIVER IN PERSON'\r\n",
      "\r\n",
      "\t)\r\n",
      "\r\n",
      "\tor\r\n",
      "\r\n",
      "\t(\r\n",
      "\r\n",
      "\t\tp_partkey = l_partkey\r\n",
      "\r\n",
      "\t\tand p_brand = 'Brand#15'\r\n",
      "\r\n",
      "\t\tand p_container in ('MED BAG', 'MED BOX', 'MED PKG', 'MED PACK')\r\n",
      "\r\n",
      "\t\tand l_quantity >= 14 and l_quantity <= 14 + 10\r\n",
      "\r\n",
      "\t\tand p_size between 1 and 10\r\n",
      "\r\n",
      "\t\tand l_shipmode in ('AIR', 'AIR REG')\r\n",
      "\r\n",
      "\t\tand l_shipinstruct = 'DELIVER IN PERSON'\r\n",
      "\r\n",
      "\t)\r\n",
      "\r\n",
      "\tor\r\n",
      "\r\n",
      "\t(\r\n",
      "\r\n",
      "\t\tp_partkey = l_partkey\r\n",
      "\r\n",
      "\t\tand p_brand = 'Brand#51'\r\n",
      "\r\n",
      "\t\tand p_container in ('LG CASE', 'LG BOX', 'LG PACK', 'LG PKG')\r\n",
      "\r\n",
      "\t\tand l_quantity >= 22 and l_quantity <= 22 + 10\r\n",
      "\r\n",
      "\t\tand p_size between 1 and 15\r\n",
      "\r\n",
      "\t\tand l_shipmode in ('AIR', 'AIR REG')\r\n",
      "\r\n",
      "\t\tand l_shipinstruct = 'DELIVER IN PERSON'\r\n",
      "\r\n",
      "\t)\r\n",
      "\r\n",
      "LIMIT 1;"
     ]
    }
   ],
   "source": [
    "# Mostrando a consulta\n",
    "!cat /app/notebooks/tpch-pgsql/query_root/perf_query_gen/19.sql"
   ]
  },
  {
   "cell_type": "code",
   "execution_count": 98,
   "metadata": {},
   "outputs": [
    {
     "name": "stdout",
     "output_type": "stream",
     "text": [
      "   revenue    \r\n",
      "--------------\r\n",
      " 2616184.3224\r\n",
      "(1 row)\r\n",
      "\r\n"
     ]
    }
   ],
   "source": [
    "# Mostrando o resultado da consulta\n",
    "!PGPASSWORD=test123 psql -h localhost -p 5432 -U tpch -d tpchdb -f /app/notebooks/tpch-pgsql/query_root/perf_query_gen/19.sql"
   ]
  },
  {
   "cell_type": "markdown",
   "metadata": {},
   "source": [
    "#### Consulta 20.sql"
   ]
  },
  {
   "cell_type": "code",
   "execution_count": 99,
   "metadata": {},
   "outputs": [
    {
     "name": "stdout",
     "output_type": "stream",
     "text": [
      "-- using 1685448046 as a seed to the RNG\r\n",
      "\r\n",
      "\r\n",
      "\r\n",
      "\r\n",
      "select\r\n",
      "\r\n",
      "\ts_name,\r\n",
      "\r\n",
      "\ts_address\r\n",
      "\r\n",
      "from\r\n",
      "\r\n",
      "\tsupplier,\r\n",
      "\r\n",
      "\tnation\r\n",
      "\r\n",
      "where\r\n",
      "\r\n",
      "\ts_suppkey in (\r\n",
      "\r\n",
      "\t\tselect\r\n",
      "\r\n",
      "\t\t\tps_suppkey\r\n",
      "\r\n",
      "\t\tfrom\r\n",
      "\r\n",
      "\t\t\tpartsupp,\r\n",
      "\r\n",
      "\t\t\t(\r\n",
      "\r\n",
      "\t\t\t\tselect\r\n",
      "\r\n",
      "\t\t\t\t\tl_partkey agg_partkey,\r\n",
      "\r\n",
      "\t\t\t\t\tl_suppkey agg_suppkey,\r\n",
      "\r\n",
      "\t\t\t\t\t0.5 * sum(l_quantity) AS agg_quantity\r\n",
      "\r\n",
      "\t\t\t\tfrom\r\n",
      "\r\n",
      "\t\t\t\t\tlineitem\r\n",
      "\r\n",
      "\t\t\t\twhere\r\n",
      "\r\n",
      "\t\t\t\t\tl_shipdate >= date '1993-01-01'\r\n",
      "\r\n",
      "\t\t\t\t\tand l_shipdate < date '1993-01-01' + interval '1' year\r\n",
      "\r\n",
      "\t\t\t\tgroup by\r\n",
      "\r\n",
      "\t\t\t\t\tl_partkey,\r\n",
      "\r\n",
      "\t\t\t\t\tl_suppkey\r\n",
      "\r\n",
      "\t\t\t) agg_lineitem\r\n",
      "\r\n",
      "\t\twhere\r\n",
      "\r\n",
      "\t\t\tagg_partkey = ps_partkey\r\n",
      "\r\n",
      "\t\t\tand agg_suppkey = ps_suppkey\r\n",
      "\r\n",
      "\t\t\tand ps_partkey in (\r\n",
      "\r\n",
      "\t\t\t\tselect\r\n",
      "\r\n",
      "\t\t\t\t\tp_partkey\r\n",
      "\r\n",
      "\t\t\t\tfrom\r\n",
      "\r\n",
      "\t\t\t\t\tpart\r\n",
      "\r\n",
      "\t\t\t\twhere\r\n",
      "\r\n",
      "\t\t\t\t\tp_name like 'snow%'\r\n",
      "\r\n",
      "\t\t\t)\r\n",
      "\r\n",
      "\t\t\tand ps_availqty > agg_quantity\r\n",
      "\r\n",
      "\t)\r\n",
      "\r\n",
      "\tand s_nationkey = n_nationkey\r\n",
      "\r\n",
      "\tand n_name = 'VIETNAM'\r\n",
      "\r\n",
      "order by\r\n",
      "\r\n",
      "\ts_name\r\n",
      "\r\n",
      "LIMIT 1;\r\n",
      "\r\n"
     ]
    }
   ],
   "source": [
    "# Mostrando a consulta\n",
    "!cat /app/notebooks/tpch-pgsql/query_root/perf_query_gen/20.sql"
   ]
  },
  {
   "cell_type": "code",
   "execution_count": 100,
   "metadata": {},
   "outputs": [
    {
     "name": "stdout",
     "output_type": "stream",
     "text": [
      "          s_name           |                s_address                 \r\n",
      "---------------------------+------------------------------------------\r\n",
      " Supplier#000000068        | Ue6N50wH2CwE4PPgTGLmat,ibGYYlDoOb3xQwtgb\r\n",
      "(1 row)\r\n",
      "\r\n"
     ]
    }
   ],
   "source": [
    "# Mostrando o resultado da consulta\n",
    "!PGPASSWORD=test123 psql -h localhost -p 5432 -U tpch -d tpchdb -f /app/notebooks/tpch-pgsql/query_root/perf_query_gen/20.sql"
   ]
  },
  {
   "cell_type": "markdown",
   "metadata": {},
   "source": [
    "#### Consulta 21.sql"
   ]
  },
  {
   "cell_type": "code",
   "execution_count": 101,
   "metadata": {},
   "outputs": [
    {
     "name": "stdout",
     "output_type": "stream",
     "text": [
      "-- using 1685448046 as a seed to the RNG\r\n",
      "\r\n",
      "\r\n",
      "\r\n",
      "\r\n",
      "select\r\n",
      "\r\n",
      "\ts_name,\r\n",
      "\r\n",
      "\tcount(*) as numwait\r\n",
      "\r\n",
      "from\r\n",
      "\r\n",
      "\tsupplier,\r\n",
      "\r\n",
      "\tlineitem l1,\r\n",
      "\r\n",
      "\torders,\r\n",
      "\r\n",
      "\tnation\r\n",
      "\r\n",
      "where\r\n",
      "\r\n",
      "\ts_suppkey = l1.l_suppkey\r\n",
      "\r\n",
      "\tand o_orderkey = l1.l_orderkey\r\n",
      "\r\n",
      "\tand o_orderstatus = 'F'\r\n",
      "\r\n",
      "\tand l1.l_receiptdate > l1.l_commitdate\r\n",
      "\r\n",
      "\tand exists (\r\n",
      "\r\n",
      "\t\tselect\r\n",
      "\r\n",
      "\t\t\t*\r\n",
      "\r\n",
      "\t\tfrom\r\n",
      "\r\n",
      "\t\t\tlineitem l2\r\n",
      "\r\n",
      "\t\twhere\r\n",
      "\r\n",
      "\t\t\tl2.l_orderkey = l1.l_orderkey\r\n",
      "\r\n",
      "\t\t\tand l2.l_suppkey <> l1.l_suppkey\r\n",
      "\r\n",
      "\t)\r\n",
      "\r\n",
      "\tand not exists (\r\n",
      "\r\n",
      "\t\tselect\r\n",
      "\r\n",
      "\t\t\t*\r\n",
      "\r\n",
      "\t\tfrom\r\n",
      "\r\n",
      "\t\t\tlineitem l3\r\n",
      "\r\n",
      "\t\twhere\r\n",
      "\r\n",
      "\t\t\tl3.l_orderkey = l1.l_orderkey\r\n",
      "\r\n",
      "\t\t\tand l3.l_suppkey <> l1.l_suppkey\r\n",
      "\r\n",
      "\t\t\tand l3.l_receiptdate > l3.l_commitdate\r\n",
      "\r\n",
      "\t)\r\n",
      "\r\n",
      "\tand s_nationkey = n_nationkey\r\n",
      "\r\n",
      "\tand n_name = 'BRAZIL'\r\n",
      "\r\n",
      "group by\r\n",
      "\r\n",
      "\ts_name\r\n",
      "\r\n",
      "order by\r\n",
      "\r\n",
      "\tnumwait desc,\r\n",
      "\r\n",
      "\ts_name\r\n",
      "\r\n",
      "LIMIT 100;"
     ]
    }
   ],
   "source": [
    "# Mostrando a consulta\n",
    "!cat /app/notebooks/tpch-pgsql/query_root/perf_query_gen/21.sql"
   ]
  },
  {
   "cell_type": "code",
   "execution_count": 103,
   "metadata": {},
   "outputs": [
    {
     "name": "stdout",
     "output_type": "stream",
     "text": [
      "          s_name           | numwait \r\n",
      "---------------------------+---------\r\n",
      " Supplier#000009302        |      21\r\n",
      " Supplier#000000342        |      20\r\n",
      " Supplier#000000632        |      19\r\n",
      " Supplier#000002196        |      19\r\n",
      " Supplier#000003325        |      18\r\n",
      " Supplier#000005045        |      18\r\n",
      " Supplier#000006442        |      18\r\n",
      " Supplier#000003093        |      17\r\n",
      " Supplier#000003915        |      17\r\n",
      " Supplier#000004498        |      17\r\n",
      " Supplier#000000906        |      16\r\n",
      " Supplier#000001183        |      16\r\n",
      " Supplier#000001477        |      16\r\n",
      " Supplier#000006043        |      16\r\n",
      " Supplier#000000689        |      15\r\n",
      " Supplier#000001955        |      15\r\n",
      " Supplier#000002066        |      15\r\n",
      " Supplier#000002146        |      15\r\n",
      " Supplier#000003253        |      15\r\n",
      " Supplier#000003527        |      15\r\n",
      " Supplier#000003947        |      15\r\n",
      " Supplier#000004915        |      15\r\n",
      " Supplier#000004940        |      15\r\n",
      " Supplier#000005248        |      15\r\n",
      " Supplier#000006718        |      15\r\n",
      " Supplier#000007773        |      15\r\n",
      " Supplier#000008121        |      15\r\n",
      " Supplier#000008169        |      15\r\n",
      " Supplier#000008645        |      15\r\n",
      " Supplier#000008684        |      15\r\n",
      " Supplier#000009079        |      15\r\n",
      " Supplier#000009956        |      15\r\n",
      " Supplier#000000737        |      14\r\n",
      " Supplier#000000775        |      14\r\n",
      " Supplier#000001474        |      14\r\n",
      " Supplier#000001502        |      14\r\n",
      " Supplier#000001683        |      14\r\n",
      " Supplier#000003196        |      14\r\n",
      " Supplier#000004415        |      14\r\n",
      " Supplier#000005253        |      14\r\n",
      " Supplier#000005703        |      14\r\n",
      " Supplier#000006308        |      14\r\n",
      " Supplier#000006789        |      14\r\n",
      " Supplier#000007161        |      14\r\n",
      " Supplier#000007952        |      14\r\n",
      " Supplier#000008062        |      14\r\n",
      " Supplier#000008414        |      14\r\n",
      " Supplier#000008442        |      14\r\n",
      " Supplier#000008508        |      14\r\n",
      " Supplier#000009853        |      14\r\n",
      " Supplier#000000300        |      13\r\n",
      " Supplier#000000727        |      13\r\n",
      " Supplier#000000921        |      13\r\n",
      " Supplier#000000951        |      13\r\n",
      " Supplier#000000992        |      13\r\n",
      " Supplier#000001282        |      13\r\n",
      " Supplier#000001582        |      13\r\n",
      " Supplier#000001662        |      13\r\n",
      " Supplier#000002933        |      13\r\n",
      " Supplier#000003177        |      13\r\n",
      " Supplier#000003428        |      13\r\n",
      " Supplier#000003640        |      13\r\n",
      " Supplier#000004639        |      13\r\n",
      " Supplier#000004842        |      13\r\n",
      " Supplier#000004951        |      13\r\n",
      " Supplier#000005795        |      13\r\n",
      " Supplier#000005981        |      13\r\n",
      " Supplier#000006118        |      13\r\n",
      " Supplier#000006433        |      13\r\n",
      " Supplier#000006484        |      13\r\n",
      " Supplier#000007268        |      13\r\n",
      " Supplier#000008599        |      13\r\n",
      " Supplier#000008675        |      13\r\n",
      " Supplier#000009474        |      13\r\n",
      " Supplier#000009521        |      13\r\n",
      " Supplier#000000021        |      12\r\n",
      " Supplier#000000103        |      12\r\n",
      " Supplier#000000743        |      12\r\n",
      " Supplier#000001654        |      12\r\n",
      " Supplier#000001868        |      12\r\n",
      " Supplier#000002089        |      12\r\n",
      " Supplier#000002879        |      12\r\n",
      " Supplier#000003060        |      12\r\n",
      " Supplier#000003215        |      12\r\n",
      " Supplier#000003365        |      12\r\n",
      " Supplier#000003873        |      12\r\n",
      " Supplier#000003985        |      12\r\n",
      " Supplier#000004452        |      12\r\n",
      " Supplier#000005122        |      12\r\n",
      " Supplier#000005633        |      12\r\n",
      " Supplier#000005671        |      12\r\n",
      " Supplier#000005782        |      12\r\n",
      " Supplier#000006088        |      12\r\n",
      " Supplier#000006477        |      12\r\n",
      " Supplier#000006508        |      12\r\n",
      " Supplier#000006750        |      12\r\n",
      " Supplier#000006802        |      12\r\n",
      " Supplier#000008236        |      12\r\n",
      " Supplier#000009294        |      12\r\n",
      " Supplier#000009329        |      12\r\n",
      "(100 rows)\r\n",
      "\r\n"
     ]
    }
   ],
   "source": [
    "# Mostrando o resultado da consulta\n",
    "!PGPASSWORD=test123 psql -h localhost -p 5432 -U tpch -d tpchdb -f /app/notebooks/tpch-pgsql/query_root/perf_query_gen/21.sql"
   ]
  },
  {
   "cell_type": "markdown",
   "metadata": {},
   "source": [
    "#### Consulta 22.sql"
   ]
  },
  {
   "cell_type": "code",
   "execution_count": 104,
   "metadata": {},
   "outputs": [
    {
     "name": "stdout",
     "output_type": "stream",
     "text": [
      "-- using 1685448046 as a seed to the RNG\r\n",
      "\r\n",
      "\r\n",
      "\r\n",
      "\r\n",
      "select\r\n",
      "\r\n",
      "\tcntrycode,\r\n",
      "\r\n",
      "\tcount(*) as numcust,\r\n",
      "\r\n",
      "\tsum(c_acctbal) as totacctbal\r\n",
      "\r\n",
      "from\r\n",
      "\r\n",
      "\t(\r\n",
      "\r\n",
      "\t\tselect\r\n",
      "\r\n",
      "\t\t\tsubstring(c_phone from 1 for 2) as cntrycode,\r\n",
      "\r\n",
      "\t\t\tc_acctbal\r\n",
      "\r\n",
      "\t\tfrom\r\n",
      "\r\n",
      "\t\t\tcustomer\r\n",
      "\r\n",
      "\t\twhere\r\n",
      "\r\n",
      "\t\t\tsubstring(c_phone from 1 for 2) in\r\n",
      "\r\n",
      "\t\t\t\t('41', '44', '26', '35', '32', '29', '28')\r\n",
      "\r\n",
      "\t\t\tand c_acctbal > (\r\n",
      "\r\n",
      "\t\t\t\tselect\r\n",
      "\r\n",
      "\t\t\t\t\tavg(c_acctbal)\r\n",
      "\r\n",
      "\t\t\t\tfrom\r\n",
      "\r\n",
      "\t\t\t\t\tcustomer\r\n",
      "\r\n",
      "\t\t\t\twhere\r\n",
      "\r\n",
      "\t\t\t\t\tc_acctbal > 0.00\r\n",
      "\r\n",
      "\t\t\t\t\tand substring(c_phone from 1 for 2) in\r\n",
      "\r\n",
      "\t\t\t\t\t\t('41', '44', '26', '35', '32', '29', '28')\r\n",
      "\r\n",
      "\t\t\t)\r\n",
      "\r\n",
      "\t\t\tand not exists (\r\n",
      "\r\n",
      "\t\t\t\tselect\r\n",
      "\r\n",
      "\t\t\t\t\t*\r\n",
      "\r\n",
      "\t\t\t\tfrom\r\n",
      "\r\n",
      "\t\t\t\t\torders\r\n",
      "\r\n",
      "\t\t\t\twhere\r\n",
      "\r\n",
      "\t\t\t\t\to_custkey = c_custkey\r\n",
      "\r\n",
      "\t\t\t)\r\n",
      "\r\n",
      "\t) as custsale\r\n",
      "\r\n",
      "group by\r\n",
      "\r\n",
      "\tcntrycode\r\n",
      "\r\n",
      "order by\r\n",
      "\r\n",
      "\tcntrycode\r\n",
      "\r\n",
      "LIMIT 1;"
     ]
    }
   ],
   "source": [
    "# Mostrando a consulta\n",
    "!cat /app/notebooks/tpch-pgsql/query_root/perf_query_gen/22.sql"
   ]
  },
  {
   "cell_type": "code",
   "execution_count": 105,
   "metadata": {},
   "outputs": [
    {
     "name": "stdout",
     "output_type": "stream",
     "text": [
      " cntrycode | numcust | totacctbal \r\n",
      "-----------+---------+------------\r\n",
      " 26        |     859 | 6394689.13\r\n",
      "(1 row)\r\n",
      "\r\n"
     ]
    }
   ],
   "source": [
    "# Mostrando o resultado da consulta\n",
    "!PGPASSWORD=test123 psql -h localhost -p 5432 -U tpch -d tpchdb -f /app/notebooks/tpch-pgsql/query_root/perf_query_gen/22.sql"
   ]
  },
  {
   "cell_type": "markdown",
   "metadata": {},
   "source": [
    "--------------------------------------------\n",
    "### Tarefa 4 – Identificação do Sistema\n",
    "Identifique o sistema que será usado para os experimentos, incluindo informações sobre o hardware e o Sistema Operacional utilizado.\n",
    "Sobre o tipo de processador, quantidade de memória RAM, tamanho do disco.\n",
    "Devem ser também apresentadas informações sobre as caches existentes.\n",
    "Sobre o Sistema Operacional, que devem ser Linux, incluir informações sobre qual a distribuição usada, versão do sistema,\n",
    "versão do Kernel, etc.\n",
    "\n",
    "__Entrega:__ As informações pedidas devem ser apresentadas no jupyter notebook\n",
    "\n",
    "<span style=\"color:orange\">__Resposta:__</span> \n",
    "\n",
    "- **Marca do Notebook:** Dell Inc. Inspiron 5480\n",
    "\n",
    "- **Tipo de Processador:** Intel® Core™ i5-8265U CPU @ 1.60GHz × 8\n",
    "\n",
    "- **Quantidade de Memória RAM:** 8 GB\n",
    "\n",
    "- **Tamanho do Disco:** 1 TB\n",
    "\n",
    "- **Caches Existentes:**    \n",
    "\n",
    "  L1d: 128 KiB (4 instances)\n",
    "\n",
    "  L1i: 128 KiB (4 instances)\n",
    "\n",
    "  L2: 1 MiB (4 instances)\n",
    "\n",
    "  L3: 6 MiB (1 instance)\n",
    "\n",
    "- **Sistema Operacional:** Ubuntu 22.04 LTS 64 bits\n",
    "\n",
    "- **Dsitribuição Linux:** Ubuntu\n",
    "\n",
    "- **Versão do Sistema:** 22.04 (Jammy Jellyfish)\n",
    "\n",
    "- **Versão do Kernel:** 5.19.0-42-generic\n",
    "\n"
   ]
  },
  {
   "cell_type": "markdown",
   "metadata": {},
   "source": [
    "--------------------------------------------\n",
    "### Tarefa 5 - Verificação de parâmetros de armazenamento\n",
    "**a)** Verifique no disco que será usado para os experimentos no laboratório os seguintes parâmetros: Nr. de superfícies, cilindros, setores por trilha, velocidade de rotação, latência rotacional; tempos de seek médio, máximo e mínimo; tempo para a próxima trilha; e taxa de transferência."
   ]
  },
  {
   "attachments": {
    "image-2.png": {
     "image/png": "[encoded data removed]"
    },
    "image.png": {
     "image/png": "[encoded data removed]"
    }
   },
   "cell_type": "markdown",
   "metadata": {},
   "source": [
    "<span style=\"color:orange\">__Resposta letra A:__</span> \n",
    "\n",
    "utilizando o comando **sudo hdparm -I /dev/sda**, verificamos as seguintes especificações:\n",
    "\n",
    "![image.png](attachment:image.png)\n",
    "\n",
    "![image-2.png](attachment:image-2.png)\n",
    "\n",
    "- **Nr. de superfícies:** 16\n",
    "- **Cilindros:** 16383\n",
    "- **Setores por trilha:** 63 \n",
    "- **Velocidade de rotação:** 5400 RPM \n",
    "- **Latência rotacional:** [não temos como verificar no notebook pois estamos remotamente, e não localmente]\n",
    "- **Tempos de seek médio, máximo e mínimo:** [não temos como verificar no notebook pois estamos remotamente, e não localmente]\n",
    "- **Tempo para a próxima trilha:** [não temos como verificar no notebook pois estamos remotamente, e não localmente]\n",
    "- **Taxa de transferência:** [não temos como verificar no notebook pois estamos remotamente, e não localmente]"
   ]
  },
  {
   "cell_type": "markdown",
   "metadata": {},
   "source": [
    "**b)** Utilizando o comando “hdparm” do Linux, verifique os parâmetros dos parâmetros de S.O. que serão utilizados para o disco.\n",
    "\n",
    "<span style=\"color:orange\">__Resposta letra B:__</span> Com base na saída da célula da letra anterior, podemos extrair algumas informações relevantes sobre os parâmetros do SO utilizado pelo disco: \n",
    "\n",
    "- O disco é um modelo WDC WD10SPZX-75Z10T2 da Western Digital, com firmware na versão 03.01A03.\n",
    "\n",
    "- O disco utiliza a interface Serial ATA (SATA) e suporta várias revisões dessa interface, incluindo SATA 1.0a, SATA II Extensions, SATA Rev 2.5, SATA Rev 2.6 e SATA Rev 3.0.\n",
    "\n",
    "- O tamanho lógico do setor é de 512 bytes, enquanto o tamanho físico do setor é de 4096 bytes.\n",
    "\n",
    "- O disco é do tipo de 2,5 polegadas e possui uma velocidade nominal de rotação de 5400 RPM (rotações por minuto).\n",
    "\n",
    "- Os recursos e comandos suportados pelo disco incluem SMART (Self-Monitoring, Analysis and Reporting Technology), Power Management, Write Cache, Look-ahead, Advanced Power Management, 48-bit Address, FLUSH_CACHE, SMART error logging, SMART self-test, General Purpose Logging, Native Command Queueing (NCQ), entre outros."
   ]
  },
  {
   "attachments": {
    "image.png": {
     "image/png": "[encoded data removed]"
    }
   },
   "cell_type": "markdown",
   "metadata": {},
   "source": [
    "**c)** Verifique o tamanho de bloco utilizado e mostre como alterar o tamanho dos blocos\n",
    "\n",
    "__Entrega:__  Os resultados de cada verificação devem ser preenchidas no jupyter notebook\n",
    "\n",
    "<span style=\"color:orange\">__Resposta letra C:__</span>\n",
    "\n",
    "utilizando o comando **sudo blockdev --getbsz /dev/sda**, podemos verificar o tamanho do bloco:\n",
    "\n",
    "![image.png](attachment:image.png)\n",
    "\n",
    "para alterar o tamanho dos blocos basta o comando: **udo blockdev --setbsz Tamanho_Desejado /dev/sda**"
   ]
  }
 ],
 "metadata": {
  "kernelspec": {
   "display_name": "Python 3 (ipykernel)",
   "language": "python",
   "name": "python3"
  },
  "language_info": {
   "codemirror_mode": {
    "name": "ipython",
    "version": 3
   },
   "file_extension": ".py",
   "mimetype": "text/x-python",
   "name": "python",
   "nbconvert_exporter": "python",
   "pygments_lexer": "ipython3",
   "version": "3.10.6"
  }
 },
 "nbformat": 4,
 "nbformat_minor": 2
}
