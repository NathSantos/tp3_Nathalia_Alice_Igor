{
 "cells": [
  {
   "attachments": {},
   "cell_type": "markdown",
   "metadata": {},
   "source": [
    "***\n",
    "## Parte III\n",
    "O objetivo desta parte do trabalho é analisar o comportamento dos índices das tabelas do SGBD através\n",
    "do exame e análise das tabelas de estatísticas para consultas SQL sobre as tabelas “movies”, “actors”,\n",
    "“casting”, e sobre uma tabela criada com dados aleatórios. Esta tarefa deverá ser executada somente com\n",
    "o PostgreSQL.\n",
    "\n",
    "- _Alice Teles Lucena_\n",
    "- _Igor de Souza Lima_\n",
    "- _Nathália Rodrigues Machado dos Santos_"
   ]
  },
  {
   "cell_type": "code",
   "execution_count": 1,
   "metadata": {},
   "outputs": [
    {
     "name": "stdout",
     "output_type": "stream",
     "text": [
      "Conexão estabelecida com o Banco de Dados !!!\n"
     ]
    }
   ],
   "source": [
    "# Fazendo a conexão com o banco de dados\n",
    "import psycopg2\n",
    "\n",
    "conn = psycopg2.connect( \n",
    "    host=\"localhost\",\n",
    "    port=\"5432\",\n",
    "    database=\"tpchdb\",\n",
    "    user=\"tpch\",\n",
    "    password=\"test123\"\n",
    ")\n",
    "\n",
    "cursor = conn.cursor()\n",
    "\n",
    "print(\"Conexão estabelecida com o Banco de Dados !!!\")"
   ]
  },
  {
   "attachments": {},
   "cell_type": "markdown",
   "metadata": {},
   "source": [
    "--------------------------------------------\n",
    "### Tarefa 10 – Preparação de Tabela Exemplo\n",
    "Criar uma tabela com uma chave simples e alguns dados de exemplo. Cada valor de chave é um número\n",
    "incremental e está associado a com valores que variam de 0 até 10:\n",
    "\n",
    "> `DROP TABLE IF EXISTS t;`\n",
    "> \n",
    "> `CREATE TABLE t (k serial PRIMARY KEY, v integer);`\n",
    "> \n",
    "> `INSERT INTO t(v)`\n",
    "> \n",
    "> `SELECT trunc(random() * 10) FROM generate_series(1,100000);`\n",
    "\n",
    "__Entrega__: Imprimir os valores das 10 primeiras tuplas da tabela, ordenando por k.\n",
    "\n",
    "<span style=\"color:orange\">__Resposta:__</span>"
   ]
  },
  {
   "cell_type": "code",
   "execution_count": 2,
   "metadata": {},
   "outputs": [],
   "source": [
    "# Criando a tabela\n",
    "cursor.execute(\"DROP TABLE IF EXISTS t; CREATE TABLE t (k serial PRIMARY KEY, v integer); INSERT INTO t(v) SELECT trunc(random() * 10) FROM generate_series(1,100000);\")"
   ]
  },
  {
   "cell_type": "code",
   "execution_count": 3,
   "metadata": {},
   "outputs": [
    {
     "name": "stdout",
     "output_type": "stream",
     "text": [
      "(1, 3)\n",
      "(2, 1)\n",
      "(3, 3)\n",
      "(4, 7)\n",
      "(5, 0)\n",
      "(6, 5)\n",
      "(7, 5)\n",
      "(8, 6)\n",
      "(9, 8)\n",
      "(10, 7)\n"
     ]
    }
   ],
   "source": [
    "# Executando a query para imprimir os valores das 10 primeiras tuplas\n",
    "cursor.execute(\"SELECT * FROM t LIMIT 10 OFFSET 0;\")\n",
    "\n",
    "rows = cursor.fetchall()\n",
    "for row in rows:\n",
    "    print(row)"
   ]
  },
  {
   "attachments": {},
   "cell_type": "markdown",
   "metadata": {},
   "source": [
    "--------------------------------------------\n",
    "### Tarefa 11 – Páginas criadas\n",
    "Verifique quantas páginas com blocos foram criadas para a tabela da Tarefa 11.\n",
    ">`SELECT relname, relpages, reltuples FROM pg_class WHERE relname='t';`\n",
    "\n",
    "__Entrega:__ Imprimir o resultado do comando SQL.\n",
    "\n",
    "<span style=\"color:orange\">__Resposta:__</span>"
   ]
  },
  {
   "cell_type": "code",
   "execution_count": 4,
   "metadata": {},
   "outputs": [
    {
     "name": "stdout",
     "output_type": "stream",
     "text": [
      "Total de páginas: 722\n"
     ]
    }
   ],
   "source": [
    "# Executando o comando SQL\n",
    "cursor.execute(\"\"\"\n",
    "    SELECT ceil(pg_total_relation_size('t') / current_setting('block_size')::numeric)\n",
    "    FROM pg_class\n",
    "    WHERE relname = 't'\n",
    "\"\"\")\n",
    "\n",
    "result = cursor.fetchone()\n",
    "print(\"Total de páginas:\", result[0])"
   ]
  },
  {
   "attachments": {},
   "cell_type": "markdown",
   "metadata": {},
   "source": [
    "--------------------------------------------\n",
    "### Tarefa 12 – Blocos\n",
    "Verifique quantos blocos foram efetivamente usados numa consulta\n",
    "\n",
    ">`SELECT pg_sleep(1);`\n",
    ">\n",
    ">`\\pset x on`\n",
    ">\n",
    ">`SELECT * FROM pg_stats WHERE relname='t';`\n",
    ">\n",
    ">`SELECT pg_stat_reset();`\n",
    ">\n",
    ">`\\pset x off`\n",
    "\n",
    "__Observação:__ Em algumas versões do PostgreSQL, o atributo é chamado de tablename em vez de\n",
    "relname.\n",
    "\n",
    "__Entrega:__ Imprimir o resultado do comando SQL.\n",
    "\n",
    "<span style=\"color:orange\">__Resposta:__</span>"
   ]
  },
  {
   "cell_type": "code",
   "execution_count": 5,
   "metadata": {},
   "outputs": [
    {
     "name": "stdout",
     "output_type": "stream",
     "text": [
      "Total de blocos na consulta:  3\n"
     ]
    }
   ],
   "source": [
    "cursor.execute(\"EXPLAIN (ANALYZE, BUFFERS) SELECT * FROM t ORDER BY k LIMIT 10\")\n",
    "\n",
    "result = cursor.fetchall()\n",
    "\n",
    "for row in result:\n",
    "    if \"Buffers:\" in row[0]:\n",
    "        blocks_used = int(row[0].split(\"=\")[1].split()[0])\n",
    "        print(\"Total de blocos na consulta: \", blocks_used)\n",
    "        break"
   ]
  },
  {
   "attachments": {},
   "cell_type": "markdown",
   "metadata": {},
   "source": [
    "--------------------------------------------\n",
    "### Tarefa 13 – Índice\n",
    "Crie um índice para o atributo ‘v’ e realize consultas e criação de índice\n",
    "\n",
    "a) Qual o tempo gasto para realizar uma consulta para um valor (tendo a tabela 100000 tuplas)?\n",
    "\n",
    "<span style=\"color:orange\">__Resposta Letra A:__</span>"
   ]
  },
  {
   "cell_type": "code",
   "execution_count": 6,
   "metadata": {},
   "outputs": [],
   "source": [
    "import time\n",
    "\n",
    "# Criando um índice para o atributo 'v'\n",
    "cursor.execute(\"CREATE INDEX idx_v ON t(v);\")"
   ]
  },
  {
   "cell_type": "code",
   "execution_count": 7,
   "metadata": {},
   "outputs": [
    {
     "name": "stdout",
     "output_type": "stream",
     "text": [
      "Tempo gasto para realizar a consulta:  0.0008096694946289062  segundos\n"
     ]
    }
   ],
   "source": [
    "# Realizando uma consulta para um valor específico (100)\n",
    "start_time = time.time()\n",
    "cursor.execute(\"SELECT * FROM t WHERE v = 100;\")\n",
    "end_time = time.time()\n",
    "execution_time = end_time - start_time\n",
    "print(\"Tempo gasto para realizar a consulta: \", execution_time, \" segundos\")"
   ]
  },
  {
   "attachments": {},
   "cell_type": "markdown",
   "metadata": {},
   "source": [
    "b) Qual o tempo gasto para recriar um índice para o atributo ‘v’?\n",
    "\n",
    "<span style=\"color:orange\">__Resposta Letra B:__</span>"
   ]
  },
  {
   "cell_type": "code",
   "execution_count": 8,
   "metadata": {},
   "outputs": [
    {
     "name": "stdout",
     "output_type": "stream",
     "text": [
      "Tempo gasto para recriar o índice:  0.5513639450073242  segundos\n"
     ]
    }
   ],
   "source": [
    "# Removendo o índice existente\n",
    "cursor.execute(\"DROP INDEX idx_v;\")\n",
    "\n",
    "# Recriando o índice para o atributo 'v'\n",
    "start_time = time.time()\n",
    "cursor.execute(\"CREATE INDEX idx_v ON t(v);\")\n",
    "end_time = time.time()\n",
    "execution_time = end_time - start_time\n",
    "print(\"Tempo gasto para recriar o índice: \", execution_time, \" segundos\")"
   ]
  },
  {
   "attachments": {},
   "cell_type": "markdown",
   "metadata": {},
   "source": [
    "Remova a tabela ‘t’ e crie novamente com 1.0000.000 de tuplas\n",
    "\n",
    "c) Qual o tempo gasto para realizar uma consulta para um valor específico?\n",
    "\n",
    "<span style=\"color:orange\">__Resposta Letra C:__</span>"
   ]
  },
  {
   "cell_type": "code",
   "execution_count": 9,
   "metadata": {},
   "outputs": [
    {
     "name": "stdout",
     "output_type": "stream",
     "text": [
      "Tempo gasto para realizar a consulta:  0.03661775588989258  segundos\n"
     ]
    }
   ],
   "source": [
    "# Removendo a tabela existente\n",
    "cursor.execute(\"DROP TABLE IF EXISTS t;\")\n",
    "\n",
    "# Criando novamente a tabela com 1.000.000 de tuplas\n",
    "cursor.execute(\"CREATE TABLE t (k serial PRIMARY KEY, v integer); INSERT INTO t(v) SELECT trunc(random() * 10) FROM generate_series(1,1000000);\")\n",
    "\n",
    "# Realizando uma consulta para um valor específico (100)\n",
    "start_time = time.time()\n",
    "cursor.execute(\"SELECT * FROM t WHERE v = 100;\")\n",
    "end_time = time.time()\n",
    "execution_time = end_time - start_time\n",
    "print(\"Tempo gasto para realizar a consulta: \", execution_time, \" segundos\")"
   ]
  },
  {
   "attachments": {},
   "cell_type": "markdown",
   "metadata": {},
   "source": [
    "d) Qual o tempo gasto para recriar um índice para o atributo ‘v’?\n",
    "\n",
    "<span style=\"color:orange\">__Resposta Letra D:__</span>"
   ]
  },
  {
   "cell_type": "code",
   "execution_count": 10,
   "metadata": {},
   "outputs": [
    {
     "name": "stdout",
     "output_type": "stream",
     "text": [
      "Tempo gasto para recriar o índice:  0.9239134788513184  segundos\n"
     ]
    }
   ],
   "source": [
    "# Verificando a existência do índice\n",
    "cursor.execute(\"\"\"\n",
    "    SELECT EXISTS (\n",
    "        SELECT 1\n",
    "        FROM pg_indexes\n",
    "        WHERE indexname = 'idx_v');\n",
    "\"\"\")\n",
    "\n",
    "index_exists = cursor.fetchone()[0]\n",
    "\n",
    "if index_exists:\n",
    "    # Removendo o índice existente\n",
    "    cursor.execute(\"DROP INDEX idx_v;\")\n",
    "\n",
    "# Recriando o índice para o atributo 'v'\n",
    "start_time = time.time()\n",
    "cursor.execute(\"CREATE INDEX idx_v ON t(v);\")\n",
    "end_time = time.time()\n",
    "execution_time = end_time - start_time\n",
    "print(\"Tempo gasto para recriar o índice: \", execution_time, \" segundos\")"
   ]
  },
  {
   "attachments": {},
   "cell_type": "markdown",
   "metadata": {},
   "source": [
    "--------------------------------------------\n",
    "### Tarefa 14 - Fill factor\n",
    "Quando se cria um novo índice, nem toda entrada no bloco do índice é usada. Um espaço livre é deixado,\n",
    "conforme o parâmetro fillfactor.\n",
    "\n",
    "Crie novos índices usando fillfactor = 60, 80, 90 e 100. Analise o desempenho de suas consultas usando as\n",
    "mesmas condições da Tarefa 14.\n",
    "\n",
    ">`ALTER TABLE foo SET ( fillfactor = 50);`\n",
    ">\n",
    "> `VACUUM FULL foo;`\n",
    "\n",
    "__Entrega:__ Relatório com o resultado das perguntas\n",
    "\n",
    "<span style=\"color:orange\">__Resposta:__</span>"
   ]
  },
  {
   "cell_type": "code",
   "execution_count": 11,
   "metadata": {},
   "outputs": [
    {
     "name": "stdout",
     "output_type": "stream",
     "text": [
      "Tempo gasto para realizar a consulta:  0.001329183578491211  segundos\n"
     ]
    }
   ],
   "source": [
    "# FILLFACTOR 60\n",
    "cursor.execute(\"CREATE INDEX idx_60 ON t(v) WITH (fillfactor = 60);\")\n",
    "\n",
    "# Realizando uma consulta para um valor específico (100)\n",
    "start_time = time.time()\n",
    "cursor.execute(\"SELECT * FROM t WHERE v = 100;\")\n",
    "end_time = time.time()\n",
    "execution_time = end_time - start_time\n",
    "print(\"Tempo gasto para realizar a consulta: \", execution_time, \" segundos\")"
   ]
  },
  {
   "cell_type": "code",
   "execution_count": 12,
   "metadata": {},
   "outputs": [
    {
     "name": "stdout",
     "output_type": "stream",
     "text": [
      "Tempo gasto para realizar a consulta:  0.0013377666473388672  segundos\n"
     ]
    }
   ],
   "source": [
    "# FILLFACTOR 80\n",
    "cursor.execute(\"CREATE INDEX idx_80 ON t(v) WITH (fillfactor = 80);\")\n",
    "\n",
    "# Realizando uma consulta para um valor específico (100)\n",
    "start_time = time.time()\n",
    "cursor.execute(\"SELECT * FROM t WHERE v = 100;\")\n",
    "end_time = time.time()\n",
    "execution_time = end_time - start_time\n",
    "print(\"Tempo gasto para realizar a consulta: \", execution_time, \" segundos\")"
   ]
  },
  {
   "cell_type": "code",
   "execution_count": 13,
   "metadata": {},
   "outputs": [
    {
     "name": "stdout",
     "output_type": "stream",
     "text": [
      "Tempo gasto para realizar a consulta:  0.0012090206146240234  segundos\n"
     ]
    }
   ],
   "source": [
    "# FILLFACTOR 90\n",
    "cursor.execute(\"CREATE INDEX idx_90 ON t(v) WITH (fillfactor = 90);\")\n",
    "\n",
    "# Realizando uma consulta para um valor específico (100)\n",
    "start_time = time.time()\n",
    "cursor.execute(\"SELECT * FROM t WHERE v = 100;\")\n",
    "end_time = time.time()\n",
    "execution_time = end_time - start_time\n",
    "print(\"Tempo gasto para realizar a consulta: \", execution_time, \" segundos\")"
   ]
  },
  {
   "cell_type": "code",
   "execution_count": 14,
   "metadata": {},
   "outputs": [
    {
     "name": "stdout",
     "output_type": "stream",
     "text": [
      "Tempo gasto para realizar a consulta:  0.0014634132385253906  segundos\n"
     ]
    }
   ],
   "source": [
    "# FILLFACTOR 100\n",
    "cursor.execute(\"CREATE INDEX idx_100 ON t(v) WITH (fillfactor = 100);\")\n",
    "\n",
    "# Realizando uma consulta para um valor específico (100)\n",
    "start_time = time.time()\n",
    "cursor.execute(\"SELECT * FROM t WHERE v = 100;\")\n",
    "end_time = time.time()\n",
    "execution_time = end_time - start_time\n",
    "print(\"Tempo gasto para realizar a consulta: \", execution_time, \" segundos\")"
   ]
  },
  {
   "attachments": {},
   "cell_type": "markdown",
   "metadata": {},
   "source": [
    "--------------------------------------------\n",
    "### Tarefa 15 – Usando índice com múltiplas colunas\n",
    "- Use as tabelas movies, actor e casting e realize a criação de índice que utilizem 2, 3 e 4 colunas.\n",
    "- Use a tabela com 1000 tuplas e relate o desempenho de suas consultas.\n",
    "- Use a tabela com mais de 100.000 tuplas e relate o desempenho de suas consultas.\n",
    "\n",
    "__Entrega:__ Relatório com o resultado do desempenho\n",
    "\n",
    "<span style=\"color:red\">__QUESTÃO ANULADA__</span>"
   ]
  },
  {
   "attachments": {},
   "cell_type": "markdown",
   "metadata": {},
   "source": [
    "--------------------------------------------\n",
    "### Tarefa 16 - Utilize índices com ordem DESC\n",
    "Repita os testes das Tarefas 11,12 e 13 usando índices descendentes. Avalie e registre na ficha\n",
    "\n",
    "> `CREATE INDEX i ON t(v DESC NULLS FIRST);`\n",
    "\n",
    "__Entrega:__ Relatório com o resultado da avaliação\n",
    "\n",
    "<span style=\"color:orange\">__Resposta:__</span>"
   ]
  },
  {
   "cell_type": "code",
   "execution_count": 26,
   "metadata": {},
   "outputs": [
    {
     "name": "stdout",
     "output_type": "stream",
     "text": [
      "Total de páginas: 809\n"
     ]
    }
   ],
   "source": [
    "# REFAZENDO TAREFA 11 - ÍNDICES DECRESCENTES\n",
    "# -------------------------------------------------\n",
    "# Executando o comando SQL\n",
    "\n",
    "cursor.execute(\"CREATE INDEX idx_v11 ON t(v DESC NULLS FIRST);\")\n",
    "cursor.execute(\"\"\"\n",
    "    SELECT ceil(pg_total_relation_size('t') / current_setting('block_size')::numeric)\n",
    "    FROM pg_class\n",
    "    WHERE relname = 't'\n",
    "\"\"\")\n",
    "\n",
    "result = cursor.fetchone()\n",
    "print(\"Total de páginas:\", result[0])"
   ]
  },
  {
   "cell_type": "code",
   "execution_count": 27,
   "metadata": {},
   "outputs": [
    {
     "name": "stdout",
     "output_type": "stream",
     "text": [
      "Total de blocos na consulta:  3\n"
     ]
    }
   ],
   "source": [
    "# REFAZENDO TAREFA 12 - ÍNDICES DECRESCENTES\n",
    "# -------------------------------------------------\n",
    "cursor.execute(\"EXPLAIN (ANALYZE, BUFFERS) SELECT * FROM t ORDER BY k LIMIT 10\")\n",
    "\n",
    "result = cursor.fetchall()\n",
    "\n",
    "for row in result:\n",
    "    if \"Buffers:\" in row[0]:\n",
    "        blocks_used = int(row[0].split(\"=\")[1].split()[0])\n",
    "        print(\"Total de blocos na consulta: \", blocks_used)\n",
    "        break"
   ]
  },
  {
   "cell_type": "code",
   "execution_count": 28,
   "metadata": {
    "scrolled": true
   },
   "outputs": [
    {
     "name": "stdout",
     "output_type": "stream",
     "text": [
      "a) Tempo gasto para realizar a consulta:  0.0015437602996826172  segundos\n",
      "b) Tempo gasto para recriar o índice:  0.1456279754638672  segundos\n",
      "c) Tempo gasto para realizar a consulta:  0.025614500045776367  segundos\n",
      "d) Tempo gasto para recriar o índice:  0.8664169311523438  segundos\n"
     ]
    }
   ],
   "source": [
    "# REFAZENDO TAREFA 13 - ÍNDICES DECRESCENTES\n",
    "# -------------------------------------------------\n",
    "\n",
    "# Criando um índice para o atributo 'v'\n",
    "cursor.execute(\"CREATE INDEX idx_v13 ON t(v DESC NULLS FIRST);\")\n",
    "\n",
    "# Realizando uma consulta para um valor específico (100)\n",
    "start_time = time.time()\n",
    "cursor.execute(\"SELECT * FROM t WHERE v = 100;\")\n",
    "end_time = time.time()\n",
    "execution_time = end_time - start_time\n",
    "print(\"a) Tempo gasto para realizar a consulta: \", execution_time, \" segundos\")\n",
    "\n",
    "# -------------------------------------------------\n",
    "# Removendo o índice existente\n",
    "cursor.execute(\"DROP INDEX idx_v13;\")\n",
    "\n",
    "# Recriando o índice para o atributo 'v'\n",
    "start_time = time.time()\n",
    "cursor.execute(\"CREATE INDEX idx_v13 ON t(v DESC NULLS FIRST);\")\n",
    "end_time = time.time()\n",
    "execution_time = end_time - start_time\n",
    "print(\"b) Tempo gasto para recriar o índice: \", execution_time, \" segundos\")\n",
    "\n",
    "# -------------------------------------------------\n",
    "# Removendo a tabela existente\n",
    "cursor.execute(\"DROP TABLE IF EXISTS t;\")\n",
    "\n",
    "# Criando novamente a tabela com 1.000.000 de tuplas\n",
    "cursor.execute(\"CREATE TABLE t (k serial PRIMARY KEY, v integer); INSERT INTO t(v) SELECT trunc(random() * 10) FROM generate_series(1,1000000);\")\n",
    "\n",
    "# Realizando uma consulta para um valor específico (100)\n",
    "start_time = time.time()\n",
    "cursor.execute(\"SELECT * FROM t WHERE v = 100;\")\n",
    "end_time = time.time()\n",
    "execution_time = end_time - start_time\n",
    "print(\"c) Tempo gasto para realizar a consulta: \", execution_time, \" segundos\")\n",
    "\n",
    "# -------------------------------------------------\n",
    "# Verificando a existência do índice\n",
    "cursor.execute(\"\"\"\n",
    "    SELECT EXISTS (\n",
    "        SELECT 1\n",
    "        FROM pg_indexes\n",
    "        WHERE indexname = 'idx_v13');\n",
    "\"\"\")\n",
    "\n",
    "index_exists = cursor.fetchone()[0]\n",
    "\n",
    "if index_exists:\n",
    "    # Removendo o índice existente\n",
    "    cursor.execute(\"DROP INDEX idx_v13;\")\n",
    "\n",
    "# Recriando o índice para o atributo 'v'\n",
    "start_time = time.time()\n",
    "cursor.execute(\"CREATE INDEX idx_v13 ON t(v DESC NULLS FIRST);\")\n",
    "end_time = time.time()\n",
    "execution_time = end_time - start_time\n",
    "print(\"d) Tempo gasto para recriar o índice: \", execution_time, \" segundos\")"
   ]
  },
  {
   "cell_type": "code",
   "execution_count": null,
   "metadata": {},
   "outputs": [],
   "source": []
  }
 ],
 "metadata": {
  "kernelspec": {
   "display_name": "Python 3 (ipykernel)",
   "language": "python",
   "name": "python3"
  },
  "language_info": {
   "codemirror_mode": {
    "name": "ipython",
    "version": 3
   },
   "file_extension": ".py",
   "mimetype": "text/x-python",
   "name": "python",
   "nbconvert_exporter": "python",
   "pygments_lexer": "ipython3",
   "version": "3.10.6"
  }
 },
 "nbformat": 4,
 "nbformat_minor": 2
}
